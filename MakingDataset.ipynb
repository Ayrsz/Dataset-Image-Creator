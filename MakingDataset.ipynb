{
  "cells": [
    {
      "cell_type": "code",
      "execution_count": null,
      "metadata": {
        "id": "0Fxn3Og-YS1X"
      },
      "outputs": [],
      "source": [
        "import cv2 as cv\n",
        "import csv\n",
        "from matplotlib import pyplot as plt\n",
        "import numpy as np\n",
        "from google.colab.patches import cv2_imshow\n",
        "import imutils\n",
        "import scipy as sci\n",
        "from skimage.metrics import structural_similarity as calc_ssim\n",
        "from itertools import permutations"
      ]
    },
    {
      "cell_type": "code",
      "execution_count": null,
      "metadata": {
        "id": "VX9_LUsdKR6B"
      },
      "outputs": [],
      "source": [
        "image_test = cv.imread(\"/content/corgi.jpg\")"
      ]
    },
    {
      "cell_type": "markdown",
      "metadata": {
        "id": "4wCisxVlaqWC"
      },
      "source": [
        "# **Distortions Types**"
      ]
    },
    {
      "cell_type": "markdown",
      "metadata": {
        "id": "kB_Va3PVaqWD"
      },
      "source": [
        "## **Blur**\n",
        "- Gaussian Blur\n",
        "- Motion's Blur"
      ]
    },
    {
      "cell_type": "markdown",
      "metadata": {
        "id": "M-nOVGllaqWD"
      },
      "source": [
        "### **Gaussian Blur**"
      ]
    },
    {
      "cell_type": "code",
      "execution_count": null,
      "metadata": {
        "id": "RQYrJnxYaqWE"
      },
      "outputs": [],
      "source": [
        "def gaussian_blur(image, sigma, kernel_size):\n",
        "  return cv.GaussianBlur(image, (kernel_size,kernel_size), sigma)"
      ]
    },
    {
      "cell_type": "code",
      "execution_count": null,
      "metadata": {
        "id": "2tZSgAMeaqWF"
      },
      "outputs": [],
      "source": [
        "def generate_gaussian_blur(image, sigmas = None, kernel_size = None):\n",
        "  if sigmas is None:\n",
        "    sigmas = [0.5, 1, 3, 7, 10]\n",
        "    kernel_size = [11,11,11,11,11]\n",
        "  images = []\n",
        "\n",
        "  for i in range(len(sigmas)):\n",
        "    images.append(gaussian_blur(image, sigmas[i], kernel_size[i]))\n",
        "\n",
        "  return images\n",
        "\n",
        "#cv2_imshow(generate_gaussian_blur(image_test)[3])"
      ]
    },
    {
      "cell_type": "markdown",
      "metadata": {
        "id": "xdhflDkFaqWG"
      },
      "source": [
        "### Motion Blur"
      ]
    },
    {
      "cell_type": "code",
      "execution_count": null,
      "metadata": {
        "id": "RJOrRssfaqWG"
      },
      "outputs": [],
      "source": [
        "def motion_blur(image, kernelsize):\n",
        "\n",
        "  middle = kernelsize/2\n",
        "  middle = int(middle)\n",
        "\n",
        "  horizontalKernel = np.zeros((kernelsize, kernelsize))\n",
        "  horizontalKernel = cv.line(horizontalKernel, pt1 = (0, middle), pt2 = (kernelsize, middle), color = 1)*1/kernelsize\n",
        "\n",
        "  verticalKernel = np.zeros((kernelsize, kernelsize))\n",
        "  verticalKernel = cv.line(verticalKernel, pt1 = (middle, 0) , pt2 = (middle, kernelsize) , color = 1)*1/kernelsize\n",
        "\n",
        "\n",
        "  diagonalKernel = np.zeros((kernelsize, kernelsize))\n",
        "  diagonalKernel = cv.line(diagonalKernel, pt1 = (0, 0) , pt2 = (kernelsize, kernelsize) , color = 1)*1/kernelsize\n",
        "\n",
        "  vertical = cv.filter2D(image, -1, verticalKernel)\n",
        "  horizontal = cv.filter2D(image, -1, horizontalKernel)\n",
        "  diagonal = cv.filter2D(image, -1, diagonalKernel)\n",
        "\n",
        "  return horizontal, vertical, diagonal"
      ]
    },
    {
      "cell_type": "code",
      "execution_count": null,
      "metadata": {
        "id": "gpOfppxMaqWH"
      },
      "outputs": [],
      "source": [
        "def generate_motion_blur(image, kernels = None):\n",
        "  if kernels is None:\n",
        "    kernels = [2, 6, 9, 10, 12]\n",
        "\n",
        "  images = []\n",
        "\n",
        "  for i in range(len(kernels)):\n",
        "    horizontal, vertical, diagonal = motion_blur(image, kernels[i])\n",
        "    images.append(horizontal)\n",
        "    images.append(vertical)\n",
        "    images.append(diagonal)\n",
        "\n",
        "  return images\n",
        "\n",
        "#cv2_imshow(generate_motion_blur(image_test, [7])[0])\n"
      ]
    },
    {
      "cell_type": "markdown",
      "metadata": {
        "id": "IaQv7fWiaqWI"
      },
      "source": [
        "## **Noise**\n",
        "\n",
        "\n",
        "*   Gausssian Noise\n",
        "*   Uniform Noise\n",
        "*   Speckle Noise\n",
        "*   Poisson Noise\n",
        "*   Salt and Pepper\n",
        "\n",
        "\n"
      ]
    },
    {
      "cell_type": "markdown",
      "metadata": {
        "id": "CbiJb5coaqWJ"
      },
      "source": [
        "### Gaussian Noise"
      ]
    },
    {
      "cell_type": "code",
      "execution_count": null,
      "metadata": {
        "id": "1FLJHtQkaqWJ"
      },
      "outputs": [],
      "source": [
        "def gaussian_noise(image, mean=0, var=80):\n",
        "  sigma = var ** 0.5\n",
        "  shape = len(image.shape)\n",
        "  if shape == 2:\n",
        "    rows, cols = image.shape\n",
        "  else:\n",
        "    rows, cols, ch = image.shape\n",
        "\n",
        "  gauss = np.random.normal(mean, sigma, (rows, cols, ch) if shape==3 else (rows,cols))\n",
        "  noise = gauss + image\n",
        "\n",
        "  noise = np.uint8(np.clip(noise,0,255))\n",
        "  return noise\n",
        "\n",
        "\n",
        "#gauss = gaussian_noise(image_test)\n",
        "#cv2_imshow(gauss)"
      ]
    },
    {
      "cell_type": "code",
      "execution_count": null,
      "metadata": {
        "id": "JMtnPLr7aqWK"
      },
      "outputs": [],
      "source": [
        "def generate_gaussian_noise(image, mean_list=None, var_list=None):\n",
        "  if var_list is None:\n",
        "    var_list = [144,576,1296,2304,3600]\n",
        "  if mean_list is None:\n",
        "    mean_list = [0,0,0,0,0]\n",
        "\n",
        "  noises = []\n",
        "  assert len(mean_list) == len(var_list)\n",
        "  for i in range(len(mean_list)):\n",
        "    noises.append(gaussian_noise(image, mean_list[i], var_list[i]))\n",
        "\n",
        "  return noises\n",
        "\n",
        "#gaussians = generate_gaussian_noise(image_test)\n",
        "#cv2_imshow(np.hstack(gaussians))"
      ]
    },
    {
      "cell_type": "markdown",
      "metadata": {
        "id": "oAlWgnataqWL"
      },
      "source": [
        "### Uniform Noise"
      ]
    },
    {
      "cell_type": "code",
      "execution_count": null,
      "metadata": {
        "id": "jR6wOaQOaqWL"
      },
      "outputs": [],
      "source": [
        "def uniform_noise(image, limit=150):\n",
        "  mask_noise = np.random.randint(0,limit,image.shape)\n",
        "  noise = mask_noise + image\n",
        "  return np.uint8(np.clip(0,255,noise))#(cv.normalize(noise,None,0,255,cv.NORM_MINMAX))\n",
        "\n",
        "\n",
        "#uniform = uniform_noise(image_test)\n",
        "#cv2_imshow(uniform)"
      ]
    },
    {
      "cell_type": "code",
      "execution_count": null,
      "metadata": {
        "id": "nlIQi2zDaqWM"
      },
      "outputs": [],
      "source": [
        "def generate_uniform_noise(image, limit_list=None):\n",
        "  if limit_list is None:\n",
        "    limit_list = [30,60,90,120,150]\n",
        "\n",
        "  noises = []\n",
        "  for i in range(len(limit_list)):\n",
        "    noises.append(uniform_noise(image, limit_list[i]))\n",
        "  return noises\n",
        "\n",
        "#uniforms = generate_uniform_noise(image_test)\n",
        "#cv2_imshow(np.hstack(uniforms))"
      ]
    },
    {
      "cell_type": "markdown",
      "metadata": {
        "id": "gvXrCjuwaqWN"
      },
      "source": [
        "### Speckle Noise (Impulse Noise)"
      ]
    },
    {
      "cell_type": "code",
      "execution_count": null,
      "metadata": {
        "id": "x_vwsuqJaqWN"
      },
      "outputs": [],
      "source": [
        "def speckle_noise(image, mean=0, var=0.01):\n",
        "  shape = len(image.shape)\n",
        "  if shape == 2:\n",
        "    rows, cols = image.shape\n",
        "  else:\n",
        "    rows,cols,ch = image.shape\n",
        "\n",
        "  sigma = var**0.5\n",
        "  gauss = np.random.normal(mean, sigma, (rows, cols,ch) if shape==3 else (rows,cols))\n",
        "  noise = image + image*gauss\n",
        "\n",
        "  noise = np.uint8(np.clip(0,255,noise))\n",
        "  return noise\n",
        "\n",
        "#speckle = speckle_noise(image_test)\n",
        "#cv2_imshow(speckle)"
      ]
    },
    {
      "cell_type": "code",
      "execution_count": null,
      "metadata": {
        "id": "xG58P_uvaqWO"
      },
      "outputs": [],
      "source": [
        "def generate_speckle_noise(image, mean_list=None, var_list=None):\n",
        "  if var_list is None:\n",
        "    var_list = [0.01,0.09,0.16,0.25,0.36]\n",
        "  if mean_list is None:\n",
        "    mean_list = [0,0,0,0,0]\n",
        "\n",
        "  noises = []\n",
        "  assert len(mean_list) == len(var_list)\n",
        "  for i in range(len(mean_list)):\n",
        "    noises.append(speckle_noise(image, mean_list[i], var_list[i]))\n",
        "\n",
        "  return noises\n",
        "\n",
        "#var_list = [0.01,0.09,0.16,0.25,0.36]\n",
        "#mean_list = [0,0,0,0,0]\n",
        "#speckles = generate_speckle_noise(image_test,mean_list,var_list)\n",
        "#cv2_imshow(np.hstack(speckles))"
      ]
    },
    {
      "cell_type": "markdown",
      "metadata": {
        "id": "bZtxp0usaqWP"
      },
      "source": [
        "### Poisson Noise"
      ]
    },
    {
      "cell_type": "code",
      "execution_count": null,
      "metadata": {
        "id": "OxVjqla7aqWQ"
      },
      "outputs": [],
      "source": [
        "def poisson_noise(image, bias=1):\n",
        "  uni = len(np.unique(image)) * bias\n",
        "  uni = (2 ** np.ceil(np.log2(uni)))\n",
        "  noise = np.random.poisson(image*uni) / float(uni)\n",
        "  noise = np.uint8(np.clip(noise, 0, 255))\n",
        "  return noise\n",
        "\n",
        "#poisson = poisson_noise(image_test)\n",
        "#cv2_imshow(poisson)"
      ]
    },
    {
      "cell_type": "code",
      "execution_count": null,
      "metadata": {
        "id": "_MxzmWDFaqWR"
      },
      "outputs": [],
      "source": [
        "def generate_poisson_noise(image, bias_list=None):\n",
        "  if bias_list is None:\n",
        "    bias_list = [1,1/256,1/1024,1/2048,1/4096]\n",
        "\n",
        "  noises = []\n",
        "  for i in range(len(bias_list)):\n",
        "    noises.append(poisson_noise(image, bias_list[i]))\n",
        "  return noises\n",
        "\n",
        "#bias_list = [1,1/256,1/1024,1/2048,1/4096]\n",
        "#poissons = generate_poisson_noise(image_test, bias_list)\n",
        "#cv2_imshow(np.hstack(poissons))"
      ]
    },
    {
      "cell_type": "markdown",
      "metadata": {
        "id": "rrpBm56HaqWS"
      },
      "source": [
        "### Salt e Pepper Noise"
      ]
    },
    {
      "cell_type": "code",
      "execution_count": null,
      "metadata": {
        "id": "0DjvlKXAaqWS"
      },
      "outputs": [],
      "source": [
        "def sep_noise(image, prob_white=0.5, amount=0.004):\n",
        "  shape = len(image.shape)\n",
        "  if shape == 2:\n",
        "    rows, cols = image.shape\n",
        "  else:\n",
        "    rows,cols,ch = image.shape\n",
        "\n",
        "  noise = np.copy(image)\n",
        "\n",
        "  num_salt = np.ceil(prob_white * amount * (image.shape[0]*image.shape[1]))\n",
        "  coords = [np.random.randint(0,i-1,int(num_salt)) for i in image.shape[:-1]]\n",
        "  for i in range(len(coords[0])):\n",
        "    noise[coords[0][i]][coords[1][i]] = 255\n",
        "\n",
        "  num_pepper = np.ceil((1-prob_white) * amount * (image.shape[0]*image.shape[1]))\n",
        "  coords = [np.random.randint(0,i-1,int(num_pepper)) for i in image.shape[:-1]]\n",
        "  for i in range(len(coords[0])):\n",
        "    noise[coords[0][i]][coords[1][i]] = 0\n",
        "\n",
        "  return noise\n",
        "\n",
        "#saltepepper = sep_noise(image_test)\n",
        "#cv2_imshow(saltepepper)"
      ]
    },
    {
      "cell_type": "code",
      "execution_count": null,
      "metadata": {
        "id": "DJrB0g0eaqWT"
      },
      "outputs": [],
      "source": [
        "def generate_sep_noise(image, prob_white_list = None, amount_list = None):\n",
        "  if prob_white_list is None:\n",
        "    prob_white_list = [0.5, 0.5, 0.5, 0.5, 0.2]\n",
        "  if amount_list is None:\n",
        "    amount_list = [0.0005, 0.001, 0.004, 0.008, 0.008]\n",
        "\n",
        "  noises = []\n",
        "  assert len(prob_white_list) == len(amount_list)\n",
        "  for i in range(len(prob_white_list)):\n",
        "    noises.append(sep_noise(image,prob_white_list[i],amount_list[i]))\n",
        "  return noises\n",
        "\n",
        "#saltepeppers = generate_sep_noise(image_test)\n",
        "#cv2_imshow(np.hstack(saltepeppers))"
      ]
    },
    {
      "cell_type": "markdown",
      "metadata": {
        "id": "RaQ9bMSQaqWU"
      },
      "source": [
        "## **Color Distortions**\n",
        "\n",
        "\n",
        "*   Color Diffusion\n",
        "*   Color Shift\n",
        "*   Color Quantization\n",
        "*   Color Saturation HSV\n",
        "*   Color Saturation Lab\n",
        "\n"
      ]
    },
    {
      "cell_type": "markdown",
      "metadata": {
        "id": "SQXaT4U_aqWV"
      },
      "source": [
        "### RGB, XYZ, Lab Conversion"
      ]
    },
    {
      "cell_type": "code",
      "execution_count": null,
      "metadata": {
        "id": "gBGFN4z9aqWW"
      },
      "outputs": [],
      "source": [
        "def rgb2xyz(img):\n",
        "    transformation_matrix = [[0.4124, 0.3576, 0.1805],\n",
        "                             [0.2126, 0.7152, 0.0722],\n",
        "                             [0.0193, 0.1192, 0.9505]]\n",
        "    new_img = np.zeros(img.shape, dtype=np.float32)\n",
        "    for i in range(img.shape[0]):\n",
        "        for j in range(img.shape[1]):\n",
        "            new_img[i][j] = np.dot(transformation_matrix,img[i][j])\n",
        "\n",
        "    return new_img\n",
        "\n",
        "def f_rgb2lab_m(epsilon, k, t):\n",
        "  return np.where(t>epsilon, t**(1/3), ((k*t)+16)/116)\n",
        "\n",
        "def f_lab2rgb_m(epsilon, k, t):\n",
        "  return np.where(t>epsilon, t**3, ((t - 16/116)/(k/116)))\n",
        "\n",
        "def rgb2lab(img):\n",
        "    img_xyz = rgb2xyz(img)\n",
        "\n",
        "    Xn = 95.0489\n",
        "    Yn = 100\n",
        "    Zn = 108.884\n",
        "\n",
        "    e = 0.008856\n",
        "    k = 903.3\n",
        "\n",
        "    X,Y,Z = cv.split(img_xyz)\n",
        "\n",
        "\n",
        "    L = 116 * f_rgb2lab_m(e,k,Y/Yn) - 16\n",
        "    a = 500 * (f_rgb2lab_m(e,k,X/Xn) - f_rgb2lab_m(e,k,Y/Yn))\n",
        "    b = 200 * (f_rgb2lab_m(e,k,Y/Yn) - f_rgb2lab_m(e,k,Z/Zn))\n",
        "\n",
        "    img_Lab2 = cv.merge([L,a,b])\n",
        "    return img_Lab2#np.uint8(np.round(img_Lab))\n",
        "\n",
        "def lab2rgb(img):\n",
        "  L,a,b = cv.split(img)\n",
        "  Xn = 95.0489\n",
        "  Yn = 100\n",
        "  Zn = 108.884\n",
        "\n",
        "  Y = (L + 16) / 116\n",
        "  X = a / 500 + Y\n",
        "  Z = Y - b / 200\n",
        "\n",
        "  e = 0.008856\n",
        "  k = 903.3\n",
        "  Y = f_lab2rgb_m(e,k,Y) * Yn\n",
        "  X = f_lab2rgb_m(e,k,X) * Xn\n",
        "  Z = f_lab2rgb_m(e,k,Z) * Zn\n",
        "\n",
        "  img_XYZ = cv.merge([X,Y,Z])\n",
        "  img_rgb = xyz2rgb(img_XYZ)\n",
        "\n",
        "  return img_rgb#np.uint8(np.clip(0,255,np.round(img_rgb)))\n",
        "\n",
        "def xyz2rgb(img):\n",
        "  transformation_matrix = [[3.2405, -1.5371, -0.4985],\n",
        "                           [-0.9693, 1.8706, 0.0416],\n",
        "                           [0.0556, -0.2040, 1.0572]]\n",
        "\n",
        "  rgb = np.zeros(img.shape, dtype=np.float32)\n",
        "  for i in range(img.shape[0]):\n",
        "    for j in range(img.shape[1]):\n",
        "      rgb[i][j] = np.dot(transformation_matrix, img[i][j])\n",
        "  return rgb\n"
      ]
    },
    {
      "cell_type": "markdown",
      "metadata": {
        "id": "-J930r-FaqWX"
      },
      "source": [
        "### Color Diffusion"
      ]
    },
    {
      "cell_type": "code",
      "execution_count": null,
      "metadata": {
        "id": "0XRCAX_7aqWX"
      },
      "outputs": [],
      "source": [
        "def color_diffusion(img, kernel_size = 99, sigma=0):\n",
        "  img_rgb = cv.cvtColor(img, cv.COLOR_BGR2RGB)\n",
        "  img_lab = rgb2lab(img_rgb)\n",
        "  '''img_lab = cv.cvtColor(img, cv.COLOR_BGR2LAB)'''\n",
        "  L,a,b = cv.split(img_lab)\n",
        "\n",
        "  a_blur = cv.GaussianBlur(a,(kernel_size,kernel_size),sigma)\n",
        "  b_blur = cv.GaussianBlur(b,(kernel_size,kernel_size),sigma)\n",
        "\n",
        "  diffused_lab = cv.merge([L, a_blur, b_blur])\n",
        "  diffused_rgb = lab2rgb(diffused_lab)\n",
        "\n",
        "  diffused_bgr = cv.cvtColor(diffused_rgb, cv.COLOR_RGB2BGR)\n",
        "  '''diffused_bgr = cv.cvtColor(diffused_lab, cv.COLOR_LAB2BGR)'''\n",
        "  return np.uint8(cv.normalize(diffused_bgr, None, 0, 255, cv.NORM_MINMAX))\n",
        "\n",
        "#diffusion = color_diffusion(image_test)\n",
        "#cv2_imshow(diffusion)"
      ]
    },
    {
      "cell_type": "code",
      "execution_count": null,
      "metadata": {
        "id": "GQY6t-dLaqWY"
      },
      "outputs": [],
      "source": [
        "def generate_color_diffusion(image, kernel_size_list=None, sigma_list=None):\n",
        "  if kernel_size_list is None:\n",
        "    kernel_size_list = [9, 37, 55, 101, 209]\n",
        "  if sigma_list is None:\n",
        "    sigma_list = [0,0,0,0,0]\n",
        "\n",
        "  noises = []\n",
        "  assert len(kernel_size_list) == len(sigma_list)\n",
        "  for i in range(len(sigma_list)):\n",
        "    noises.append(color_diffusion(image, kernel_size_list[i], sigma_list[i]))\n",
        "\n",
        "  return noises\n",
        "\n",
        "#color_diffusions = generate_color_diffusion(image_test)\n",
        "#cv2_imshow(np.hstack(color_diffusions))"
      ]
    },
    {
      "cell_type": "markdown",
      "metadata": {
        "id": "psmrQH57aqWZ"
      },
      "source": [
        "### Color Shift"
      ]
    },
    {
      "cell_type": "code",
      "execution_count": null,
      "metadata": {
        "id": "LLzF6f1baqWZ"
      },
      "outputs": [],
      "source": [
        "bdef color_shift(img, tx=1, ty=8):\n",
        "  gray = cv.cvtColor(img, cv.COLOR_BGR2GRAY)\n",
        "  gx = cv.Sobel(gray, ddepth=cv.CV_64F, dx=1, dy=0, ksize=29)\n",
        "  gy = cv.Sobel(gray, ddepth=cv.CV_64F, dx=0, dy=1, ksize=29)\n",
        "\n",
        "  magnitude = np.sqrt((gx**2)+(gy**2))\n",
        "  magnitude = cv.normalize(cv.GaussianBlur(magnitude,(21,21),0),None,alpha=0,beta=1,norm_type=cv.NORM_MINMAX)#np.uint8(np.clip(0,255,magnitude))\n",
        "\n",
        "  kernel = np.float32([[1,0,tx],\n",
        "                      [0,1,ty]])\n",
        "\n",
        "  b,g,r = cv.split(img)\n",
        "\n",
        "  magnitude = cv.warpAffine(magnitude, kernel, (magnitude.shape[1], magnitude.shape[0]))\n",
        "  green_t = cv.warpAffine(g, kernel, (g.shape[1], g.shape[0]))\n",
        "\n",
        "  g_masked = (magnitude*green_t + ((1-magnitude)*g))\n",
        "  g_masked = np.uint8(g_masked)\n",
        "  #cv2_imshow(np.hstack([cv.normalize(magnitude,None,0,255,cv.NORM_MINMAX), green_t, g, g_masked]))\n",
        "  color_shift = cv.merge([b,g_masked,r])\n",
        "  return color_shift\n",
        "\n",
        "#shift = color_shift(image_test)\n",
        "#cv2_imshow(shift)"
      ]
    },
    {
      "cell_type": "code",
      "execution_count": null,
      "metadata": {
        "id": "bfTh05uwaqWa"
      },
      "outputs": [],
      "source": [
        "def generate_color_shift(img, tx_list=None, ty_list=None):\n",
        "  if tx_list is None:\n",
        "    tx_list = [3, 5, 8, 10, 3]\n",
        "  if ty_list is None:\n",
        "    ty_list = [3, 5, 1, 2, 10]\n",
        "\n",
        "  noises = []\n",
        "  assert len(tx_list) == len(ty_list)\n",
        "  for i in range(len(tx_list)):\n",
        "    noises.append(color_shift(img, tx_list[i], ty_list[i]))\n",
        "\n",
        "  return noises\n",
        "\n",
        "#color_shifts = generate_color_shift(image_test)\n",
        "#cv2_imshow(np.hstack(color_shifts))"
      ]
    },
    {
      "cell_type": "markdown",
      "metadata": {
        "id": "VXDuWJ1paqWb"
      },
      "source": [
        "### Color Quantization (faltando dithering)"
      ]
    },
    {
      "cell_type": "code",
      "execution_count": null,
      "metadata": {
        "id": "OR6TmiWBaqWc"
      },
      "outputs": [],
      "source": [
        "def k_means(img, k):\n",
        "  vectorized = img.reshape((-1,3))\n",
        "  vectorized = np.float32(vectorized)\n",
        "\n",
        "  attempts = 3\n",
        "  criteria = (cv.TERM_CRITERIA_EPS + cv.TERM_CRITERIA_MAX_ITER, 10, 0.95)\n",
        "\n",
        "  ret, label, center = cv.kmeans(vectorized,k,None,criteria,attempts,cv.KMEANS_PP_CENTERS)\n",
        "\n",
        "  center = np.uint8(center)\n",
        "  res = center[label.flatten()]\n",
        "  result_image = res.reshape((img.shape))\n",
        "\n",
        "  return result_image\n",
        "\n",
        "def color_quantization(img, k=8):\n",
        "  img_hsv = cv.cvtColor(img,cv.COLOR_BGR2LAB)\n",
        "  kmeans = k_means(img_hsv, k)\n",
        "  kmeans_bgr = cv.cvtColor(kmeans, cv.COLOR_LAB2BGR)\n",
        "\n",
        "  return kmeans_bgr\n",
        "\n",
        "#quantization = color_quantization(image_test,64)\n",
        "#cv2_imshow(quantization)"
      ]
    },
    {
      "cell_type": "code",
      "execution_count": null,
      "metadata": {
        "id": "yu_ohvf1aqWc"
      },
      "outputs": [],
      "source": [
        "def generate_color_quantization(img, kcolor_list=None):\n",
        "  if kcolor_list is None:\n",
        "    kcolor_list = [64, 48, 32, 18, 8]\n",
        "\n",
        "  distortions = []\n",
        "  for i in range(len(kcolor_list)):\n",
        "    distortions.append(color_quantization(img, kcolor_list[i]))\n",
        "  return distortions\n",
        "\n",
        "#quantization = generate_color_quantization(image_test)\n",
        "#cv2_imshow(np.hstack(quantization))"
      ]
    },
    {
      "cell_type": "markdown",
      "metadata": {
        "id": "x1LwOfCsaqWd"
      },
      "source": [
        "### Color Saturation HSV"
      ]
    },
    {
      "cell_type": "code",
      "execution_count": null,
      "metadata": {
        "id": "imp9tpldaqWe"
      },
      "outputs": [],
      "source": [
        "def color_saturation_hsv(img, factor = 1.3):\n",
        "  img_hsv = cv.cvtColor(img, cv.COLOR_BGR2HSV)\n",
        "\n",
        "  saturation_hsv = np.float32(np.copy(img_hsv))\n",
        "  saturation_hsv[:,:,1] = img_hsv[:,:,1] * factor\n",
        "\n",
        "  saturation_hsv = np.uint8(np.clip(0,255,np.round(saturation_hsv)))\n",
        "  saturation_bgr = cv.cvtColor(saturation_hsv, cv.COLOR_HSV2BGR)\n",
        "\n",
        "  return saturation_bgr#np.uint8(np.clip(0,255,np.round(saturation_bgr)))\n",
        "\n",
        "#sat_hsv = color_saturation_hsv(image_test)\n",
        "#cv2_imshow(sat_hsv)"
      ]
    },
    {
      "cell_type": "code",
      "execution_count": null,
      "metadata": {
        "id": "e_Vs5GRCaqWe"
      },
      "outputs": [],
      "source": [
        "def generate_color_saturation_hsv(image, factor_list=None):\n",
        "  if factor_list is None:\n",
        "    factor_list = [0.4, 0.8, 1.4, 1.8, 2.1]\n",
        "\n",
        "  distortions = []\n",
        "  for i in range(len(factor_list)):\n",
        "    distortions.append(color_saturation_hsv(image, factor_list[i]))\n",
        "\n",
        "  return distortions\n",
        "\n",
        "#saturations_hsv = generate_color_saturation_hsv(image_test)\n",
        "#cv2_imshow(np.hstack(saturations_hsv))"
      ]
    },
    {
      "cell_type": "markdown",
      "metadata": {
        "id": "9N-j4XipaqWf"
      },
      "source": [
        "### Color Saturation Lab"
      ]
    },
    {
      "cell_type": "code",
      "execution_count": null,
      "metadata": {
        "id": "zeTKXDAiaqWf"
      },
      "outputs": [],
      "source": [
        "def color_saturation_lab(img, factora=4, factorb=4):\n",
        "  img_rgb = cv.cvtColor(img,cv.COLOR_BGR2RGB)\n",
        "  img_lab = rgb2lab(img_rgb)\n",
        "\n",
        "  saturation_lab = np.copy(img_lab)\n",
        "  saturation_lab[:,:,1] = img_lab[:,:,1] * factora\n",
        "  saturation_lab[:,:,2] = img_lab[:,:,2] * factorb\n",
        "\n",
        "  saturation_rgb = np.clip(np.round(lab2rgb(saturation_lab)), 0, 255)\n",
        "  saturation_bgr = cv.cvtColor(saturation_rgb, cv.COLOR_RGB2BGR)\n",
        "\n",
        "  return np.uint8(saturation_bgr)\n",
        "\n",
        "#sat_lab = color_saturation_lab(image_test)\n",
        "#cv2_imshow(sat_lab)"
      ]
    },
    {
      "cell_type": "code",
      "execution_count": null,
      "metadata": {
        "id": "08_Pz2h0aqWh"
      },
      "outputs": [],
      "source": [
        "def generate_color_saturation_lab(image, factora_list=None, factorb_list=None):\n",
        "  if factora_list is None:\n",
        "    factora_list = [1,1.5,2,3,4]\n",
        "  if factorb_list is None:\n",
        "    factorb_list = [1,1.5,2,3,4]\n",
        "\n",
        "  distortions = []\n",
        "  if len(factora_list) > len(factorb_list):\n",
        "    factorb_list[len(factorb_list):len(factora_list)] = factora_list[len(factorb_list):]\n",
        "\n",
        "  for i in range(len(factora_list)):\n",
        "    distortions.append(color_saturation_lab(image, factora_list[i], factorb_list[i]))\n",
        "  return distortions\n",
        "\n",
        "#color_saturations = generate_color_saturation_lab(image_test)\n",
        "#cv2_imshow(np.hstack(color_saturations))"
      ]
    },
    {
      "cell_type": "markdown",
      "metadata": {
        "id": "vxUO-jfBaqWi"
      },
      "source": [
        "## **Compression**\n",
        "\n",
        "\n",
        "*   JPEG\n",
        "*   JPEG2000\n",
        "\n"
      ]
    },
    {
      "cell_type": "markdown",
      "metadata": {
        "id": "pPLeb81eaqWj"
      },
      "source": [
        "### JPEG"
      ]
    },
    {
      "cell_type": "code",
      "execution_count": null,
      "metadata": {
        "id": "ZULKPvjBaqWj"
      },
      "outputs": [],
      "source": [
        "def jpeg_compression(img, quality=10):\n",
        "  _, buffer = cv.imencode('.jpg', img, [cv.IMWRITE_JPEG_QUALITY, quality])\n",
        "  compressed_img = cv.imdecode(buffer, cv.IMREAD_COLOR)\n",
        "\n",
        "  return compressed_img\n",
        "\n",
        "#jpeg = jpeg_compression(image_test)\n",
        "#cv2_imshow(jpeg)"
      ]
    },
    {
      "cell_type": "code",
      "execution_count": null,
      "metadata": {
        "id": "Ei9wRCj4aqWk"
      },
      "outputs": [],
      "source": [
        "def generate_compression_jpeg(image, quality_list=None):\n",
        "  if quality_list is None:\n",
        "    quality_list = [95, 80, 50, 20, 10]\n",
        "\n",
        "  compressions = []\n",
        "  for i in range(len(quality_list)):\n",
        "    compressions.append(jpeg_compression(image, quality_list[i]))\n",
        "\n",
        "  return compressions\n",
        "\n",
        "\n",
        "#compressions = generate_compression_jpeg(image_test)\n",
        "#cv2_imshow(np.hstack(compressions))"
      ]
    },
    {
      "cell_type": "markdown",
      "metadata": {
        "id": "ZaPTf9_9aqWk"
      },
      "source": [
        "###JPEG200"
      ]
    },
    {
      "cell_type": "code",
      "execution_count": null,
      "metadata": {
        "id": "s225L2j0aqWl"
      },
      "outputs": [],
      "source": [
        "def jpeg2000_compression(img, compressionRate=50):\n",
        "  _, buffer = cv.imencode('.jp2', img, [cv.IMWRITE_JPEG2000_COMPRESSION_X1000, compressionRate])\n",
        "  compressed_img = cv.imdecode(buffer, cv.IMREAD_COLOR)\n",
        "\n",
        "  return compressed_img\n",
        "\n",
        "#jpeg2 = jpeg2000_compression(image_test)\n",
        "#cv2_imshow(jpeg2)"
      ]
    },
    {
      "cell_type": "code",
      "execution_count": null,
      "metadata": {
        "id": "u7UPppo1aqWl"
      },
      "outputs": [],
      "source": [
        "def generate_compression_jpeg2000(image, compressionRate_list=None):\n",
        "  if compressionRate_list is None:\n",
        "    compressionRate_list = [1000, 500, 50, 10, 5]\n",
        "\n",
        "  compressions = []\n",
        "  for i in range(len(compressionRate_list)):\n",
        "    compressions.append(jpeg2000_compression(image, compressionRate_list[i]))\n",
        "\n",
        "  return compressions\n",
        "\n",
        "#compressionRate_list = [1000, 500, 50, 10, 5]\n",
        "#compressions2000 = generate_compression_jpeg2000(image_test)\n",
        "#cv2_imshow(np.hstack(compressions2000))\n",
        "#print(image_test.shape)"
      ]
    },
    {
      "cell_type": "markdown",
      "metadata": {
        "id": "KPTk48VOaqWm"
      },
      "source": [
        "##**Warping**\n",
        "\n",
        "- Inverting\n",
        "- Shearing\n",
        "- Elastic Deformation\n",
        "- Bilinear Transformation\n",
        "- Rotations"
      ]
    },
    {
      "cell_type": "markdown",
      "metadata": {
        "id": "xaXPqhrYaqWn"
      },
      "source": [
        "### **Inverting**"
      ]
    },
    {
      "cell_type": "code",
      "execution_count": null,
      "metadata": {
        "id": "hVy93tX-aqWn"
      },
      "outputs": [],
      "source": [
        "def generate_invert_warp(image, bias=None):\n",
        "  (H, L) = (image.shape[0], image.shape[1])\n",
        "\n",
        "\n",
        "  initPoints = np.float32([[0, 0], [L-1, 0], [0, H-1], [L-1, H-1]])\n",
        "  destPoints = np.float32([[L-1, 0], [0, 0], [L-1, H-1], [0, H-1]])\n",
        "\n",
        "  MorphFunc = cv.getPerspectiveTransform(initPoints, destPoints)\n",
        "  imageInverted = cv.warpPerspective(image, MorphFunc, dsize = (L, H))\n",
        "\n",
        "  return [imageInverted]\n",
        "\n",
        "#cv2_imshow(generate_invert_warp(image_test)[0])"
      ]
    },
    {
      "cell_type": "markdown",
      "metadata": {
        "id": "Lu6kkByFaqWo"
      },
      "source": [
        "### **Shearing**"
      ]
    },
    {
      "cell_type": "code",
      "execution_count": null,
      "metadata": {
        "id": "8SHxcG97aqWo"
      },
      "outputs": [],
      "source": [
        "def shearing_warp(image, sx, sy):\n",
        "  shearingMatrix = np.array([[1, sx, 0],\n",
        "                             [sy, 1, 0]], dtype = np.float32)\n",
        "\n",
        "  imageShear = cv.warpAffine(image, shearingMatrix, (image.shape[1],image.shape[0]), borderMode = cv.BORDER_CONSTANT)\n",
        "  return imageShear\n"
      ]
    },
    {
      "cell_type": "code",
      "execution_count": null,
      "metadata": {
        "id": "YQWaJ3XsaqWp"
      },
      "outputs": [],
      "source": [
        "def generate_shearing_warp(image, sx = None, sy = None):\n",
        "  if (sx or sy) is None:\n",
        "    H, L = image.shape[0:2]\n",
        "    sx= [0.0002*L, 0.0002*L, 0.0003*L, 0.0002*L, 0.0003*L]\n",
        "    sy = [0.0002*H, 0, 0.0002*H, 0.0002*H, 0.0003*H, 0.0003*H]\n",
        "\n",
        "  images = []\n",
        "\n",
        "  for i in range(len(sx)):\n",
        "    images.append(shearing_warp(image, sx[i], sy[i]))\n",
        "\n",
        "  return images"
      ]
    },
    {
      "cell_type": "markdown",
      "metadata": {
        "id": "o_r4AnLKaqWq"
      },
      "source": [
        "### **Elastic Deformation**\n",
        "\n"
      ]
    },
    {
      "cell_type": "code",
      "execution_count": null,
      "metadata": {
        "id": "7G_TpWYSaqWq"
      },
      "outputs": [],
      "source": [
        "def getTransform(H, L):\n",
        "  #Create random translates\n",
        "  (dy, dx) = np.random.uniform(-1, 1, (H, L)), np.random.uniform(-1, 1, (H, L))\n",
        "  #Smooth\n",
        "  (dy, dx) = cv.GaussianBlur(dy, (11, 11), 0), cv.GaussianBlur(dx, (11,11), 0)\n",
        "  return dy, dx\n",
        "\n",
        "def elastic_warp(image, alpha):\n",
        "\n",
        "  #alpha [0, 1] -> janela de 10% da imagem, max\n",
        "\n",
        "  if len(image.shape) == 3:\n",
        "    dim = 3\n",
        "  else:\n",
        "    dim = 1\n",
        "\n",
        "  H, L = image.shape[0:2]\n",
        "  #Create a plan (x,y) -> x = [0, ..., L], y = [0...H]\n",
        "  x, y = np.meshgrid(np.arange(L), np.arange(H))\n",
        "\n",
        "  (dy, dx) = getTransform(H,L)\n",
        "\n",
        "  #Normalizim, the distortion make each pixel \"walk\" in max 0.75%\n",
        "  alpha_proportional = max(alpha * (H/150), alpha *(L/150))\n",
        "\n",
        "  new_y = y + alpha_proportional*dy\n",
        "  new_x = x + alpha_proportional*dx\n",
        "\n",
        "  distorted_image = image.copy()\n",
        "\n",
        "  for i in range(dim):\n",
        "    distorted_image[:, :, i] = sci.ndimage.map_coordinates(image[:,:,i], [new_y, new_x], order=1, mode='reflect')\n",
        "\n",
        "  return distorted_image.astype(np.uint8)"
      ]
    },
    {
      "cell_type": "code",
      "execution_count": null,
      "metadata": {
        "id": "WEq1McauaqWr"
      },
      "outputs": [],
      "source": [
        "def generate_elastic_warp(image, alphas = None):\n",
        "  if alphas is None:\n",
        "    alphas = [0.1, 0.3, 0.5, 0.7, 1]\n",
        "\n",
        "  images = []\n",
        "  for i in range(len(alphas)):\n",
        "      images.append(elastic_warp(image,alphas[i]))\n",
        "\n",
        "  return images\n",
        "\n",
        "#elastics = generate_elastic_warp(image_test)\n",
        "#cv2_imshow(elastics[4])"
      ]
    },
    {
      "cell_type": "markdown",
      "metadata": {
        "id": "jRlhgcvHaqWr"
      },
      "source": [
        "### **Bilinear_Interpolation**"
      ]
    },
    {
      "cell_type": "code",
      "execution_count": null,
      "metadata": {
        "id": "DwR0h_uwaqWs"
      },
      "outputs": [],
      "source": [
        "def bilinear_interpolation(image, scale):\n",
        "  smallImage = cv.resize(image,  None, fx = scale, fy = scale, interpolation = cv.INTER_LINEAR)\n",
        "  H, L = image.shape[0:2]\n",
        "  imageStandart = cv.resize(smallImage, (L, H), interpolation = cv.INTER_LINEAR)\n",
        "  return imageStandart\n"
      ]
    },
    {
      "cell_type": "code",
      "execution_count": null,
      "metadata": {
        "id": "cf6qOERTaqWs"
      },
      "outputs": [],
      "source": [
        "def generate_bilinear_interpolation(image, scales = None):\n",
        "\n",
        "  if scales is None:\n",
        "    scales = [0.7, 0.6, 0.5, 0.4, 0.1]\n",
        "\n",
        "  images = []\n",
        "\n",
        "  for i in range(len(scales)):\n",
        "    images.append(bilinear_interpolation(image, scales[i]))\n",
        "\n",
        "  return images\n",
        "\n",
        "\n",
        "#bilinear = generate_bilinear_interpolation(image_test)\n",
        "#cv2_imshow(np.hstack(bilinear))\n"
      ]
    },
    {
      "cell_type": "markdown",
      "metadata": {
        "id": "nvZo8KFGaqWt"
      },
      "source": [
        "### **Rotations**"
      ]
    },
    {
      "cell_type": "code",
      "execution_count": null,
      "metadata": {
        "id": "4UF75kMHaqWt"
      },
      "outputs": [],
      "source": [
        "def generate_rotations(image, bias = 0):\n",
        "  imagesRotated = list()\n",
        "  angle = 90\n",
        "  for i in range(3):\n",
        "    imagesRotated.append(imutils.rotate_bound(image, angle))\n",
        "    angle += 90\n",
        "\n",
        "  # Vector -> [Image rotated 90, Image rotated 180, Image rotated 270]\n",
        "  return imagesRotated\n",
        "\n"
      ]
    },
    {
      "cell_type": "markdown",
      "metadata": {
        "id": "_iifV29oaqWu"
      },
      "source": [
        "## **Sharpness and Contrast**\n",
        "- Unsharp Mask\n",
        "- Contrast"
      ]
    },
    {
      "cell_type": "markdown",
      "metadata": {
        "id": "FI4YYp5faqWu"
      },
      "source": [
        "### **Unsharp Mask**"
      ]
    },
    {
      "cell_type": "code",
      "execution_count": null,
      "metadata": {
        "id": "3ARQVvleaqWu"
      },
      "outputs": [],
      "source": [
        "def unsharp_mask(image, intensity):\n",
        "  #intensity -> [0, ..]\n",
        "\n",
        "  bluredImage = cv.GaussianBlur(image, (15, 15), 0)\n",
        "  dif = cv.subtract(image, bluredImage)\n",
        "  sharpImage = cv.addWeighted(src1 = image, alpha = 1, src2 = dif, beta = intensity, gamma = 0)\n",
        "  return sharpImage"
      ]
    },
    {
      "cell_type": "code",
      "execution_count": null,
      "metadata": {
        "id": "0cZRVjg3aqWv"
      },
      "outputs": [],
      "source": [
        "def generate_unsharp_mask(image, intensity = None):\n",
        "  if intensity is None:\n",
        "    intensity = [0.5, 1, 2, 3.5, 5]\n",
        "\n",
        "  images = []\n",
        "\n",
        "  for i in range(len(intensity)):\n",
        "    images.append(unsharp_mask(image, intensity[i]))\n",
        "\n",
        "  return images\n",
        "\n",
        "#unsharp_masked = generate_unsharp_mask(image_test)\n",
        "#cv2_imshow(np.hstack(unsharp_masked))"
      ]
    },
    {
      "cell_type": "markdown",
      "metadata": {
        "id": "n0SHo0mtaqWw"
      },
      "source": [
        "### **Contrast**"
      ]
    },
    {
      "cell_type": "code",
      "execution_count": null,
      "metadata": {
        "id": "T2CFP8zTaqWx"
      },
      "outputs": [],
      "source": [
        "def mult_contrast(image, intensity):\n",
        "  # intensity > 1 -> Increscent contrast\n",
        "  # intensity < 1 && intensity > 0 -> Decreasc contrast\n",
        "  return cv.convertScaleAbs(image, alpha = intensity)"
      ]
    },
    {
      "cell_type": "code",
      "execution_count": null,
      "metadata": {
        "id": "WvPiP1IxaqWx"
      },
      "outputs": [],
      "source": [
        "def generate_mult_contrast(image, intensity = None):\n",
        "  if intensity is None:\n",
        "    intensity = [0.2, 0.5, 1.3, 1.5, 2]\n",
        "\n",
        "  images = []\n",
        "\n",
        "  for i in range(len(intensity)):\n",
        "    images.append(mult_contrast(image, intensity[i]))\n",
        "\n",
        "  return images\n",
        "\n",
        "#contrasted = generate_mult_contrast(image_test)\n",
        "#cv2_imshow(np.hstack(contrasted))"
      ]
    },
    {
      "cell_type": "markdown",
      "metadata": {
        "id": "cgZkQM_PaqWy"
      },
      "source": [
        "## **Brigthness**\n",
        "- Change Brigthness value\n",
        "- Local Changing Brigthness\n",
        "- Random Local Changing Brigthness"
      ]
    },
    {
      "cell_type": "markdown",
      "metadata": {
        "id": "Y31sdxVYaqWz"
      },
      "source": [
        "### **Change Brigthness Global**"
      ]
    },
    {
      "cell_type": "code",
      "execution_count": null,
      "metadata": {
        "id": "p51Gofs_aqWz"
      },
      "outputs": [],
      "source": [
        "def global_brigthness(image, intensity):\n",
        "  assert (intensity >= -2 and intensity <= 2)\n",
        "  #Intensity is in percentual\n",
        "  B, G, R = cv.split(image)\n",
        "  M = B.astype(np.uint32) + G.astype(np.uint32) + R.astype(np.uint32)\n",
        "  mean_value = np.mean(M)\n",
        "\n",
        "  sum = intensity * mean_value\n",
        "\n",
        "\n",
        "  return cv.add(image, sum)\n"
      ]
    },
    {
      "cell_type": "code",
      "execution_count": null,
      "metadata": {
        "id": "AdyPWBuOaqW0"
      },
      "outputs": [],
      "source": [
        "def generate_global_brigthness(image, intensity = None):\n",
        "  if intensity is None:\n",
        "    intensity = [-0.4,  -0.2, 0.1, 0.2, 0.3]\n",
        "\n",
        "\n",
        "  images = []\n",
        "\n",
        "  for i in range(len(intensity)):\n",
        "    images.append(global_brigthness(image, intensity[i]))\n",
        "\n",
        "  images = np.uint8(images)\n",
        "  return images\n",
        "\n",
        "#change_brigth = generate_global_brigthness(image_test)\n",
        "#cv2_imshow(np.hstack(change_brigth))"
      ]
    },
    {
      "cell_type": "markdown",
      "metadata": {
        "id": "E71vzEFXeknm"
      },
      "source": [
        "### **Gama correction**"
      ]
    },
    {
      "cell_type": "code",
      "execution_count": null,
      "metadata": {
        "id": "Q6y7uUu-hVyo"
      },
      "outputs": [],
      "source": [
        "def gamma_correction(image, gama):\n",
        "\n",
        "  #Values beetween (0,1) increscent gamaa\n",
        "  #Values beetween (1, inf) decrement gama\n",
        "  image_normalized_gama = (image/255)**gama\n",
        "  image = image_normalized_gama*255\n",
        "\n",
        "  return np.clip(image, 0, 255).astype(np.uint8)\n"
      ]
    },
    {
      "cell_type": "code",
      "execution_count": null,
      "metadata": {
        "id": "6Nt7A63AkPUg"
      },
      "outputs": [],
      "source": [
        "def generate_gamma_correction(image, gamas= None):\n",
        "  if gamas is None:\n",
        "    gamas = [0.2, 0.5, 0.7, 1.2, 3]\n",
        "\n",
        "  images = []\n",
        "  for i in range(len(gamas)):\n",
        "    images.append(gamma_correction(image, gamas[i]))\n",
        "\n",
        "  return images\n",
        "\n",
        "#adjust = generate_gamma_correction(image_test)\n",
        "#cv2_imshow(np.hstack(adjust))"
      ]
    },
    {
      "cell_type": "markdown",
      "metadata": {
        "id": "D_y3WIMcaqW0"
      },
      "source": [
        "### **Random Change Local Brigthness**"
      ]
    },
    {
      "cell_type": "code",
      "execution_count": null,
      "metadata": {
        "id": "xN-D7wlOaqW1"
      },
      "outputs": [],
      "source": [
        "def value_in_interval(minor, maxin):\n",
        "  value = (np.random.rand(1))[0]\n",
        "\n",
        "  assert (minor <= maxin)\n",
        "  return ((minor + value*(maxin-minor)))\n",
        "\n",
        "def direction():\n",
        "  a, b = np.random.rand(2) #[0,1]\n",
        "\n",
        "  a = 1 if a > 0.5 else -1\n",
        "  b = 1 if b > 0.5 else -1\n",
        "  return a, b\n",
        "\n",
        "def shift_image(image, tx, ty):\n",
        "\n",
        "  kernel = np.array([[1, 0, tx],\n",
        "                     [0, 1, ty]], np.float32)\n",
        "\n",
        "  image_shifted = cv.warpAffine(image, kernel, dsize = (image.shape[1],image.shape[0]))\n",
        "\n",
        "  return image_shifted\n",
        "\n",
        "def local_brigthness(image, sigma_range_x, sigma_range_y, intensity):\n",
        "  #Sigma range -> [0, 1]\n",
        "    H, L = image.shape[0:2]\n",
        "\n",
        "    range_sigma_x = sigma_range_x*(L) # [0.2, 1]\n",
        "    range_sigma_y = sigma_range_y*(H) # [0.2, 1]\n",
        "\n",
        "    sigma_x = value_in_interval(0.8*range_sigma_x, 1.2*range_sigma_x)\n",
        "    sigma_y = value_in_interval(0.8*range_sigma_y, 1.2*range_sigma_y)\n",
        "\n",
        "    intensity_shift_x = value_in_interval(0, L/2)\n",
        "    intensity_shift_y = value_in_interval(0, H/2)\n",
        "    direc_x, direc_y = direction()\n",
        "    shift_x = intensity_shift_x*direc_x\n",
        "    shift_y = intensity_shift_y*direc_y\n",
        "\n",
        "\n",
        "    gaussian_x = cv.getGaussianKernel(image.shape[1], sigma_x)\n",
        "    gaussian_y = cv.getGaussianKernel(image.shape[0], sigma_y)\n",
        "    gaussian_x = gaussian_x / gaussian_x.max()\n",
        "    gaussian_y = gaussian_y / gaussian_y.max()\n",
        "\n",
        "    ones = np.outer(gaussian_y, gaussian_x).astype(np.float32) # Create a bivariate gaussian\n",
        "    gaussian_Bivariate = np.stack([ones] * 3, axis=-1)  # Expandir para 3 canais\n",
        "    plt.imshow(gaussian_Bivariate)\n",
        "    gaussian_Bivariate = (gaussian_Bivariate*255).astype(np.uint8)\n",
        "    gaussian_Bivariate = shift_image(gaussian_Bivariate, shift_x, shift_y)\n",
        "\n",
        "\n",
        "\n",
        "\n",
        "    # Combinar com a imagem\n",
        "    result = cv.addWeighted(image, 1, gaussian_Bivariate, intensity, 0)\n",
        "\n",
        "    return result"
      ]
    },
    {
      "cell_type": "code",
      "execution_count": null,
      "metadata": {
        "id": "-cvJJywcaqXE"
      },
      "outputs": [],
      "source": [
        "def random_local_changing_brigthness(image, n, sigma_range_x, sigma_range_y):\n",
        "  for i in range(n):\n",
        "    image = local_brigthness(image, sigma_range_x, sigma_range_y, 0.75)\n",
        "\n",
        "  return image"
      ]
    },
    {
      "cell_type": "code",
      "execution_count": null,
      "metadata": {
        "id": "XlkyG6WmaqXE"
      },
      "outputs": [],
      "source": [
        "def generate_random_local_brigthness(image, n = None, sigma_range_x = None, sigma_range_y = None):\n",
        "  if (n) is None:\n",
        "    n = [3, 3, 3, 3, 3]\n",
        "\n",
        "  if (sigma_range_x) is None:\n",
        "    sigma_range_x = [0.05, 0.1, 0.2, 0.02, 0.15]\n",
        "\n",
        "  if (sigma_range_y) is None:\n",
        "    sigma_range_y = [0.05, 0.1, 0.2, 0.02, 0.15]\n",
        "\n",
        "  assert(len(sigma_range_y) == len(sigma_range_x))\n",
        "\n",
        "  images = []\n",
        "\n",
        "  for i in range(len(n)):\n",
        "    images.append(random_local_changing_brigthness(image, n[i], sigma_range_x[i], sigma_range_y[i]))\n",
        "\n",
        "  return images\n",
        "\n",
        "#random_change = generate_random_local_brigthness(image_test)\n",
        "#cv2_imshow(np.hstack(random_change))\n"
      ]
    },
    {
      "cell_type": "markdown",
      "metadata": {
        "id": "dmYFYiCcaqXF"
      },
      "source": [
        "# **The algorithm**"
      ]
    },
    {
      "cell_type": "markdown",
      "metadata": {
        "id": "QWLYRr83aqXF"
      },
      "source": [
        "Set up flags, this scrip have 24 types of distortions"
      ]
    },
    {
      "cell_type": "code",
      "execution_count": null,
      "metadata": {
        "colab": {
          "base_uri": "https://localhost:8080/"
        },
        "id": "-SiU0Ll6d_kd",
        "outputId": "492815b0-2cce-4438-e586-8be9abc5388e"
      },
      "outputs": [
        {
          "output_type": "stream",
          "name": "stdout",
          "text": [
            "Mounted at /content/drive\n"
          ]
        }
      ],
      "source": [
        "from google.colab import drive\n",
        "drive.mount('/content/drive', force_remount = True)"
      ]
    },
    {
      "cell_type": "markdown",
      "metadata": {
        "id": "PETcZPmQi_UY"
      },
      "source": [
        "## **Functions** **and** **dictionaries**"
      ]
    },
    {
      "cell_type": "markdown",
      "metadata": {
        "id": "OQZ2FhSojBIj"
      },
      "source": [
        "###**Sliders**"
      ]
    },
    {
      "cell_type": "code",
      "execution_count": null,
      "metadata": {
        "id": "wW0Ha2reaqXG"
      },
      "outputs": [],
      "source": [
        "from ipywidgets import widgets\n",
        "from IPython.display import display\n",
        "import glob\n",
        "\n",
        "def display_choices():\n",
        "  blurs = [\"generate_gaussian_blur\",\"generate_motion_blur\"]\n",
        "\n",
        "  noises = [\"generate_gaussian_noise\",\"generate_uniform_noise\",\"generate_speckle_noise\",\"generate_poisson_noise\",\"generate_sep_noise\"]\n",
        "  color_changes = [\"generate_color_diffusion\",\"generate_color_shift\",\"generate_color_quantization\",\"generate_color_saturation_hsv\",\"generate_color_saturation_lab\"]\n",
        "  compressions = [\"generate_compression_jpeg\",\"generate_compression_jpeg2000\"]\n",
        "  warps = [\"generate_invert_warp\",\"generate_shearing_warp\",\"generate_elastic_warp\",\"generate_bilinear_interpolation\",\"generate_rotations\",]\n",
        "  gamute_changes = [\"generate_unsharp_mask\",\"generate_mult_contrast\",]\n",
        "  brigthness = [\"generate_global_brigthness\",\"generate_gamma_correction\",\"generate_random_local_brigthness\"]\n",
        "\n",
        "  label_blur = widgets.Label(\"Blurs Distortions\")\n",
        "  label_noise = widgets.Label(\"Noises Distortions\")\n",
        "  label_color = widgets.Label(\"Colors Distortions\")\n",
        "  label_compression = widgets.Label(\"Jpegs Compression\")\n",
        "  label_warps = widgets.Label(\"Warps Distortions\")\n",
        "  label_gamute = widgets.Label(\"Gamute Distortions\")\n",
        "  label_brigthness = widgets.Label(\"Brigthness Distortions\")\n",
        "  label_level_composition = widgets.Label(\"How many distortions compositions?\")\n",
        "\n",
        "  checkbox_blur  = [widgets.Checkbox(value = False, description = item) for item in blurs]\n",
        "  checkbox_noise  = [widgets.Checkbox(value = False, description = item) for item in noises]\n",
        "  checkbox_color  = [widgets.Checkbox(value = False, description = item) for item in color_changes]\n",
        "  checkbox_compression  = [widgets.Checkbox(value = False, description = item) for item in compressions]\n",
        "  checkbox_warps  = [widgets.Checkbox(value = False, description = item) for item in warps]\n",
        "  checkbox_gamute  =[widgets.Checkbox(value = False, description = item) for item in gamute_changes]\n",
        "  checkbox_brigthness  = [widgets.Checkbox(value = False, description = item) for item in brigthness]\n",
        "  level = widgets.IntSlider(value=1,min=1,max=3,step=1,description='N',disabled=False,continuous_update=False,orientation='horizontal',readout=True)\n",
        "\n",
        "\n",
        "  display(label_blur, *checkbox_blur)\n",
        "  display(label_noise, *checkbox_noise)\n",
        "  display(label_color, *checkbox_color)\n",
        "  display(label_compression, *checkbox_compression)\n",
        "  display(label_warps, *checkbox_warps)\n",
        "  display(label_gamute, *checkbox_gamute)\n",
        "  display(label_brigthness, *checkbox_brigthness)\n",
        "  display(label_level_composition, level)\n",
        "  f = np.concatenate\n",
        "  return  ((f([checkbox_blur, checkbox_noise, checkbox_color, checkbox_compression, checkbox_warps, checkbox_gamute, checkbox_brigthness])), level)\n"
      ]
    },
    {
      "cell_type": "code",
      "execution_count": null,
      "metadata": {
        "id": "oeoHH4k9jIUS"
      },
      "outputs": [],
      "source": [
        "class no_parameter_func():\n",
        "  def __init__(self):\n",
        "    self.value = 0\n",
        "    self.description = \"\"\n",
        "\n",
        "class Parameter():\n",
        "  def __init__(self, value=None, description=None):\n",
        "    self.value = value if value is not None else 0\n",
        "    self.description = description if description is not None else \"\"\n",
        "\n",
        "  def __str__(self):\n",
        "    return f\"({self.description}: {self.value})\"\n",
        "\n",
        "  def __repr__(self):\n",
        "    return str(self)\n",
        "\n",
        "  def __eq__(self, other):\n",
        "    if not isinstance(other, Parameter):\n",
        "      return \"error\"\n",
        "\n",
        "    return self.value == other.value and self.description == other.description\n",
        "\n",
        "  def is_empty(self):\n",
        "    return self.value == 0 and self.description == \"\""
      ]
    },
    {
      "cell_type": "code",
      "execution_count": null,
      "metadata": {
        "id": "v63eN2tHjM_F"
      },
      "outputs": [],
      "source": [
        "def display_parameters_choices():\n",
        "  label_layout = widgets.Layout(\n",
        "      width='400px',\n",
        "      height='30px',\n",
        "      margin='5px 0',\n",
        "      padding='5px',\n",
        "      border='solid 1px gray',\n",
        "      display='flex',\n",
        "      align_items='center',\n",
        "      justify_content='center',\n",
        "  )\n",
        "\n",
        "  # Gaussian Blur\n",
        "  label_0 = widgets.Label(\"Gaussian Blur\", layout=label_layout)\n",
        "  sigma_gaussian_blur = widgets.FloatSlider(value=20, min=0, max=20, step=0.1, description=\"gaussian_sigma\")\n",
        "  kernel_gaussian_blur = widgets.IntSlider(value=15, min=1, max=31, step=2, description=\"gaussian_kernel\")\n",
        "  display(label_0, sigma_gaussian_blur, kernel_gaussian_blur)\n",
        "\n",
        "  # Motion Blur\n",
        "  label_1 = widgets.Label(\"Motion Blur\", layout=label_layout)\n",
        "  kernel_motion_blur = widgets.IntSlider(value=15, min=2, max=30, step=1, description=\"motion_kernel\")\n",
        "  display(label_1, kernel_motion_blur)\n",
        "\n",
        "  # Gaussian Noise\n",
        "  label_2 = widgets.Label(\"Gaussian Noise\", layout=label_layout)\n",
        "  mean_gaussian_noise = widgets.FloatSlider(value=0, min=-80, max=80, step=1, description=\"Mean\")\n",
        "  var_gaussian_noise = widgets.FloatSlider(value=1800, min=0, max=3600, step=25, description=\"Variance\")\n",
        "  display(label_2, mean_gaussian_noise, var_gaussian_noise)\n",
        "\n",
        "  # Uniform Noise\n",
        "  label_3 = widgets.Label(\"Uniform Noise\", layout=label_layout)\n",
        "  limit_uniform_noise = widgets.IntSlider(value=75, min=0, max=150, step=25, description=\"Limit\")\n",
        "  display(label_3, limit_uniform_noise)\n",
        "\n",
        "  # Speckle Noise\n",
        "  label_4 = widgets.Label(\"Speckle Noise\", layout=label_layout)\n",
        "  mean_speckle_noise = widgets.FloatSlider(value=0, min=-80, max=80, step=1, description=\"Mean\")\n",
        "  var_speckle_noise = widgets.FloatSlider(value=0.05, min=0, max=0.1, step=0.01, description=\"Variance\")\n",
        "  display(label_4, mean_speckle_noise, var_speckle_noise)\n",
        "\n",
        "  # Poisson Noise\n",
        "  label_5 = widgets.Label(\"Poisson Noise\", layout=label_layout)\n",
        "  bias_poisson_noise = widgets.FloatSlider(value=1/1024, min=1/2048, max=1, step=0.01, description=\"Bias\")\n",
        "  display(label_5, bias_poisson_noise)\n",
        "\n",
        "  # Salt and Pepper Noise\n",
        "  label_6 = widgets.Label(\"Separable Noise\", layout=label_layout)\n",
        "  prob_white_sep_noise = widgets.FloatSlider(value=0.5, min=0, max=1, step=0.05, description=\"Probability\")\n",
        "  amount_sep_noise = widgets.FloatSlider(value=0.004, min=0, max=0.2, step=0.001, description=\"Amount\")\n",
        "  display(label_6, prob_white_sep_noise, amount_sep_noise)\n",
        "\n",
        "  # Color Diffusion\n",
        "  label_7 = widgets.Label(\"Color Diffusion\", layout=label_layout)\n",
        "  kernel_size_color_diffusion = widgets.IntSlider(value=99, min=1, max=201, step=2, description=\"Kernel Size\")\n",
        "  sigma_color_diffusion = widgets.FloatSlider(value=0, min=-10, max=10, step=1, description=\"Sigma\")\n",
        "  display(label_7, kernel_size_color_diffusion, sigma_color_diffusion)\n",
        "\n",
        "  # Color Shift\n",
        "  label_8 = widgets.Label(\"Color Shift\", layout=label_layout)\n",
        "  tx_color_shift = widgets.IntSlider(value=1, min=-50, max=50, step=1, description=\"Shift X\")\n",
        "  ty_color_shift = widgets.IntSlider(value=8, min=-50, max=50, step=1, description=\"Shift Y\")\n",
        "  display(label_8, tx_color_shift, ty_color_shift)\n",
        "\n",
        "  # Color Quantization\n",
        "  label_9 = widgets.Label(\"Color Quantization\", layout=label_layout)\n",
        "  k_color_quantization = widgets.IntSlider(value=8, min=2, max=256, step=1, description=\"K\")\n",
        "  display(label_9, k_color_quantization)\n",
        "\n",
        "  # Color Saturation HSV\n",
        "  label_10 = widgets.Label(\"Color Saturation HSV\", layout=label_layout)\n",
        "  factor_color_saturation_hsv = widgets.FloatSlider(value=1.4, min=0.1, max=2.1, step=0.1, description=\"Factor\")\n",
        "  display(label_10, factor_color_saturation_hsv)\n",
        "\n",
        "  # Color Saturation LAB\n",
        "  label_11 = widgets.Label(\"Color Saturation LAB\", layout=label_layout)\n",
        "  factora_saturation_lab = widgets.FloatSlider(value=3, min=0.1, max=5, step=0.1, description=\"Factor A\")\n",
        "  factorb_saturation_lab = widgets.FloatSlider(value=3, min=0.1, max=5, step=0.1, description=\"Factor B\")\n",
        "  display(label_11, factora_saturation_lab, factorb_saturation_lab)\n",
        "\n",
        "  # JPEG Compression\n",
        "  label_12 = widgets.Label(\"JPEG Compression\", layout=label_layout)\n",
        "  quality_jpeg_compression = widgets.IntSlider(value=50, min=1, max=100, step=5, description=\"Quality\")\n",
        "  display(label_12, quality_jpeg_compression)\n",
        "\n",
        "  # JPEG2000 Compression\n",
        "  label_13 = widgets.Label(\"JPEG2000 Compression\", layout=label_layout)\n",
        "  compressionRate_jpeg2000 = widgets.IntSlider(value=100, min=1, max=1000, step=10, description=\"Compression Rate\")\n",
        "  display(label_13, compressionRate_jpeg2000)\n",
        "\n",
        "  # Shearing Warp\n",
        "  label_14 = widgets.Label(\"Shearing Warp\", layout=label_layout)\n",
        "  sx_shearing_warp = widgets.FloatSlider(value=0, min=-0.3, max=0.3, step=0.05, description=\"shearing_x\")\n",
        "  sy_shearing_warp = widgets.FloatSlider(value=0, min=-0.3, max=0.3, step=0.05, description=\"shearing_y\")\n",
        "  display(label_14, sx_shearing_warp, sy_shearing_warp)\n",
        "\n",
        "  # Elastic Warp\n",
        "  label_15 = widgets.Label(\"Elastic Warp\", layout=label_layout)\n",
        "  alpha_elastic_warp = widgets.FloatSlider(value=0.5, min=0, max=1, step=0.01, description=\"elastic_alpha\")\n",
        "  display(label_15, alpha_elastic_warp)\n",
        "\n",
        "  # Bilinear Interpolation\n",
        "  label_16 = widgets.Label(\"Bilinear Interpolation\", layout=label_layout)\n",
        "  scale_bilinear_interpolation = widgets.FloatSlider(value=1, min=0.01, max=1, step=0.05, description=\"scale_interpolation\")\n",
        "  display(label_16, scale_bilinear_interpolation)\n",
        "\n",
        "  # Unsharp Mask\n",
        "  label_17 = widgets.Label(\"Unsharp Mask\", layout=label_layout)\n",
        "  intensity_unsharp_mask = widgets.FloatSlider(value=1, min=0, max=5, step=0.1, description=\"intensity_unsharp\")\n",
        "  display(label_17, intensity_unsharp_mask)\n",
        "\n",
        "  # Mult Contrast\n",
        "  label_18 = widgets.Label(\"Mult Contrast\", layout=label_layout)\n",
        "  intensity_mult_contrast = widgets.FloatSlider(value=1, min=0, max=5, step=0.1, description=\"intensity_contrast\")\n",
        "  display(label_18, intensity_mult_contrast)\n",
        "\n",
        "  # Global Brightness\n",
        "  label_19 = widgets.Label(\"Global Brightness\", layout=label_layout)\n",
        "  intensity_global_brightness = widgets.FloatSlider(value=0, min=-0.5, max=0.5, step=0.01, description=\"percent_brigthness\")\n",
        "  display(label_19, intensity_global_brightness)\n",
        "\n",
        "  # Local Brightness\n",
        "  label_20 = widgets.Label(\"Gamma Correction\", layout=label_layout)\n",
        "  gamma = widgets.FloatSlider(value=1, min=0, max=5, step=0.1, description=\"gamma_correction\")\n",
        "  display(label_20, gamma)\n",
        "\n",
        "  # Random Local Changing Brightness\n",
        "  label_21 = widgets.Label(\"Random Local Changing Brightness\", layout=label_layout)\n",
        "  n_random_local_brightness = widgets.IntSlider(value=1, min=1, max=5, step=1, description=\"n\")\n",
        "  sigma_x_range_random_local_brightness = widgets.FloatSlider(value=0.1, min=0.0, max=0.2, step=0.005, description=\"sx_range_local_brigthness\")\n",
        "  sigma_y_range_random_local_brightness = widgets.FloatSlider(value=0.1, min=0.0, max=0.2, step=0.005, description=\"sy_range_local_brigthness\")\n",
        "  display(\n",
        "      label_21,\n",
        "      n_random_local_brightness,\n",
        "      sigma_x_range_random_local_brightness,\n",
        "      sigma_y_range_random_local_brightness,\n",
        "  )\n",
        "\n",
        "  confirm_button = widgets.Button(description='Confirmar distorções')\n",
        "  output_button = widgets.Output()\n",
        "  display(confirm_button,output_button)\n",
        "\n",
        "  delete_button = widgets.Button(description='Deletar memória')\n",
        "  output_delete_button = widgets.Output()\n",
        "  display(delete_button,output_delete_button)\n",
        "\n",
        "\n",
        "  no_parameter = no_parameter_func()\n",
        "  distortions_params = {\n",
        "      0: [[sigma_gaussian_blur], [kernel_gaussian_blur]],  # Gaussian Blur\n",
        "      1: [[kernel_motion_blur]],                         # Motion Blur\n",
        "\n",
        "      2: [[mean_gaussian_noise], [var_gaussian_noise]],    # Gaussian Noise\n",
        "      3: [[limit_uniform_noise]],                        # Uniform Noise\n",
        "      4: [[mean_speckle_noise], [var_speckle_noise]],      # Speckle Noise\n",
        "      5: [[bias_poisson_noise]],                         # Poisson Noise\n",
        "      6: [[prob_white_sep_noise], [amount_sep_noise]],     # Separable Noise\n",
        "\n",
        "      7: [[kernel_size_color_diffusion], [sigma_color_diffusion]],  # Color Diffusion\n",
        "      8: [[tx_color_shift], [ty_color_shift]],                    # Color Shift\n",
        "      9: [[k_color_quantization]],                             # Color Quantization\n",
        "      10: [[factor_color_saturation_hsv]],                     # Color Saturation (HSV)\n",
        "      11: [[factora_saturation_lab], [factorb_saturation_lab]],    # Color Saturation (Lab)\n",
        "\n",
        "      12: [[quality_jpeg_compression]],                   # JPEG Compression\n",
        "      13: [[compressionRate_jpeg2000]],                   # JPEG2000 Compression\n",
        "\n",
        "      14: [[no_parameter]], #Invert\n",
        "      15: [[sx_shearing_warp], [sy_shearing_warp]],        # Shearing Warp\n",
        "      16: [[alpha_elastic_warp]],                         # Elastic Warp\n",
        "      17: [[scale_bilinear_interpolation]],               # Bilinear Interpolation\n",
        "      18: [[no_parameter]], #Rotations\n",
        "      19: [[intensity_unsharp_mask]],                     # Unsharp Mask\n",
        "      20: [[intensity_mult_contrast]],                    # Multi Contrast\n",
        "\n",
        "      21: [[intensity_global_brightness]],                # Global Brightness\n",
        "      22: [[gamma]],  # Gamma_correction\n",
        "      23: [\n",
        "          [n_random_local_brightness],\n",
        "          [sigma_x_range_random_local_brightness],\n",
        "          [sigma_y_range_random_local_brightness],\n",
        "\n",
        "      ]  # Random Local Brightness\n",
        "  }\n",
        "\n",
        "  return distortions_params, confirm_button, delete_button\n",
        "\n"
      ]
    },
    {
      "cell_type": "markdown",
      "source": [
        "###Setting Parameters"
      ],
      "metadata": {
        "id": "72tp8x7fJnd4"
      }
    },
    {
      "cell_type": "code",
      "source": [
        "def clean_parameters():\n",
        "  global parameters\n",
        "  parameters = None\n",
        "  print(\"Deletando parametros anteriores...\")\n",
        "\n",
        "def slider_to_parameter(dict_slider):\n",
        "  dict_parameter = {}\n",
        "  for i,parameter_each_distortion in dict_slider.items():\n",
        "     dict_parameter[i] = [[Parameter(p.value, p.description) for p in param] for param in parameter_each_distortion]\n",
        "     print(type(dict_parameter[i][0][0]))\n",
        "\n",
        "  return dict_parameter\n",
        "\n",
        "#Check if there is a new parameter\n",
        "def check_unique_parameter_value(current_slider, list_sliders):\n",
        "  for param in list_sliders:\n",
        "    #print(\"debug: \",current_slider, list_sliders)\n",
        "    if param.value == current_slider.value and param.description == current_slider.description:\n",
        "      return False\n",
        "  return True\n",
        "\n",
        "def update_parameters(parameters_current):\n",
        "  global parameters\n",
        "  #initialize parameters' disctionaries\n",
        "  if parameters is None:\n",
        "    parameters = slider_to_parameter(parameters_current)\n",
        "\n",
        "  #Add new parameters\n",
        "  else:\n",
        "    for i,parameter_each_distortion in parameters.items():\n",
        "      max_size=0 #Index used to duplicate the other distortions that didn't change\n",
        "      for j, p in enumerate(parameter_each_distortion):\n",
        "        if check_unique_parameter_value(parameters_current[i][j][0], p):\n",
        "          p.append(Parameter(parameters_current[i][j][0].value, parameters_current[i][j][0].description))\n",
        "          max_size = len(p)\n",
        "\n",
        "      for p in parameter_each_distortion:\n",
        "        if len(p)<max_size:\n",
        "          p.append(p[len(p)-1])\n",
        "\n",
        "  print(\"Parâmetros registrados\")"
      ],
      "metadata": {
        "id": "gqrTpvJlJjer"
      },
      "execution_count": null,
      "outputs": []
    },
    {
      "cell_type": "markdown",
      "metadata": {
        "id": "nccsDpvrjVKa"
      },
      "source": [
        "### **Dictionaries**"
      ]
    },
    {
      "cell_type": "code",
      "execution_count": null,
      "metadata": {
        "id": "UVdkfJTUxvlQ"
      },
      "outputs": [],
      "source": [
        "distortions_dict = {\n",
        "    0: generate_gaussian_blur, #Ok\n",
        "    1: generate_motion_blur, # Ok\n",
        "    2: generate_gaussian_noise,#Ok\n",
        "    3: generate_uniform_noise, #Ok\n",
        "    4: generate_speckle_noise, #Ok\n",
        "    5: generate_poisson_noise, #Ok\n",
        "    6: generate_sep_noise,#Ok\n",
        "    7: generate_color_diffusion, #Ok\n",
        "    8: generate_color_shift, # Ok\n",
        "    9: generate_color_quantization, #Ok\n",
        "    10: generate_color_saturation_hsv,#Ok\n",
        "    11: generate_color_saturation_lab,#Ok\n",
        "    12: generate_compression_jpeg,#Ok\n",
        "    13: generate_compression_jpeg2000,#Ok\n",
        "    14: generate_invert_warp, #Ok\n",
        "    15: generate_shearing_warp, #Ok\n",
        "    16: generate_elastic_warp, #Ok\n",
        "    17: generate_bilinear_interpolation, #Ok\n",
        "    18: generate_rotations, # Ok\n",
        "    19: generate_unsharp_mask, #Ok\n",
        "    20: generate_mult_contrast, #Ok\n",
        "    21: generate_global_brigthness,#Ok\n",
        "    22: generate_gamma_correction, # Ok\n",
        "    23: generate_random_local_brigthness #Ok\n",
        "}\n",
        "\n",
        "distortions_labels = {\n",
        "    0: \"gaussian_blur\",\n",
        "    1: \"motion_blur\",\n",
        "    2: \"gaussian_noise\",\n",
        "    3: \"uniform_noise\",\n",
        "    4: \"speckle_noise\",\n",
        "    5: \"poisson_noise\",\n",
        "    6: \"sep_noise\",\n",
        "    7: \"color_diffusion\",\n",
        "    8: \"color_shift\",\n",
        "    9: \"color_quantization\",\n",
        "    10: \"color_saturation_hsv\",\n",
        "    11: \"color_saturation_lab\",\n",
        "    12: \"compression_jpeg\",\n",
        "    13: \"compression_jpeg2000\",\n",
        "    14: \"invert_warp\",\n",
        "    15: \"shearing_warp\",\n",
        "    16: \"elastic_warp\",\n",
        "    17: \"bilinear_interpolation\",\n",
        "    18: \"rotations\",\n",
        "    19: \"unsharp_mask\",\n",
        "    20: \"mult_contrast\",\n",
        "    21: \"global_brigthness\",\n",
        "    22: \"gamma_correction\",\n",
        "    23: \"random_local_brigthness\"\n",
        "}\n",
        "\n",
        "invert_distortions_labels = {b: a for (a,b) in distortions_labels.items()}"
      ]
    },
    {
      "cell_type": "markdown",
      "source": [
        "### **IQA** **references**"
      ],
      "metadata": {
        "id": "JZcQ9-f15fJz"
      }
    },
    {
      "cell_type": "code",
      "source": [
        "def rounding(number):\n",
        "  assert isinstance(number, float) or isinstance(number, int)\n",
        "\n",
        "  if number == '-':\n",
        "    return number\n",
        "  elif isinstance(number, float):\n",
        "    return float(f'{number:.2f}')\n",
        "  else:\n",
        "    return number"
      ],
      "metadata": {
        "id": "MDXJE8uWoI3G"
      },
      "execution_count": null,
      "outputs": []
    },
    {
      "cell_type": "markdown",
      "source": [
        "#### Psnr"
      ],
      "metadata": {
        "id": "FMi_Zbyf55n5"
      }
    },
    {
      "cell_type": "code",
      "source": [
        "def calculating_psnr(base, images):\n",
        "  shape = len(base.shape)\n",
        "  psnr_list = []\n",
        "\n",
        "  for image in images:\n",
        "    if image.shape == base.shape:\n",
        "\n",
        "      if shape == 2:\n",
        "        rows, cols = base.shape\n",
        "        mse = np.sum(((base-image)**2)/(rows*cols))\n",
        "      else:\n",
        "        rows, cols, chs = base.shape\n",
        "        mse = 0\n",
        "        for c in range(chs):\n",
        "          mse += np.sum((base[:,:,c]-image[:,:,c])**2)\n",
        "        mse = mse/(rows*cols*chs)\n",
        "\n",
        "      if mse == 0:\n",
        "        psnr_list.append(100)\n",
        "      else:\n",
        "        psnr = 20 * np.log10(255/np.sqrt(mse))\n",
        "        psnr_list.append(rounding(psnr))\n",
        "\n",
        "    else:\n",
        "      psnr_list.append('-')\n",
        "\n",
        "  return psnr_list"
      ],
      "metadata": {
        "id": "F3a5CcM-5oUS"
      },
      "execution_count": null,
      "outputs": []
    },
    {
      "cell_type": "markdown",
      "source": [
        "#### SSIM"
      ],
      "metadata": {
        "id": "j31Eeqhh5_RH"
      }
    },
    {
      "cell_type": "code",
      "source": [
        "def rounding(number):\n",
        "  assert isinstance(number, float) or isinstance(number, int)\n",
        "\n",
        "  if number == '-':\n",
        "    return number\n",
        "  elif isinstance(number, float):\n",
        "    return float(f'{number:.2f}')\n",
        "  else:\n",
        "    return number\n",
        "\n",
        "def ssim(base, images):\n",
        "  values = []\n",
        "  gray_base = cv.cvtColor(base, cv.COLOR_BGR2GRAY) if len(base.shape) == 3 else base\n",
        "\n",
        "  for image in images: # [720][480][3]\n",
        "    types_of_ssim = dict()\n",
        "    if image.shape == base.shape:\n",
        "      if len(image.shape) == 2:\n",
        "        types_of_ssim[\"ssim_gray\"] = rounding(calc_ssim(gray_base, image))\n",
        "        types_of_ssim[\"ssim_r\"] = '-'\n",
        "        types_of_ssim[\"ssim_g\"] = '-'\n",
        "        types_of_ssim[\"ssim_b\"] = '-'\n",
        "      else:\n",
        "        gray_image = cv.cvtColor(image, cv.COLOR_BGR2GRAY)\n",
        "        B_base, G_base, R_base = cv.split(base)\n",
        "        B_image, G_image, R_image = cv.split(image)\n",
        "\n",
        "        types_of_ssim[\"ssim_gray\"] = rounding(calc_ssim(gray_base, gray_image))\n",
        "        types_of_ssim[\"ssim_r\"] = rounding(calc_ssim(R_base, R_image))\n",
        "        types_of_ssim[\"ssim_g\"] = rounding(calc_ssim(G_base, G_image))\n",
        "        types_of_ssim[\"ssim_b\"] = rounding(calc_ssim(B_base, B_image))\n",
        "\n",
        "      values.append(types_of_ssim)\n",
        "\n",
        "    else:\n",
        "      types_of_ssim[\"ssim_gray\"] = '-'\n",
        "      types_of_ssim[\"ssim_r\"] = '-'\n",
        "      types_of_ssim[\"ssim_g\"] = '-'\n",
        "      types_of_ssim[\"ssim_b\"] = '-'\n",
        "      values.append(types_of_ssim)\n",
        "  return values"
      ],
      "metadata": {
        "id": "j_od0EdZ58R6"
      },
      "execution_count": null,
      "outputs": []
    },
    {
      "cell_type": "markdown",
      "source": [
        "#### Return of indices"
      ],
      "metadata": {
        "id": "S_eitjLb6Oxx"
      }
    },
    {
      "cell_type": "code",
      "source": [
        "def get_fr_iqa(imagem, new_img, psnr_list, ssim_list):\n",
        "  psnr_list.extend(calculating_psnr(imagem,new_img))\n",
        "  ssim_list.extend(ssim(imagem, new_img))\n",
        "  #for i in range(len(new_img)):\n",
        "  return psnr_list, ssim_list\n",
        "\n",
        "def calc_indexes(base, images):\n",
        "  psnr_list = []\n",
        "  ssim_list = []\n",
        "\n",
        "\n",
        "  for image in images:\n",
        "    value_ssim = ssim(base, image)\n",
        "    value_psnr = calculating_psnr(base, image)\n",
        "    psnr_list.append(value_psnr)\n",
        "    ssim_list.append(value_ssim)\n",
        "\n",
        "  return psnr_list, ssim_list"
      ],
      "metadata": {
        "id": "V-bbjSjH6OPo"
      },
      "execution_count": null,
      "outputs": []
    },
    {
      "cell_type": "markdown",
      "source": [
        "### **Writing CSV's**"
      ],
      "metadata": {
        "id": "QU2eAxdH6Ve5"
      }
    },
    {
      "cell_type": "code",
      "source": [
        "\n",
        "def read_labels(img_name, path_output):\n",
        "\n",
        "#Check if is a image and is not a original image\n",
        "  string = img_name.split(sep = '_')\n",
        "  if len(string)>= 3 and string[0] == \"im\":\n",
        "    distortion_number = int(string[2])\n",
        "  else:\n",
        "    return \"-\"\n",
        "\n",
        "#Read from labels to know the composition\n",
        "  with open(path_output + \"labels.csv\", 'r') as file:\n",
        "    reader = csv.reader(file)\n",
        "    for row in reader:\n",
        "      #Labels has two columns [number, composition], we need to match the number on the image with the number on label\n",
        "      if(row[0].isdigit() and int(row[0]) == distortion_number):\n",
        "        distortions_names = row[1]\n",
        "        file.close()\n",
        "        return distortions_names\n",
        "\n",
        "\n",
        "def create_dict_to_csv(image, psnr_value, ssim_value, distortions_names_used: list, parameters):\n",
        "  #distortions_names_used OK\n",
        "\n",
        "  dictionary = {}\n",
        "\n",
        "  dictionary[\"im_name\"] = image\n",
        "  dictionary[\"psnr\"] = psnr_value\n",
        "\n",
        "  for key, value in ssim_value.items():\n",
        "    dictionary[key] = value\n",
        "\n",
        "  idx_distortions_used = []\n",
        "  label = distortions_names_used.split(sep = ' ')\n",
        "\n",
        "  label = [element for element in label if element != '+']\n",
        "\n",
        "\n",
        "  if label != [\"-\"]:\n",
        "    for distortion in label:\n",
        "      idx_distortions_used.append(invert_distortions_labels[distortion])\n",
        "\n",
        "  for (i, funcs) in parameters.items(): #Run over each function\n",
        "    for slider in funcs:\n",
        "      if slider[0].description != \"\":\n",
        "        if not(isinstance(slider[0], no_parameter_func)) and (i in idx_distortions_used):\n",
        "          name = slider[0].description\n",
        "          dictionary[name] = slider[0].value\n",
        "        elif not(isinstance(slider[0], no_parameter_func)):\n",
        "          name = slider[0].description\n",
        "          dictionary[name] = '-'\n",
        "\n",
        "\n",
        "  dictionary[\"composition\"] = distortions_names_used\n",
        "  return dictionary\n",
        "\n",
        "def get_parameters_names(parameters):\n",
        "  return [param[0].description for slider in parameters.values() for param in slider ]\n",
        "\n",
        "def create_csv(path, images_list, psnr_list, ssim_list, path_output, parameters):\n",
        "  dict_rows = []\n",
        "  for imagem, psnr_value, ssim_value in zip(images_list, psnr_list, ssim_list):\n",
        "    distortions_names_used = read_labels(imagem, path_output)\n",
        "    dictionary = create_dict_to_csv(imagem, psnr_value, ssim_value, distortions_names_used, parameters)\n",
        "    dict_rows.append(dictionary)\n",
        "\n",
        "  fields = dict_rows[0].keys()\n",
        "  with open(path + \"tabela.csv\",\"w\",newline='') as file:\n",
        "    writer = csv.DictWriter(file,fieldnames=fields)\n",
        "    writer.writeheader()\n",
        "    writer.writerows(dict_rows)\n",
        "\n",
        "\n",
        "def label_csv(path, labels_dict):\n",
        "\n",
        "  dict_rows = [dict(index=idx, distortion_name=name) for idx, name in labels_dict.items()]\n",
        "\n",
        "  fields = dict_rows[0].keys()\n",
        "  with open(path + \"labels.csv\",\"w\",newline='') as file:\n",
        "    writer = csv.DictWriter(file,fieldnames=fields)\n",
        "    writer.writeheader()\n",
        "    writer.writerows(dict_rows)"
      ],
      "metadata": {
        "id": "Oy5uURI_6iQf"
      },
      "execution_count": null,
      "outputs": []
    },
    {
      "cell_type": "markdown",
      "metadata": {
        "id": "W-xnlqoOja1q"
      },
      "source": [
        "### Auxiliar Functions"
      ]
    },
    {
      "cell_type": "code",
      "execution_count": null,
      "metadata": {
        "id": "6S8nmpNYg2Ma"
      },
      "outputs": [],
      "source": [
        "#Write in drive\n",
        "def write_images(path, images, img_idx, distortion_idx=None):\n",
        "  level_idx = len(images)\n",
        "  name_list = []\n",
        "\n",
        "  for i in range(len(images)):\n",
        "    if distortion_idx is not None:\n",
        "      name = f'im_{img_idx:02}_{distortion_idx:02}_{i+1:02}.png'\n",
        "    else:\n",
        "      name = f'im_{img_idx:02}.png'\n",
        "    name_list.append(name)\n",
        "    cv.imwrite(path+name, images[i])\n",
        "    print(name)\n",
        "\n",
        "  return name_list\n",
        "\n",
        "#Calculate similarity index psnr\n",
        "\n",
        "\n",
        "#Print dicionary\n",
        "def show_func_dict(dictionary: dict):\n",
        "  print(\"Índice de cada função:\")\n",
        "  for idx,func in dictionary.items():\n",
        "    print(idx, \": \", func.__name__)\n",
        "  print()\n",
        "\n",
        "#Get all original images from drive\n",
        "def get_all_images(path):\n",
        "  paths = [f for m_files in [glob.glob(path+e) for e in ('*.png', '*.jpg', '*.jp2', '*.jpeg', '*.webp', '*.bmp', '*.gif')] for f in m_files]\n",
        "  return paths\n",
        "\n",
        "#Just to print\n",
        "def show_images(img_matrix):\n",
        "  images = []\n",
        "  for line in img_matrix:\n",
        "    images.append(np.hstack(line))\n",
        "  cv2_imshow(np.vstack(images))\n",
        "\n",
        "def add_new_distortion(combinations, idx_max, labels):\n",
        "  name = ''\n",
        "  for (f,i) in combinations:\n",
        "    name = name + labels[i] + ' + '\n",
        "  labels[idx_max] = name[:-3]\n",
        "  return idx_max+1"
      ]
    },
    {
      "cell_type": "markdown",
      "source": [
        "### Choices"
      ],
      "metadata": {
        "id": "Ol3IDncskCka"
      }
    },
    {
      "cell_type": "markdown",
      "source": [
        "#### Check Boxes"
      ],
      "metadata": {
        "id": "41kem49yjtLe"
      }
    },
    {
      "cell_type": "code",
      "execution_count": null,
      "metadata": {
        "colab": {
          "base_uri": "https://localhost:8080/",
          "height": 1000,
          "referenced_widgets": [
            "223c7e11cf07464ab0511d536c7f057d",
            "6043fb41f75a4bb983e484721dd3e428",
            "5b9fd9c087884167accec948e24239a1",
            "78fa0ee746f743bd951e031ddb03541a",
            "5f0288e637fb49538b763a52d431bd92",
            "2e455846c12c4f8a90e494413a129e0c",
            "f0244fd02e7848a99121a6717a84e125",
            "2526659ba56e43e7acfa077fed757514",
            "4eced23d631e48969759f055ca621c6c",
            "e787368fd64e4845af81c782e02d0abd",
            "0967ce1615824bdc8f1c40f044cab540",
            "aef60a41352d4fae872bf06594fff3c9",
            "631dc4f6f58b4f9bbeaf4384846af73c",
            "bfb4827713e740eb94943a11463109db",
            "7ea0c58bbde94b6c8e5fe084d265065e",
            "3f1f30995ab043fc9a113120119b30c8",
            "36d3453edcec423d935f168cfa910e7b",
            "6e91902ff55340b6bb07d77d17d849ce",
            "73662600ea614d949fdc467c8c69116d",
            "b4cdb669a88a45bf9932c7336668a1c3",
            "0a8b822a13fe450e910e9551fe08b7bc",
            "ea6d1e0d084c48dc9133c3f3f69d6871",
            "50e0b59e9e61453da064e6b0d536b359",
            "9edf4b8949b24b8f977836646df925f8",
            "71c9d889c4b54a3ab6ae2f908c90f282",
            "c97b47ce46a04611a08171c68a49989b",
            "e46dbc6337f643a3ad6a6084541be585",
            "a53ddfb4ec5642ecbdfde1d3b387a071",
            "630c6b7154dd4c5eb220902c0ce3f2fe",
            "ecfcb5d0727341a0bcdb437db0add364",
            "d3291a031d534874babf57869cf436a2",
            "63f5b2cc4c00488ea0bac6037dd80d19",
            "fe7610d7d9854cd18920ea56c68e579b",
            "1cc5f05f896b494aaf329b78c2219f54",
            "8b78753ee6b54406be21d14b47c6c9c9",
            "6a8361f7c4074695a04c2d5f5f3f26f8",
            "eda858ead756440380c5c56b17e66134",
            "a93e6ef453b14780b01cc3d268cd1d93",
            "6608ed1684234f2e819d56ce78f92303",
            "6b3bfa80abe340e0acc34954ceabefce",
            "70d0362213b84c1d9223ba6cc1db1302",
            "6710b592ea06493fbe0f70bc6433faf4",
            "053d4cabfc684fe1a9f43fcda42cc017",
            "4cfbf818f88b47d5be7663a4ec9e3461",
            "6fa91d467c214bbab243cf170edc65e2",
            "d6b68afd92c14162b1d37955701e137d",
            "31ee22b768554e2cbbd17ef121e79f3b",
            "e78edee7beb547f0816ebb330941dcfc",
            "3ef9f4ed623f4f0898082d24f36faa15",
            "e780a446cf1b4b91b0da2ae24f619bbe",
            "f5e4dcc2645345a2bcc48dbce1042f4b",
            "7ae49ff33afc45f3841215081b3b9be8",
            "dc36c958773940a88679ba693a4cec40",
            "bb7f61a532224b6aa4128532e15da28a",
            "549fec252ae94c6da5d66bf9a6934dbc",
            "8c6156e0b31d427ca3c6ae32c9fdadf8",
            "e8deec110e2842de8a50ac8c24e91692",
            "a4019034cac648a29a07bfe25920fe62",
            "91e31d02050e4d589e26d518f664fba5",
            "de5e24de8b374850a30b060327ac1e99",
            "27ebdcccba8a438e947030c01fa85a52",
            "978b37320a004859b99877cf293dab77",
            "c6bcc482fa2e491f8a2f8af2c9a5c2c4",
            "a246c34b657947c48f4aed409184a4b3",
            "c57fa619e0d849d998931d7698ce143f",
            "52bad3c9c7954116b0097b723f166130",
            "0de74dfb8b314096b837a83cada7e5b3",
            "486203661ef246998e52b3ff5b65ada3",
            "1575c734f4624b22b56e7706a5beefd9",
            "6b35f2c391de49bdb5a5541727e55e24",
            "148ce130f14a4ea3a04e1134cc5827e8",
            "dae377999a4140bd982d6b88f2dd43cd",
            "5432e3a8de7a4bbe98a377029e6b55b4",
            "3de40965ae1f45299ac551a96665bd65",
            "d0b4ef7725854d429fcb21ad2f861a23",
            "022bd54c10384a359dfe7a4579ec7888",
            "8680f2c7a4db48c3ab1fc0c134829b9d",
            "0074e889d88d481eb99e97c4eafdaa71",
            "2630c0f7245d4ede9f4473cc6ce62606",
            "06ec8575bc5a4eaa875c63bb69b59702",
            "c90ca4fc8c9c4ce5a8ea49b576ec444f",
            "1942f5fa542c48c9ba5a254e06b90a24",
            "abcfdba446fa439ba9c2b765b4085db3",
            "68762a3590904cadb322c5fa5358f427",
            "418c011b611241268f59c69f5e5157c2",
            "d31d684133f1408ca5be09d33eddd609",
            "011b826228514e28833d30a220a8ab94",
            "9389d9fb8ae24f49b1af40e9dbae12ca",
            "81cd2c46bb6d4144a89ffbea35872f7f",
            "5f311064339749e9a3a619baa5fb9d42",
            "48bfe1b60e9f451d8d0f16bd1f9c877e",
            "8c108598a22349a5aee9a0f6b8dd28de",
            "b99557f629fd4a1c8ac589f0d796fb86",
            "1e4b39bd22a849e288c83b4ede939502",
            "43fb303e6a1c4e809c62b06832e1e9c8",
            "2e99e4b5a0914a5193dcb2b3a9ddd960",
            "983253e276c7448bb599e38a380ca299",
            "d265a1fad4a94b5a909b9321f534b510",
            "3966a4146a5740168a1f37e7f4208c76"
          ]
        },
        "id": "I6kGC6o4igeI",
        "outputId": "13ca53be-9fe5-4bf3-aa39-ad76e98cbbe9"
      },
      "outputs": [
        {
          "output_type": "display_data",
          "data": {
            "text/plain": [
              "Label(value='Blurs Distortions')"
            ],
            "application/vnd.jupyter.widget-view+json": {
              "version_major": 2,
              "version_minor": 0,
              "model_id": "223c7e11cf07464ab0511d536c7f057d"
            }
          },
          "metadata": {}
        },
        {
          "output_type": "display_data",
          "data": {
            "text/plain": [
              "Checkbox(value=False, description='generate_gaussian_blur')"
            ],
            "application/vnd.jupyter.widget-view+json": {
              "version_major": 2,
              "version_minor": 0,
              "model_id": "78fa0ee746f743bd951e031ddb03541a"
            }
          },
          "metadata": {}
        },
        {
          "output_type": "display_data",
          "data": {
            "text/plain": [
              "Checkbox(value=False, description='generate_motion_blur')"
            ],
            "application/vnd.jupyter.widget-view+json": {
              "version_major": 2,
              "version_minor": 0,
              "model_id": "f0244fd02e7848a99121a6717a84e125"
            }
          },
          "metadata": {}
        },
        {
          "output_type": "display_data",
          "data": {
            "text/plain": [
              "Label(value='Noises Distortions')"
            ],
            "application/vnd.jupyter.widget-view+json": {
              "version_major": 2,
              "version_minor": 0,
              "model_id": "e787368fd64e4845af81c782e02d0abd"
            }
          },
          "metadata": {}
        },
        {
          "output_type": "display_data",
          "data": {
            "text/plain": [
              "Checkbox(value=False, description='generate_gaussian_noise')"
            ],
            "application/vnd.jupyter.widget-view+json": {
              "version_major": 2,
              "version_minor": 0,
              "model_id": "631dc4f6f58b4f9bbeaf4384846af73c"
            }
          },
          "metadata": {}
        },
        {
          "output_type": "display_data",
          "data": {
            "text/plain": [
              "Checkbox(value=False, description='generate_uniform_noise')"
            ],
            "application/vnd.jupyter.widget-view+json": {
              "version_major": 2,
              "version_minor": 0,
              "model_id": "3f1f30995ab043fc9a113120119b30c8"
            }
          },
          "metadata": {}
        },
        {
          "output_type": "display_data",
          "data": {
            "text/plain": [
              "Checkbox(value=False, description='generate_speckle_noise')"
            ],
            "application/vnd.jupyter.widget-view+json": {
              "version_major": 2,
              "version_minor": 0,
              "model_id": "73662600ea614d949fdc467c8c69116d"
            }
          },
          "metadata": {}
        },
        {
          "output_type": "display_data",
          "data": {
            "text/plain": [
              "Checkbox(value=False, description='generate_poisson_noise')"
            ],
            "application/vnd.jupyter.widget-view+json": {
              "version_major": 2,
              "version_minor": 0,
              "model_id": "ea6d1e0d084c48dc9133c3f3f69d6871"
            }
          },
          "metadata": {}
        },
        {
          "output_type": "display_data",
          "data": {
            "text/plain": [
              "Checkbox(value=False, description='generate_sep_noise')"
            ],
            "application/vnd.jupyter.widget-view+json": {
              "version_major": 2,
              "version_minor": 0,
              "model_id": "71c9d889c4b54a3ab6ae2f908c90f282"
            }
          },
          "metadata": {}
        },
        {
          "output_type": "display_data",
          "data": {
            "text/plain": [
              "Label(value='Colors Distortions')"
            ],
            "application/vnd.jupyter.widget-view+json": {
              "version_major": 2,
              "version_minor": 0,
              "model_id": "a53ddfb4ec5642ecbdfde1d3b387a071"
            }
          },
          "metadata": {}
        },
        {
          "output_type": "display_data",
          "data": {
            "text/plain": [
              "Checkbox(value=False, description='generate_color_diffusion')"
            ],
            "application/vnd.jupyter.widget-view+json": {
              "version_major": 2,
              "version_minor": 0,
              "model_id": "d3291a031d534874babf57869cf436a2"
            }
          },
          "metadata": {}
        },
        {
          "output_type": "display_data",
          "data": {
            "text/plain": [
              "Checkbox(value=False, description='generate_color_shift')"
            ],
            "application/vnd.jupyter.widget-view+json": {
              "version_major": 2,
              "version_minor": 0,
              "model_id": "1cc5f05f896b494aaf329b78c2219f54"
            }
          },
          "metadata": {}
        },
        {
          "output_type": "display_data",
          "data": {
            "text/plain": [
              "Checkbox(value=False, description='generate_color_quantization')"
            ],
            "application/vnd.jupyter.widget-view+json": {
              "version_major": 2,
              "version_minor": 0,
              "model_id": "eda858ead756440380c5c56b17e66134"
            }
          },
          "metadata": {}
        },
        {
          "output_type": "display_data",
          "data": {
            "text/plain": [
              "Checkbox(value=False, description='generate_color_saturation_hsv')"
            ],
            "application/vnd.jupyter.widget-view+json": {
              "version_major": 2,
              "version_minor": 0,
              "model_id": "6b3bfa80abe340e0acc34954ceabefce"
            }
          },
          "metadata": {}
        },
        {
          "output_type": "display_data",
          "data": {
            "text/plain": [
              "Checkbox(value=False, description='generate_color_saturation_lab')"
            ],
            "application/vnd.jupyter.widget-view+json": {
              "version_major": 2,
              "version_minor": 0,
              "model_id": "053d4cabfc684fe1a9f43fcda42cc017"
            }
          },
          "metadata": {}
        },
        {
          "output_type": "display_data",
          "data": {
            "text/plain": [
              "Label(value='Jpegs Compression')"
            ],
            "application/vnd.jupyter.widget-view+json": {
              "version_major": 2,
              "version_minor": 0,
              "model_id": "d6b68afd92c14162b1d37955701e137d"
            }
          },
          "metadata": {}
        },
        {
          "output_type": "display_data",
          "data": {
            "text/plain": [
              "Checkbox(value=False, description='generate_compression_jpeg')"
            ],
            "application/vnd.jupyter.widget-view+json": {
              "version_major": 2,
              "version_minor": 0,
              "model_id": "3ef9f4ed623f4f0898082d24f36faa15"
            }
          },
          "metadata": {}
        },
        {
          "output_type": "display_data",
          "data": {
            "text/plain": [
              "Checkbox(value=False, description='generate_compression_jpeg2000')"
            ],
            "application/vnd.jupyter.widget-view+json": {
              "version_major": 2,
              "version_minor": 0,
              "model_id": "7ae49ff33afc45f3841215081b3b9be8"
            }
          },
          "metadata": {}
        },
        {
          "output_type": "display_data",
          "data": {
            "text/plain": [
              "Label(value='Warps Distortions')"
            ],
            "application/vnd.jupyter.widget-view+json": {
              "version_major": 2,
              "version_minor": 0,
              "model_id": "549fec252ae94c6da5d66bf9a6934dbc"
            }
          },
          "metadata": {}
        },
        {
          "output_type": "display_data",
          "data": {
            "text/plain": [
              "Checkbox(value=False, description='generate_invert_warp')"
            ],
            "application/vnd.jupyter.widget-view+json": {
              "version_major": 2,
              "version_minor": 0,
              "model_id": "a4019034cac648a29a07bfe25920fe62"
            }
          },
          "metadata": {}
        },
        {
          "output_type": "display_data",
          "data": {
            "text/plain": [
              "Checkbox(value=False, description='generate_shearing_warp')"
            ],
            "application/vnd.jupyter.widget-view+json": {
              "version_major": 2,
              "version_minor": 0,
              "model_id": "27ebdcccba8a438e947030c01fa85a52"
            }
          },
          "metadata": {}
        },
        {
          "output_type": "display_data",
          "data": {
            "text/plain": [
              "Checkbox(value=False, description='generate_elastic_warp')"
            ],
            "application/vnd.jupyter.widget-view+json": {
              "version_major": 2,
              "version_minor": 0,
              "model_id": "a246c34b657947c48f4aed409184a4b3"
            }
          },
          "metadata": {}
        },
        {
          "output_type": "display_data",
          "data": {
            "text/plain": [
              "Checkbox(value=False, description='generate_bilinear_interpolation')"
            ],
            "application/vnd.jupyter.widget-view+json": {
              "version_major": 2,
              "version_minor": 0,
              "model_id": "0de74dfb8b314096b837a83cada7e5b3"
            }
          },
          "metadata": {}
        },
        {
          "output_type": "display_data",
          "data": {
            "text/plain": [
              "Checkbox(value=False, description='generate_rotations')"
            ],
            "application/vnd.jupyter.widget-view+json": {
              "version_major": 2,
              "version_minor": 0,
              "model_id": "6b35f2c391de49bdb5a5541727e55e24"
            }
          },
          "metadata": {}
        },
        {
          "output_type": "display_data",
          "data": {
            "text/plain": [
              "Label(value='Gamute Distortions')"
            ],
            "application/vnd.jupyter.widget-view+json": {
              "version_major": 2,
              "version_minor": 0,
              "model_id": "5432e3a8de7a4bbe98a377029e6b55b4"
            }
          },
          "metadata": {}
        },
        {
          "output_type": "display_data",
          "data": {
            "text/plain": [
              "Checkbox(value=False, description='generate_unsharp_mask')"
            ],
            "application/vnd.jupyter.widget-view+json": {
              "version_major": 2,
              "version_minor": 0,
              "model_id": "022bd54c10384a359dfe7a4579ec7888"
            }
          },
          "metadata": {}
        },
        {
          "output_type": "display_data",
          "data": {
            "text/plain": [
              "Checkbox(value=False, description='generate_mult_contrast')"
            ],
            "application/vnd.jupyter.widget-view+json": {
              "version_major": 2,
              "version_minor": 0,
              "model_id": "2630c0f7245d4ede9f4473cc6ce62606"
            }
          },
          "metadata": {}
        },
        {
          "output_type": "display_data",
          "data": {
            "text/plain": [
              "Label(value='Brigthness Distortions')"
            ],
            "application/vnd.jupyter.widget-view+json": {
              "version_major": 2,
              "version_minor": 0,
              "model_id": "1942f5fa542c48c9ba5a254e06b90a24"
            }
          },
          "metadata": {}
        },
        {
          "output_type": "display_data",
          "data": {
            "text/plain": [
              "Checkbox(value=False, description='generate_global_brigthness')"
            ],
            "application/vnd.jupyter.widget-view+json": {
              "version_major": 2,
              "version_minor": 0,
              "model_id": "418c011b611241268f59c69f5e5157c2"
            }
          },
          "metadata": {}
        },
        {
          "output_type": "display_data",
          "data": {
            "text/plain": [
              "Checkbox(value=False, description='generate_gamma_correction')"
            ],
            "application/vnd.jupyter.widget-view+json": {
              "version_major": 2,
              "version_minor": 0,
              "model_id": "9389d9fb8ae24f49b1af40e9dbae12ca"
            }
          },
          "metadata": {}
        },
        {
          "output_type": "display_data",
          "data": {
            "text/plain": [
              "Checkbox(value=False, description='generate_random_local_brigthness')"
            ],
            "application/vnd.jupyter.widget-view+json": {
              "version_major": 2,
              "version_minor": 0,
              "model_id": "48bfe1b60e9f451d8d0f16bd1f9c877e"
            }
          },
          "metadata": {}
        },
        {
          "output_type": "display_data",
          "data": {
            "text/plain": [
              "Label(value='How many distortions compositions?')"
            ],
            "application/vnd.jupyter.widget-view+json": {
              "version_major": 2,
              "version_minor": 0,
              "model_id": "1e4b39bd22a849e288c83b4ede939502"
            }
          },
          "metadata": {}
        },
        {
          "output_type": "display_data",
          "data": {
            "text/plain": [
              "IntSlider(value=1, continuous_update=False, description='N', max=3, min=1)"
            ],
            "application/vnd.jupyter.widget-view+json": {
              "version_major": 2,
              "version_minor": 0,
              "model_id": "983253e276c7448bb599e38a380ca299"
            }
          },
          "metadata": {}
        }
      ],
      "source": [
        "(choices, iterations) = display_choices()"
      ]
    },
    {
      "cell_type": "markdown",
      "metadata": {
        "id": "C88HbrbzNmP-"
      },
      "source": [
        "#### Parameters Choices"
      ]
    },
    {
      "cell_type": "code",
      "execution_count": null,
      "metadata": {
        "colab": {
          "base_uri": "https://localhost:8080/",
          "height": 1000,
          "referenced_widgets": [
            "4ba51a84b7814390a93ef028f970eb95",
            "c9af93bcc25543faaa36359b99985398",
            "df3c6371229e421fab82a22d5095a18c",
            "bb6f4ec63c3d47918aace52358a3116d",
            "8a2f3e4ff75548d9bc94e5944f3286c5",
            "ef513bb263df48e0b3107641cebd697e",
            "d7c95c4be7844d189cf3362b87b4fc90",
            "b86a0b5f085c4ca4966237527aee95e0",
            "ef79e19c09bc4bc0b4cc716ef1267d18",
            "bcf232e2929b4a2db7d957653977b344",
            "479b807ad1d342ca8738b0c06fccb36f",
            "628cba2289dc4c4a94b5e67f10cf5173",
            "72d8ff8f14dc4ef1b0f4f7fd97d6506f",
            "2a76f00cf4f940aa8ddd90f1cfcad234",
            "ecbbe0ce89a84a46b31f7f285b409550",
            "009509fcdd91484caeaf4a6243ca1c07",
            "ad6bedf65699471cb047fdffb980c93d",
            "5fad51bfdb69435598546e497eb6833e",
            "39cbea6148004b4890604e3de68b50c9",
            "2c1c61b2c9984396ab0564774bf7ff7c",
            "cb92bb1c5e694684955d6d4cb2d0a95b",
            "71d35338ef00483ba19a62f32ff4bd40",
            "3573e16c863e44b59a2c7d1921ab10e9",
            "8d50abfe4baf47a0adf884a7e97118ca",
            "3813249a51534e10a8a947989f048c85",
            "14d11729c1a14e66918309a9a67f3be5",
            "4b063958e76f4769a72b18acb338bdd4",
            "144c6679d9d54efdbf4939c9038de2e3",
            "5329f3ba18f549f8848f167457b4f3a5",
            "c109145bcebb4f8d8ac76469b1fe2767",
            "e755b926049e4375bd5d6e581d49871b",
            "c4ca6f7cf96f4447b4770012dfc0f5f7",
            "f71213da06614d9b8cd4d56a0aa3298f",
            "3d438bbc63fc4d8e827286f647c4c147",
            "4b76627a3fa5485d9430b5c3ce472d93",
            "89685c3b11ba40db90a6703a35dcbf97",
            "258914d12e6b408db7b301d75b1b29c4",
            "2d600b795866477e8f988b2f8f14c3ad",
            "701c7a0774a6481aba05803840231090",
            "4d3802c4cd8a4e6eb9f6b2e9af690727",
            "47df972b196c481592f3b8fd0706ad8d",
            "e4cc555bdd1c4f0eadeaa823a647d878",
            "6c2a24ce3eee4f06ba95fbb70cea9ac9",
            "2333ce18a1de4f818114a4503203392f",
            "26a9e4c1aedb402f8bffd04d9edf6485",
            "8c332d99444049489969afecc58a3b6a",
            "0522bf006e884ff9babc0f113100c1bc",
            "95ebf51af5e54ddca28f6033dec11f19",
            "a77baaad09b44d49bfead3de4f6eea75",
            "57a63b18f5a64c9da334909872eec5fc",
            "56131162d68e4ea2812f0bfcc683b8f7",
            "fdbe458dfd3447d8b6efdbbdbc5d8882",
            "a0df781402854bbfb6a3292de03462a9",
            "4fb1887a9a5440e1855fff022019308c",
            "052144665808441a925554f774edc68f",
            "d3f05cdd3eb5474298bde1201df4b2c6",
            "5a456d3b68cd4ab3b5bf8811e318d605",
            "67fe041d982a4fdc838d0199dab9efc1",
            "0265873d52c24348a1cdd1613c99b197",
            "4f1a77c2304949199106e855a671ab45",
            "859f81af831b4a4faf9f2d4238a4a77d",
            "3c72f690b42048f28db384e1c190732a",
            "d36b9307a07c4b458499186bb9ef932f",
            "665ad5cd8caf476c8241d0a6782ad289",
            "6ce256546ea6401584953acd0c742655",
            "78bd5e1a7c3949b983dd6edfe62b0e71",
            "6bde50e80b37405784c7012c76a15b31",
            "d5d80dd56021485b8911e8b5415a6a87",
            "0a41d287919444e6ae996571b0203bd1",
            "fee4f3d8fa5f4587b0cf051e67e3b3a1",
            "00ccf91dd2504159b902fe4242a287ec",
            "d73a7db0fbca423c8e535d014da4b989",
            "a9e04fd04bab41329e8fbbb1fd232d46",
            "0ea44425c1d54a8096024d4fad09efbd",
            "20dc6650b42441c8b4ff2b52834a787c",
            "c187912d41514a788416ee13fa2fc420",
            "6770ea75e3384fbd867c6a2b20221e06",
            "81e2da3827bd4e709d4e40dd9e37988a",
            "8dd2b4c2d92045b885fdfa882d3c087b",
            "6f69b490b6b9478a81eb03f6aae0bb7d",
            "4102ec7bb56e4712839191cff63e0a0d",
            "b53497a7b51d472e942b7fc1a0e479c6",
            "0a3de49bc24a4a9dbecc19bcb13a8326",
            "9ab8d41bdc024dac8283da11bd0f7209",
            "4bfeb398515347af9365115b8195a82b",
            "532567203b2f47a4986d39f443b763e0",
            "72c54499af74420a8400bdc6f3fc1816",
            "a679216aedc44916beccdc41a74369f3",
            "36a792e36fa944fc8b169274fd8089e5",
            "28e9d7d3de914da0834c722ab02ce5aa",
            "df8712046903431eae75f11626aaa0a7",
            "c024ae19eeca43cc94c87c1a5c834067",
            "78e720809d604f6bbee815157a43d4a7",
            "1b61e0add764431ea742bc304ee03097",
            "0d252f94118240c6a100a76af7f4c6ef",
            "562bfa05edd3467f9c9064f1ad6b1470",
            "e334dea141a64f43889175c65731be38",
            "afb63249b58f4d4c9d1782c1dc8fc1ba",
            "1013adcde4874c9a8b27d36746359300",
            "013cd07c229c4733b038ab7d87924a5d",
            "bc8b1c9da640417a81295402b511e923",
            "6dc5fe9f5a7f44a195ab35057381914d",
            "42eccd9266494e6489ce20816a9954b7",
            "ef425e5669744b6bba8f0d7132b551ea",
            "ff277f4a650d42cca9842454abf9ad1e",
            "ef0264441ad9494581ab1ebb60252615",
            "5971b33b493442d58802cd26f1bafe63",
            "c0b6418e0dd2416ba03fe0965ebac775",
            "20202139dd1440b58497fbc065af65a9",
            "7a633a433c2d4654819bc955285d943c",
            "33fea2d12de142bc9c909dc0d683cfe1",
            "4f76c4b42f0840a3a0f308133fd9a299",
            "5c520ae2a0a24f0084604f54865a30c1",
            "b8db154b5a414c1b9fa191f98ab22507",
            "36af8d007bd0451b9d2b3c34c8ae9b60",
            "194fe8d7f3cf4c76ac2392863efcb4d0",
            "707bb2d308d94afda952af0551ed0520",
            "4e859674c23642bdba610ad4d73356b4",
            "c03c287ebf1b4359b7f0b7242a52f04f",
            "effc8d9c2c094b7cae2664f651074dac",
            "0c717cb733b04314ba01c9fcaee09e6c",
            "9735f7f931ae4b73a032745700d4e3c2",
            "71812ad442e34e48adebf1d8a5446a30",
            "79be2dc3fd1844cb9d797d46abaa7d19",
            "c3933bba0e4845fea3f1d3ddecd58353",
            "690705772ea944e4a554f551a2a1ea9b",
            "7644adf24b094e9fabae4b69e536cb4c",
            "97d65e3225504be8a61bc39b3b85958a",
            "014894f58c1f4d13a8df46d800fa7795",
            "5e520659fdb24b62a1a0141f8bb4d85e",
            "a119cc42c1f54ce489718a8e389857ce",
            "8a9b8f1edc6a41f193ede6850a8d0d83",
            "a54d10c7290f4cd6a88438b6bd439073",
            "528298865cd942409f1f094a8553b003",
            "f80d7bafb02a437dafa4ad378675d29a",
            "b365cdc23e6f4b8eaa025bc3cc9df6e5",
            "3eada252fe604dee902dd5eb979f8ab0",
            "f465cefe1f3e4cb0aec910464821dba6",
            "ded8bcb7322b48ce8d98f648974796e2",
            "3765ce508d774e23b74d8f8b9c1ea23e",
            "46d6745f3f04472cb9495ea93e050be3",
            "dd3fbe2be6e5444fbdf11c293be97a8b",
            "78ff68d6da744791a18bac3848d99bb2",
            "6d0a1ab7b57340aaaaebd9adcd45c572",
            "c2670f9d02314ef79bf9e29a95e817dc",
            "888898de0c4d4349bc79effe486d3952",
            "18e04f0e080943de8f8b5f342e9f2778",
            "5339a69cf0074a18bdc873b51f4269aa",
            "9f23c5f35ec04c7092ad37971ed6f63a",
            "2aa32b8f82214bfd816495ba8be9ffc9",
            "7cf54fae9a0a49179a2d278038609dd7"
          ]
        },
        "id": "riM14ODANlpG",
        "outputId": "c956705a-c70f-4c1a-d3b2-2c09015d7659"
      },
      "outputs": [
        {
          "output_type": "display_data",
          "data": {
            "text/plain": [
              "Label(value='Gaussian Blur', layout=Layout(align_items='center', border='solid 1px gray', display='flex', heig…"
            ],
            "application/vnd.jupyter.widget-view+json": {
              "version_major": 2,
              "version_minor": 0,
              "model_id": "4ba51a84b7814390a93ef028f970eb95"
            }
          },
          "metadata": {}
        },
        {
          "output_type": "display_data",
          "data": {
            "text/plain": [
              "FloatSlider(value=20.0, description='gaussian_sigma', max=20.0)"
            ],
            "application/vnd.jupyter.widget-view+json": {
              "version_major": 2,
              "version_minor": 0,
              "model_id": "bb6f4ec63c3d47918aace52358a3116d"
            }
          },
          "metadata": {}
        },
        {
          "output_type": "display_data",
          "data": {
            "text/plain": [
              "IntSlider(value=15, description='gaussian_kernel', max=31, min=1, step=2)"
            ],
            "application/vnd.jupyter.widget-view+json": {
              "version_major": 2,
              "version_minor": 0,
              "model_id": "d7c95c4be7844d189cf3362b87b4fc90"
            }
          },
          "metadata": {}
        },
        {
          "output_type": "display_data",
          "data": {
            "text/plain": [
              "Label(value='Motion Blur', layout=Layout(align_items='center', border='solid 1px gray', display='flex', height…"
            ],
            "application/vnd.jupyter.widget-view+json": {
              "version_major": 2,
              "version_minor": 0,
              "model_id": "bcf232e2929b4a2db7d957653977b344"
            }
          },
          "metadata": {}
        },
        {
          "output_type": "display_data",
          "data": {
            "text/plain": [
              "IntSlider(value=15, description='motion_kernel', max=30, min=2)"
            ],
            "application/vnd.jupyter.widget-view+json": {
              "version_major": 2,
              "version_minor": 0,
              "model_id": "628cba2289dc4c4a94b5e67f10cf5173"
            }
          },
          "metadata": {}
        },
        {
          "output_type": "display_data",
          "data": {
            "text/plain": [
              "Label(value='Gaussian Noise', layout=Layout(align_items='center', border='solid 1px gray', display='flex', hei…"
            ],
            "application/vnd.jupyter.widget-view+json": {
              "version_major": 2,
              "version_minor": 0,
              "model_id": "ecbbe0ce89a84a46b31f7f285b409550"
            }
          },
          "metadata": {}
        },
        {
          "output_type": "display_data",
          "data": {
            "text/plain": [
              "FloatSlider(value=0.0, description='Mean', max=80.0, min=-80.0, step=1.0)"
            ],
            "application/vnd.jupyter.widget-view+json": {
              "version_major": 2,
              "version_minor": 0,
              "model_id": "ad6bedf65699471cb047fdffb980c93d"
            }
          },
          "metadata": {}
        },
        {
          "output_type": "display_data",
          "data": {
            "text/plain": [
              "FloatSlider(value=1800.0, description='Variance', max=3600.0, step=25.0)"
            ],
            "application/vnd.jupyter.widget-view+json": {
              "version_major": 2,
              "version_minor": 0,
              "model_id": "2c1c61b2c9984396ab0564774bf7ff7c"
            }
          },
          "metadata": {}
        },
        {
          "output_type": "display_data",
          "data": {
            "text/plain": [
              "Label(value='Uniform Noise', layout=Layout(align_items='center', border='solid 1px gray', display='flex', heig…"
            ],
            "application/vnd.jupyter.widget-view+json": {
              "version_major": 2,
              "version_minor": 0,
              "model_id": "3573e16c863e44b59a2c7d1921ab10e9"
            }
          },
          "metadata": {}
        },
        {
          "output_type": "display_data",
          "data": {
            "text/plain": [
              "IntSlider(value=75, description='Limit', max=150, step=25)"
            ],
            "application/vnd.jupyter.widget-view+json": {
              "version_major": 2,
              "version_minor": 0,
              "model_id": "3813249a51534e10a8a947989f048c85"
            }
          },
          "metadata": {}
        },
        {
          "output_type": "display_data",
          "data": {
            "text/plain": [
              "Label(value='Speckle Noise', layout=Layout(align_items='center', border='solid 1px gray', display='flex', heig…"
            ],
            "application/vnd.jupyter.widget-view+json": {
              "version_major": 2,
              "version_minor": 0,
              "model_id": "144c6679d9d54efdbf4939c9038de2e3"
            }
          },
          "metadata": {}
        },
        {
          "output_type": "display_data",
          "data": {
            "text/plain": [
              "FloatSlider(value=0.0, description='Mean', max=80.0, min=-80.0, step=1.0)"
            ],
            "application/vnd.jupyter.widget-view+json": {
              "version_major": 2,
              "version_minor": 0,
              "model_id": "c109145bcebb4f8d8ac76469b1fe2767"
            }
          },
          "metadata": {}
        },
        {
          "output_type": "display_data",
          "data": {
            "text/plain": [
              "FloatSlider(value=0.05, description='Variance', max=0.1, step=0.01)"
            ],
            "application/vnd.jupyter.widget-view+json": {
              "version_major": 2,
              "version_minor": 0,
              "model_id": "f71213da06614d9b8cd4d56a0aa3298f"
            }
          },
          "metadata": {}
        },
        {
          "output_type": "display_data",
          "data": {
            "text/plain": [
              "Label(value='Poisson Noise', layout=Layout(align_items='center', border='solid 1px gray', display='flex', heig…"
            ],
            "application/vnd.jupyter.widget-view+json": {
              "version_major": 2,
              "version_minor": 0,
              "model_id": "89685c3b11ba40db90a6703a35dcbf97"
            }
          },
          "metadata": {}
        },
        {
          "output_type": "display_data",
          "data": {
            "text/plain": [
              "FloatSlider(value=0.0009765625, description='Bias', max=1.0, min=0.00048828125, step=0.01)"
            ],
            "application/vnd.jupyter.widget-view+json": {
              "version_major": 2,
              "version_minor": 0,
              "model_id": "2d600b795866477e8f988b2f8f14c3ad"
            }
          },
          "metadata": {}
        },
        {
          "output_type": "display_data",
          "data": {
            "text/plain": [
              "Label(value='Separable Noise', layout=Layout(align_items='center', border='solid 1px gray', display='flex', he…"
            ],
            "application/vnd.jupyter.widget-view+json": {
              "version_major": 2,
              "version_minor": 0,
              "model_id": "47df972b196c481592f3b8fd0706ad8d"
            }
          },
          "metadata": {}
        },
        {
          "output_type": "display_data",
          "data": {
            "text/plain": [
              "FloatSlider(value=0.5, description='Probability', max=1.0, step=0.05)"
            ],
            "application/vnd.jupyter.widget-view+json": {
              "version_major": 2,
              "version_minor": 0,
              "model_id": "6c2a24ce3eee4f06ba95fbb70cea9ac9"
            }
          },
          "metadata": {}
        },
        {
          "output_type": "display_data",
          "data": {
            "text/plain": [
              "FloatSlider(value=0.004, description='Amount', max=0.2, step=0.001)"
            ],
            "application/vnd.jupyter.widget-view+json": {
              "version_major": 2,
              "version_minor": 0,
              "model_id": "8c332d99444049489969afecc58a3b6a"
            }
          },
          "metadata": {}
        },
        {
          "output_type": "display_data",
          "data": {
            "text/plain": [
              "Label(value='Color Diffusion', layout=Layout(align_items='center', border='solid 1px gray', display='flex', he…"
            ],
            "application/vnd.jupyter.widget-view+json": {
              "version_major": 2,
              "version_minor": 0,
              "model_id": "a77baaad09b44d49bfead3de4f6eea75"
            }
          },
          "metadata": {}
        },
        {
          "output_type": "display_data",
          "data": {
            "text/plain": [
              "IntSlider(value=99, description='Kernel Size', max=201, min=1, step=2)"
            ],
            "application/vnd.jupyter.widget-view+json": {
              "version_major": 2,
              "version_minor": 0,
              "model_id": "56131162d68e4ea2812f0bfcc683b8f7"
            }
          },
          "metadata": {}
        },
        {
          "output_type": "display_data",
          "data": {
            "text/plain": [
              "FloatSlider(value=0.0, description='Sigma', max=10.0, min=-10.0, step=1.0)"
            ],
            "application/vnd.jupyter.widget-view+json": {
              "version_major": 2,
              "version_minor": 0,
              "model_id": "4fb1887a9a5440e1855fff022019308c"
            }
          },
          "metadata": {}
        },
        {
          "output_type": "display_data",
          "data": {
            "text/plain": [
              "Label(value='Color Shift', layout=Layout(align_items='center', border='solid 1px gray', display='flex', height…"
            ],
            "application/vnd.jupyter.widget-view+json": {
              "version_major": 2,
              "version_minor": 0,
              "model_id": "5a456d3b68cd4ab3b5bf8811e318d605"
            }
          },
          "metadata": {}
        },
        {
          "output_type": "display_data",
          "data": {
            "text/plain": [
              "IntSlider(value=1, description='Shift X', max=50, min=-50)"
            ],
            "application/vnd.jupyter.widget-view+json": {
              "version_major": 2,
              "version_minor": 0,
              "model_id": "0265873d52c24348a1cdd1613c99b197"
            }
          },
          "metadata": {}
        },
        {
          "output_type": "display_data",
          "data": {
            "text/plain": [
              "IntSlider(value=8, description='Shift Y', max=50, min=-50)"
            ],
            "application/vnd.jupyter.widget-view+json": {
              "version_major": 2,
              "version_minor": 0,
              "model_id": "3c72f690b42048f28db384e1c190732a"
            }
          },
          "metadata": {}
        },
        {
          "output_type": "display_data",
          "data": {
            "text/plain": [
              "Label(value='Color Quantization', layout=Layout(align_items='center', border='solid 1px gray', display='flex',…"
            ],
            "application/vnd.jupyter.widget-view+json": {
              "version_major": 2,
              "version_minor": 0,
              "model_id": "6ce256546ea6401584953acd0c742655"
            }
          },
          "metadata": {}
        },
        {
          "output_type": "display_data",
          "data": {
            "text/plain": [
              "IntSlider(value=8, description='K', max=256, min=2)"
            ],
            "application/vnd.jupyter.widget-view+json": {
              "version_major": 2,
              "version_minor": 0,
              "model_id": "6bde50e80b37405784c7012c76a15b31"
            }
          },
          "metadata": {}
        },
        {
          "output_type": "display_data",
          "data": {
            "text/plain": [
              "Label(value='Color Saturation HSV', layout=Layout(align_items='center', border='solid 1px gray', display='flex…"
            ],
            "application/vnd.jupyter.widget-view+json": {
              "version_major": 2,
              "version_minor": 0,
              "model_id": "fee4f3d8fa5f4587b0cf051e67e3b3a1"
            }
          },
          "metadata": {}
        },
        {
          "output_type": "display_data",
          "data": {
            "text/plain": [
              "FloatSlider(value=1.4, description='Factor', max=2.1, min=0.1)"
            ],
            "application/vnd.jupyter.widget-view+json": {
              "version_major": 2,
              "version_minor": 0,
              "model_id": "d73a7db0fbca423c8e535d014da4b989"
            }
          },
          "metadata": {}
        },
        {
          "output_type": "display_data",
          "data": {
            "text/plain": [
              "Label(value='Color Saturation LAB', layout=Layout(align_items='center', border='solid 1px gray', display='flex…"
            ],
            "application/vnd.jupyter.widget-view+json": {
              "version_major": 2,
              "version_minor": 0,
              "model_id": "20dc6650b42441c8b4ff2b52834a787c"
            }
          },
          "metadata": {}
        },
        {
          "output_type": "display_data",
          "data": {
            "text/plain": [
              "FloatSlider(value=3.0, description='Factor A', max=5.0, min=0.1)"
            ],
            "application/vnd.jupyter.widget-view+json": {
              "version_major": 2,
              "version_minor": 0,
              "model_id": "6770ea75e3384fbd867c6a2b20221e06"
            }
          },
          "metadata": {}
        },
        {
          "output_type": "display_data",
          "data": {
            "text/plain": [
              "FloatSlider(value=3.0, description='Factor B', max=5.0, min=0.1)"
            ],
            "application/vnd.jupyter.widget-view+json": {
              "version_major": 2,
              "version_minor": 0,
              "model_id": "6f69b490b6b9478a81eb03f6aae0bb7d"
            }
          },
          "metadata": {}
        },
        {
          "output_type": "display_data",
          "data": {
            "text/plain": [
              "Label(value='JPEG Compression', layout=Layout(align_items='center', border='solid 1px gray', display='flex', h…"
            ],
            "application/vnd.jupyter.widget-view+json": {
              "version_major": 2,
              "version_minor": 0,
              "model_id": "0a3de49bc24a4a9dbecc19bcb13a8326"
            }
          },
          "metadata": {}
        },
        {
          "output_type": "display_data",
          "data": {
            "text/plain": [
              "IntSlider(value=50, description='Quality', min=1, step=5)"
            ],
            "application/vnd.jupyter.widget-view+json": {
              "version_major": 2,
              "version_minor": 0,
              "model_id": "4bfeb398515347af9365115b8195a82b"
            }
          },
          "metadata": {}
        },
        {
          "output_type": "display_data",
          "data": {
            "text/plain": [
              "Label(value='JPEG2000 Compression', layout=Layout(align_items='center', border='solid 1px gray', display='flex…"
            ],
            "application/vnd.jupyter.widget-view+json": {
              "version_major": 2,
              "version_minor": 0,
              "model_id": "a679216aedc44916beccdc41a74369f3"
            }
          },
          "metadata": {}
        },
        {
          "output_type": "display_data",
          "data": {
            "text/plain": [
              "IntSlider(value=100, description='Compression Rate', max=1000, min=1, step=10)"
            ],
            "application/vnd.jupyter.widget-view+json": {
              "version_major": 2,
              "version_minor": 0,
              "model_id": "28e9d7d3de914da0834c722ab02ce5aa"
            }
          },
          "metadata": {}
        },
        {
          "output_type": "display_data",
          "data": {
            "text/plain": [
              "Label(value='Shearing Warp', layout=Layout(align_items='center', border='solid 1px gray', display='flex', heig…"
            ],
            "application/vnd.jupyter.widget-view+json": {
              "version_major": 2,
              "version_minor": 0,
              "model_id": "78e720809d604f6bbee815157a43d4a7"
            }
          },
          "metadata": {}
        },
        {
          "output_type": "display_data",
          "data": {
            "text/plain": [
              "FloatSlider(value=0.0, description='shearing_x', max=0.3, min=-0.3, step=0.05)"
            ],
            "application/vnd.jupyter.widget-view+json": {
              "version_major": 2,
              "version_minor": 0,
              "model_id": "0d252f94118240c6a100a76af7f4c6ef"
            }
          },
          "metadata": {}
        },
        {
          "output_type": "display_data",
          "data": {
            "text/plain": [
              "FloatSlider(value=0.0, description='shearing_y', max=0.3, min=-0.3, step=0.05)"
            ],
            "application/vnd.jupyter.widget-view+json": {
              "version_major": 2,
              "version_minor": 0,
              "model_id": "afb63249b58f4d4c9d1782c1dc8fc1ba"
            }
          },
          "metadata": {}
        },
        {
          "output_type": "display_data",
          "data": {
            "text/plain": [
              "Label(value='Elastic Warp', layout=Layout(align_items='center', border='solid 1px gray', display='flex', heigh…"
            ],
            "application/vnd.jupyter.widget-view+json": {
              "version_major": 2,
              "version_minor": 0,
              "model_id": "bc8b1c9da640417a81295402b511e923"
            }
          },
          "metadata": {}
        },
        {
          "output_type": "display_data",
          "data": {
            "text/plain": [
              "FloatSlider(value=0.5, description='elastic_alpha', max=1.0, step=0.01)"
            ],
            "application/vnd.jupyter.widget-view+json": {
              "version_major": 2,
              "version_minor": 0,
              "model_id": "42eccd9266494e6489ce20816a9954b7"
            }
          },
          "metadata": {}
        },
        {
          "output_type": "display_data",
          "data": {
            "text/plain": [
              "Label(value='Bilinear Interpolation', layout=Layout(align_items='center', border='solid 1px gray', display='fl…"
            ],
            "application/vnd.jupyter.widget-view+json": {
              "version_major": 2,
              "version_minor": 0,
              "model_id": "ef0264441ad9494581ab1ebb60252615"
            }
          },
          "metadata": {}
        },
        {
          "output_type": "display_data",
          "data": {
            "text/plain": [
              "FloatSlider(value=1.0, description='scale_interpolation', max=1.0, min=0.01, step=0.05)"
            ],
            "application/vnd.jupyter.widget-view+json": {
              "version_major": 2,
              "version_minor": 0,
              "model_id": "c0b6418e0dd2416ba03fe0965ebac775"
            }
          },
          "metadata": {}
        },
        {
          "output_type": "display_data",
          "data": {
            "text/plain": [
              "Label(value='Unsharp Mask', layout=Layout(align_items='center', border='solid 1px gray', display='flex', heigh…"
            ],
            "application/vnd.jupyter.widget-view+json": {
              "version_major": 2,
              "version_minor": 0,
              "model_id": "33fea2d12de142bc9c909dc0d683cfe1"
            }
          },
          "metadata": {}
        },
        {
          "output_type": "display_data",
          "data": {
            "text/plain": [
              "FloatSlider(value=1.0, description='intensity_unsharp', max=5.0)"
            ],
            "application/vnd.jupyter.widget-view+json": {
              "version_major": 2,
              "version_minor": 0,
              "model_id": "5c520ae2a0a24f0084604f54865a30c1"
            }
          },
          "metadata": {}
        },
        {
          "output_type": "display_data",
          "data": {
            "text/plain": [
              "Label(value='Mult Contrast', layout=Layout(align_items='center', border='solid 1px gray', display='flex', heig…"
            ],
            "application/vnd.jupyter.widget-view+json": {
              "version_major": 2,
              "version_minor": 0,
              "model_id": "194fe8d7f3cf4c76ac2392863efcb4d0"
            }
          },
          "metadata": {}
        },
        {
          "output_type": "display_data",
          "data": {
            "text/plain": [
              "FloatSlider(value=1.0, description='intensity_contrast', max=5.0)"
            ],
            "application/vnd.jupyter.widget-view+json": {
              "version_major": 2,
              "version_minor": 0,
              "model_id": "4e859674c23642bdba610ad4d73356b4"
            }
          },
          "metadata": {}
        },
        {
          "output_type": "display_data",
          "data": {
            "text/plain": [
              "Label(value='Global Brightness', layout=Layout(align_items='center', border='solid 1px gray', display='flex', …"
            ],
            "application/vnd.jupyter.widget-view+json": {
              "version_major": 2,
              "version_minor": 0,
              "model_id": "0c717cb733b04314ba01c9fcaee09e6c"
            }
          },
          "metadata": {}
        },
        {
          "output_type": "display_data",
          "data": {
            "text/plain": [
              "FloatSlider(value=0.0, description='percent_brigthness', max=0.5, min=-0.5, step=0.01)"
            ],
            "application/vnd.jupyter.widget-view+json": {
              "version_major": 2,
              "version_minor": 0,
              "model_id": "71812ad442e34e48adebf1d8a5446a30"
            }
          },
          "metadata": {}
        },
        {
          "output_type": "display_data",
          "data": {
            "text/plain": [
              "Label(value='Gamma Correction', layout=Layout(align_items='center', border='solid 1px gray', display='flex', h…"
            ],
            "application/vnd.jupyter.widget-view+json": {
              "version_major": 2,
              "version_minor": 0,
              "model_id": "690705772ea944e4a554f551a2a1ea9b"
            }
          },
          "metadata": {}
        },
        {
          "output_type": "display_data",
          "data": {
            "text/plain": [
              "FloatSlider(value=1.0, description='gamma_correction', max=5.0)"
            ],
            "application/vnd.jupyter.widget-view+json": {
              "version_major": 2,
              "version_minor": 0,
              "model_id": "97d65e3225504be8a61bc39b3b85958a"
            }
          },
          "metadata": {}
        },
        {
          "output_type": "display_data",
          "data": {
            "text/plain": [
              "Label(value='Random Local Changing Brightness', layout=Layout(align_items='center', border='solid 1px gray', d…"
            ],
            "application/vnd.jupyter.widget-view+json": {
              "version_major": 2,
              "version_minor": 0,
              "model_id": "a119cc42c1f54ce489718a8e389857ce"
            }
          },
          "metadata": {}
        },
        {
          "output_type": "display_data",
          "data": {
            "text/plain": [
              "IntSlider(value=1, description='n', max=5, min=1)"
            ],
            "application/vnd.jupyter.widget-view+json": {
              "version_major": 2,
              "version_minor": 0,
              "model_id": "a54d10c7290f4cd6a88438b6bd439073"
            }
          },
          "metadata": {}
        },
        {
          "output_type": "display_data",
          "data": {
            "text/plain": [
              "FloatSlider(value=0.1, description='sx_range_local_brigthness', max=0.2, step=0.005)"
            ],
            "application/vnd.jupyter.widget-view+json": {
              "version_major": 2,
              "version_minor": 0,
              "model_id": "b365cdc23e6f4b8eaa025bc3cc9df6e5"
            }
          },
          "metadata": {}
        },
        {
          "output_type": "display_data",
          "data": {
            "text/plain": [
              "FloatSlider(value=0.1, description='sy_range_local_brigthness', max=0.2, step=0.005)"
            ],
            "application/vnd.jupyter.widget-view+json": {
              "version_major": 2,
              "version_minor": 0,
              "model_id": "ded8bcb7322b48ce8d98f648974796e2"
            }
          },
          "metadata": {}
        },
        {
          "output_type": "display_data",
          "data": {
            "text/plain": [
              "Button(description='Confirmar distorções', style=ButtonStyle())"
            ],
            "application/vnd.jupyter.widget-view+json": {
              "version_major": 2,
              "version_minor": 0,
              "model_id": "dd3fbe2be6e5444fbdf11c293be97a8b"
            }
          },
          "metadata": {}
        },
        {
          "output_type": "display_data",
          "data": {
            "text/plain": [
              "Output()"
            ],
            "application/vnd.jupyter.widget-view+json": {
              "version_major": 2,
              "version_minor": 0,
              "model_id": "c2670f9d02314ef79bf9e29a95e817dc"
            }
          },
          "metadata": {}
        },
        {
          "output_type": "display_data",
          "data": {
            "text/plain": [
              "Button(description='Deletar memória', style=ButtonStyle())"
            ],
            "application/vnd.jupyter.widget-view+json": {
              "version_major": 2,
              "version_minor": 0,
              "model_id": "18e04f0e080943de8f8b5f342e9f2778"
            }
          },
          "metadata": {}
        },
        {
          "output_type": "display_data",
          "data": {
            "text/plain": [
              "Output()"
            ],
            "application/vnd.jupyter.widget-view+json": {
              "version_major": 2,
              "version_minor": 0,
              "model_id": "2aa32b8f82214bfd816495ba8be9ffc9"
            }
          },
          "metadata": {}
        },
        {
          "output_type": "stream",
          "name": "stdout",
          "text": [
            "<class '__main__.Parameter'>\n",
            "<class '__main__.Parameter'>\n",
            "<class '__main__.Parameter'>\n",
            "<class '__main__.Parameter'>\n",
            "<class '__main__.Parameter'>\n",
            "<class '__main__.Parameter'>\n",
            "<class '__main__.Parameter'>\n",
            "<class '__main__.Parameter'>\n",
            "<class '__main__.Parameter'>\n",
            "<class '__main__.Parameter'>\n",
            "<class '__main__.Parameter'>\n",
            "<class '__main__.Parameter'>\n",
            "<class '__main__.Parameter'>\n",
            "<class '__main__.Parameter'>\n",
            "<class '__main__.Parameter'>\n",
            "<class '__main__.Parameter'>\n",
            "<class '__main__.Parameter'>\n",
            "<class '__main__.Parameter'>\n",
            "<class '__main__.Parameter'>\n",
            "<class '__main__.Parameter'>\n",
            "<class '__main__.Parameter'>\n",
            "<class '__main__.Parameter'>\n",
            "<class '__main__.Parameter'>\n",
            "<class '__main__.Parameter'>\n",
            "Parâmetros registrados\n"
          ]
        }
      ],
      "source": [
        "parameters_current, confirmation_button, deleting_button = display_parameters_choices()\n",
        "parameters = None\n",
        "confirmation_button.on_click(lambda change: update_parameters(parameters_current))\n",
        "deleting_button.on_click(lambda delete: clean_parameters())"
      ]
    },
    {
      "cell_type": "code",
      "execution_count": null,
      "metadata": {
        "colab": {
          "base_uri": "https://localhost:8080/"
        },
        "collapsed": true,
        "id": "mZeNoV7mrKH8",
        "outputId": "d37e6238-4924-4504-abc9-b94fbf4666c6"
      },
      "outputs": [
        {
          "output_type": "stream",
          "name": "stdout",
          "text": [
            "A total value of 2 images per each original image on the dataset\n",
            "{0: [[(gaussian_sigma: 20.0)], [(gaussian_kernel: 15)]], 1: [[(motion_kernel: 15)]], 2: [[(Mean: 0.0)], [(Variance: 1800.0)]], 3: [[(Limit: 75)]], 4: [[(Mean: 0.0)], [(Variance: 0.05)]], 5: [[(Bias: 0.0009765625)]], 6: [[(Probability: 0.5)], [(Amount: 0.004)]], 7: [[(Kernel Size: 99)], [(Sigma: 0.0)]], 8: [[(Shift X: 1)], [(Shift Y: 8)]], 9: [[(K: 8)]], 10: [[(Factor: 1.4)]], 11: [[(Factor A: 3.0)], [(Factor B: 3.0)]], 12: [[(Quality: 50)]], 13: [[(Compression Rate: 100)]], 14: [[]], 15: [[(shearing_x: 0.0)], [(shearing_y: 0.0)]], 16: [[(elastic_alpha: 0.5)]], 17: [[(scale_interpolation: 1.0)]], 18: [[]], 19: [[(intensity_unsharp: 1.0)]], 20: [[(intensity_contrast: 1.0)]], 21: [[(percent_brigthness: 0.0)]], 22: [[(gamma_correction: 1.0)]], 23: [[(n: 1)], [(sx_range_local_brigthness: 0.1)], [(sy_range_local_brigthness: 0.1)]]}\n"
          ]
        }
      ],
      "source": [
        "functions = [(distortions_dict[i], i) for i in range(len(choices)) if choices[i].value == True]\n",
        "\n",
        "possibilities = []\n",
        "for (f, i) in functions:\n",
        "  if i == 1 or i == 18:\n",
        "    possibilities.append((f,i))\n",
        "    possibilities.append((f,i))\n",
        "\n",
        "possibilities.extend(functions)\n",
        "\n",
        "number_outputs = 0\n",
        "for a in permutations(possibilities, iterations.value):\n",
        "\n",
        "  number_outputs += 1\n",
        "\n",
        "print(f\"A total value of {number_outputs} images per each original image on the dataset\")\n",
        "\n",
        "print(parameters)"
      ]
    },
    {
      "cell_type": "markdown",
      "metadata": {
        "id": "UC_ikcFNHSap"
      },
      "source": [
        "## **Script**"
      ]
    },
    {
      "cell_type": "code",
      "execution_count": null,
      "metadata": {
        "id": "3AdjJO5taqXH"
      },
      "outputs": [],
      "source": [
        "def apply_distortion_set(distortion_set, image, parameters):\n",
        "\n",
        "  distorted_images = [image.copy()]\n",
        "  # Apply every function on combination\n",
        "  for (f, i) in distortion_set:\n",
        "    #The functions\n",
        "    new_images = []\n",
        "    for image in distorted_images:\n",
        "      parameters_function_f = parameters[i]\n",
        "      distorted_image = f(image, *[[param.value for param in same_type_parameters] for same_type_parameters in parameters_function_f])\n",
        "      new_images.extend(distorted_image)\n",
        "\n",
        "    distorted_images = new_images\n",
        "\n",
        "  #Take out the first element, original image\n",
        "  return distorted_images\n",
        "\n",
        "def get_distortions(path_input, path_output, functions, n_permutations, parameters, combination_list = None):\n",
        "\n",
        "  path_images = get_all_images(path_input)\n",
        "  print(f\"Writing on: {path_output}\")\n",
        "  psnr_list = []\n",
        "  ssim_list = []\n",
        "  img_name_list = []\n",
        "  distortion_name_list = []\n",
        "  copy_labels = distortions_labels.copy()\n",
        "\n",
        "  for (idx_im,path) in enumerate(path_images):\n",
        "\n",
        "  #idx_max shows the index of the last distortion (simple distortions go until 23)\n",
        "    imagem = cv.imread(path)\n",
        "    idx_max = len(distortions_dict)\n",
        "\n",
        "    img_name_list.extend(write_images(path_output,[imagem],idx_im))\n",
        "    get_fr_iqa(imagem,[imagem],psnr_list,ssim_list)\n",
        "\n",
        "    #If no distortions are passed as argument\n",
        "    if combination_list is None:\n",
        "      assert len(functions) > 0\n",
        "      #Combinations of size 1, 2, 3 ... n_permutations\n",
        "      for n in range(1, n_permutations + 1):\n",
        "        #Pick every change, based on the selected functions on checkboxes\n",
        "        for distortion_set in permutations(functions, n):\n",
        "              distorted_images = apply_distortion_set(distortion_set, imagem, parameters)\n",
        "\n",
        "              img_name_list.extend(write_images(path_output,distorted_images,idx_im, distortion_set[0][1] if len(distortion_set) == 1 else idx_max))\n",
        "\n",
        "              if len(distortion_set) > 1:\n",
        "                idx_max = add_new_distortion(distortion_set,idx_max,copy_labels)\n",
        "\n",
        "              get_fr_iqa(imagem,distorted_images,psnr_list,ssim_list)\n",
        "\n",
        "\n",
        "    #If distortions are specified as arguments\n",
        "    else:\n",
        "      #Generate simple distortions\n",
        "      assert (len(functions) or len(combination_list)) > 0\n",
        "      new_func = []\n",
        "      for(f, i) in functions:\n",
        "        new_func.append([(f,i)])\n",
        "\n",
        "      for combination in combination_list:\n",
        "        composition = []\n",
        "        for d in combination:\n",
        "          tupla = (distortions_dict[d], d)\n",
        "          composition.append(tupla)\n",
        "        new_func.append(composition)\n",
        "\n",
        "\n",
        "      for combination in new_func:  # [(0 2), (3 2)]\n",
        "        new_img = imagem.copy()\n",
        "        new_img = apply_distortion_set(combination, new_img, parameters)\n",
        "\n",
        "        #Save combinations distortions\n",
        "        img_name_list.extend(write_images(path_output,new_img,idx_im,combination[0][1] if len(combination)==1 else idx_max))\n",
        "        if len(combination)!=1:\n",
        "          idx_max = add_new_distortion(combination,idx_max,copy_labels)\n",
        "        get_fr_iqa(imagem,new_img,psnr_list,ssim_list)\n",
        "\n",
        "\n",
        "  label_csv(path_output, copy_labels.copy())\n",
        "  create_csv(path_output, img_name_list, psnr_list, ssim_list, path_output, parameters)\n",
        "\n",
        "\n",
        "def see_parameters(dict_parameters, functions):\n",
        "  assert not(isinstance(dict_parameters, type(None)))\n",
        "\n",
        "  for (f,i) in functions:\n",
        "    print(f\"{i}: {distortions_labels[i]}\")\n",
        "    for param in dict_parameters[i]:\n",
        "      print(f\"\\t\", param)\n",
        "    print()"
      ]
    },
    {
      "cell_type": "markdown",
      "metadata": {
        "id": "IAoqT3oXoqJh"
      },
      "source": [
        "## All combinations"
      ]
    },
    {
      "cell_type": "markdown",
      "source": [
        "Choose this option if you want all possible combinations of the distortions selected in the checkboxes, limited by the number of distortions set on the sliders."
      ],
      "metadata": {
        "id": "zA6kbPZ3HS_6"
      }
    },
    {
      "cell_type": "code",
      "execution_count": null,
      "metadata": {
        "colab": {
          "base_uri": "https://localhost:8080/"
        },
        "id": "dajkg1PoaqXI",
        "outputId": "541e3576-4da8-43d6-e07b-55ddbd35ad9d"
      },
      "outputs": [
        {
          "output_type": "stream",
          "name": "stdout",
          "text": [
            "2: gaussian_noise\n",
            "\t [(Mean: 0.0)]\n",
            "\t [(Variance: 1800.0)]\n",
            "\n",
            "3: uniform_noise\n",
            "\t [(Limit: 75)]\n",
            "\n",
            "Writing on: /content/drive/MyDrive/target/\n",
            "im_00.png\n",
            "im_00_02_01.png\n",
            "im_00_03_01.png\n"
          ]
        }
      ],
      "source": [
        "functions = [(distortions_dict[i], i) for i in range(len(choices)) if choices[i].value == True]\n",
        "see_parameters(parameters,functions)\n",
        "source_directory = \"/content/drive/MyDrive/images/\"\n",
        "get_distortions(source_directory, '/content/drive/MyDrive/target/', functions, iterations.value, parameters)"
      ]
    },
    {
      "cell_type": "markdown",
      "metadata": {
        "id": "ygH4B9wkhrPe"
      },
      "source": [
        "## Choosing distortions orders"
      ]
    },
    {
      "cell_type": "markdown",
      "source": [
        "Passing the indices of the distortions you want to combine through get_distortion's parameters limits the possible combinations."
      ],
      "metadata": {
        "id": "PZ8rqiaLH1u_"
      }
    },
    {
      "cell_type": "code",
      "execution_count": null,
      "metadata": {
        "id": "ucBf3FmnggKr",
        "colab": {
          "base_uri": "https://localhost:8080/"
        },
        "outputId": "77b74e7d-6ef2-4f40-eeb4-5f43cb5c04e4"
      },
      "outputs": [
        {
          "output_type": "stream",
          "name": "stdout",
          "text": [
            "Writing on: /content/drive/MyDrive/target/\n",
            "im_00.png\n",
            "im_00_01_01.png\n",
            "im_00_01_02.png\n",
            "im_00_01_03.png\n",
            "im_00_24_01.png\n",
            "im_00_24_02.png\n",
            "im_00_24_03.png\n",
            "im_00_25_01.png\n",
            "im_00_26_01.png\n"
          ]
        }
      ],
      "source": [
        "functions = [(distortions_dict[i], i) for i in range(len(choices)) if choices[i].value == True]\n",
        "source_directory = \"/content/drive/MyDrive/images/\"\n",
        "get_distortions(source_directory, '/content/drive/MyDrive/target/', functions, iterations.value, parameters, [[1,4], [4,17], [6,9]])"
      ]
    }
  ],
  "metadata": {
    "colab": {
      "collapsed_sections": [
        "4wCisxVlaqWC",
        "kB_Va3PVaqWD",
        "IaQv7fWiaqWI",
        "oAlWgnataqWL",
        "gvXrCjuwaqWN",
        "bZtxp0usaqWP",
        "rrpBm56HaqWS",
        "RaQ9bMSQaqWU",
        "-J930r-FaqWX",
        "vxUO-jfBaqWi",
        "ZaPTf9_9aqWk",
        "KPTk48VOaqWm",
        "xaXPqhrYaqWn",
        "Lu6kkByFaqWo",
        "o_r4AnLKaqWq",
        "jRlhgcvHaqWr",
        "nvZo8KFGaqWt",
        "_iifV29oaqWu",
        "FI4YYp5faqWu",
        "n0SHo0mtaqWw",
        "cgZkQM_PaqWy",
        "Y31sdxVYaqWz",
        "E71vzEFXeknm",
        "D_y3WIMcaqW0",
        "OQZ2FhSojBIj",
        "nccsDpvrjVKa",
        "JZcQ9-f15fJz",
        "W-xnlqoOja1q",
        "Ol3IDncskCka",
        "41kem49yjtLe",
        "UC_ikcFNHSap",
        "ygH4B9wkhrPe"
      ],
      "provenance": []
    },
    "kernelspec": {
      "display_name": "Python 3",
      "name": "python3"
    },
    "language_info": {
      "name": "python"
    },
    "widgets": {
      "application/vnd.jupyter.widget-state+json": {
        "223c7e11cf07464ab0511d536c7f057d": {
          "model_module": "@jupyter-widgets/controls",
          "model_name": "LabelModel",
          "model_module_version": "1.5.0",
          "state": {
            "_dom_classes": [],
            "_model_module": "@jupyter-widgets/controls",
            "_model_module_version": "1.5.0",
            "_model_name": "LabelModel",
            "_view_count": null,
            "_view_module": "@jupyter-widgets/controls",
            "_view_module_version": "1.5.0",
            "_view_name": "LabelView",
            "description": "",
            "description_tooltip": null,
            "layout": "IPY_MODEL_6043fb41f75a4bb983e484721dd3e428",
            "placeholder": "​",
            "style": "IPY_MODEL_5b9fd9c087884167accec948e24239a1",
            "value": "Blurs Distortions"
          }
        },
        "6043fb41f75a4bb983e484721dd3e428": {
          "model_module": "@jupyter-widgets/base",
          "model_name": "LayoutModel",
          "model_module_version": "1.2.0",
          "state": {
            "_model_module": "@jupyter-widgets/base",
            "_model_module_version": "1.2.0",
            "_model_name": "LayoutModel",
            "_view_count": null,
            "_view_module": "@jupyter-widgets/base",
            "_view_module_version": "1.2.0",
            "_view_name": "LayoutView",
            "align_content": null,
            "align_items": null,
            "align_self": null,
            "border": null,
            "bottom": null,
            "display": null,
            "flex": null,
            "flex_flow": null,
            "grid_area": null,
            "grid_auto_columns": null,
            "grid_auto_flow": null,
            "grid_auto_rows": null,
            "grid_column": null,
            "grid_gap": null,
            "grid_row": null,
            "grid_template_areas": null,
            "grid_template_columns": null,
            "grid_template_rows": null,
            "height": null,
            "justify_content": null,
            "justify_items": null,
            "left": null,
            "margin": null,
            "max_height": null,
            "max_width": null,
            "min_height": null,
            "min_width": null,
            "object_fit": null,
            "object_position": null,
            "order": null,
            "overflow": null,
            "overflow_x": null,
            "overflow_y": null,
            "padding": null,
            "right": null,
            "top": null,
            "visibility": null,
            "width": null
          }
        },
        "5b9fd9c087884167accec948e24239a1": {
          "model_module": "@jupyter-widgets/controls",
          "model_name": "DescriptionStyleModel",
          "model_module_version": "1.5.0",
          "state": {
            "_model_module": "@jupyter-widgets/controls",
            "_model_module_version": "1.5.0",
            "_model_name": "DescriptionStyleModel",
            "_view_count": null,
            "_view_module": "@jupyter-widgets/base",
            "_view_module_version": "1.2.0",
            "_view_name": "StyleView",
            "description_width": ""
          }
        },
        "78fa0ee746f743bd951e031ddb03541a": {
          "model_module": "@jupyter-widgets/controls",
          "model_name": "CheckboxModel",
          "model_module_version": "1.5.0",
          "state": {
            "_dom_classes": [],
            "_model_module": "@jupyter-widgets/controls",
            "_model_module_version": "1.5.0",
            "_model_name": "CheckboxModel",
            "_view_count": null,
            "_view_module": "@jupyter-widgets/controls",
            "_view_module_version": "1.5.0",
            "_view_name": "CheckboxView",
            "description": "generate_gaussian_blur",
            "description_tooltip": null,
            "disabled": false,
            "indent": true,
            "layout": "IPY_MODEL_5f0288e637fb49538b763a52d431bd92",
            "style": "IPY_MODEL_2e455846c12c4f8a90e494413a129e0c",
            "value": false
          }
        },
        "5f0288e637fb49538b763a52d431bd92": {
          "model_module": "@jupyter-widgets/base",
          "model_name": "LayoutModel",
          "model_module_version": "1.2.0",
          "state": {
            "_model_module": "@jupyter-widgets/base",
            "_model_module_version": "1.2.0",
            "_model_name": "LayoutModel",
            "_view_count": null,
            "_view_module": "@jupyter-widgets/base",
            "_view_module_version": "1.2.0",
            "_view_name": "LayoutView",
            "align_content": null,
            "align_items": null,
            "align_self": null,
            "border": null,
            "bottom": null,
            "display": null,
            "flex": null,
            "flex_flow": null,
            "grid_area": null,
            "grid_auto_columns": null,
            "grid_auto_flow": null,
            "grid_auto_rows": null,
            "grid_column": null,
            "grid_gap": null,
            "grid_row": null,
            "grid_template_areas": null,
            "grid_template_columns": null,
            "grid_template_rows": null,
            "height": null,
            "justify_content": null,
            "justify_items": null,
            "left": null,
            "margin": null,
            "max_height": null,
            "max_width": null,
            "min_height": null,
            "min_width": null,
            "object_fit": null,
            "object_position": null,
            "order": null,
            "overflow": null,
            "overflow_x": null,
            "overflow_y": null,
            "padding": null,
            "right": null,
            "top": null,
            "visibility": null,
            "width": null
          }
        },
        "2e455846c12c4f8a90e494413a129e0c": {
          "model_module": "@jupyter-widgets/controls",
          "model_name": "DescriptionStyleModel",
          "model_module_version": "1.5.0",
          "state": {
            "_model_module": "@jupyter-widgets/controls",
            "_model_module_version": "1.5.0",
            "_model_name": "DescriptionStyleModel",
            "_view_count": null,
            "_view_module": "@jupyter-widgets/base",
            "_view_module_version": "1.2.0",
            "_view_name": "StyleView",
            "description_width": ""
          }
        },
        "f0244fd02e7848a99121a6717a84e125": {
          "model_module": "@jupyter-widgets/controls",
          "model_name": "CheckboxModel",
          "model_module_version": "1.5.0",
          "state": {
            "_dom_classes": [],
            "_model_module": "@jupyter-widgets/controls",
            "_model_module_version": "1.5.0",
            "_model_name": "CheckboxModel",
            "_view_count": null,
            "_view_module": "@jupyter-widgets/controls",
            "_view_module_version": "1.5.0",
            "_view_name": "CheckboxView",
            "description": "generate_motion_blur",
            "description_tooltip": null,
            "disabled": false,
            "indent": true,
            "layout": "IPY_MODEL_2526659ba56e43e7acfa077fed757514",
            "style": "IPY_MODEL_4eced23d631e48969759f055ca621c6c",
            "value": false
          }
        },
        "2526659ba56e43e7acfa077fed757514": {
          "model_module": "@jupyter-widgets/base",
          "model_name": "LayoutModel",
          "model_module_version": "1.2.0",
          "state": {
            "_model_module": "@jupyter-widgets/base",
            "_model_module_version": "1.2.0",
            "_model_name": "LayoutModel",
            "_view_count": null,
            "_view_module": "@jupyter-widgets/base",
            "_view_module_version": "1.2.0",
            "_view_name": "LayoutView",
            "align_content": null,
            "align_items": null,
            "align_self": null,
            "border": null,
            "bottom": null,
            "display": null,
            "flex": null,
            "flex_flow": null,
            "grid_area": null,
            "grid_auto_columns": null,
            "grid_auto_flow": null,
            "grid_auto_rows": null,
            "grid_column": null,
            "grid_gap": null,
            "grid_row": null,
            "grid_template_areas": null,
            "grid_template_columns": null,
            "grid_template_rows": null,
            "height": null,
            "justify_content": null,
            "justify_items": null,
            "left": null,
            "margin": null,
            "max_height": null,
            "max_width": null,
            "min_height": null,
            "min_width": null,
            "object_fit": null,
            "object_position": null,
            "order": null,
            "overflow": null,
            "overflow_x": null,
            "overflow_y": null,
            "padding": null,
            "right": null,
            "top": null,
            "visibility": null,
            "width": null
          }
        },
        "4eced23d631e48969759f055ca621c6c": {
          "model_module": "@jupyter-widgets/controls",
          "model_name": "DescriptionStyleModel",
          "model_module_version": "1.5.0",
          "state": {
            "_model_module": "@jupyter-widgets/controls",
            "_model_module_version": "1.5.0",
            "_model_name": "DescriptionStyleModel",
            "_view_count": null,
            "_view_module": "@jupyter-widgets/base",
            "_view_module_version": "1.2.0",
            "_view_name": "StyleView",
            "description_width": ""
          }
        },
        "e787368fd64e4845af81c782e02d0abd": {
          "model_module": "@jupyter-widgets/controls",
          "model_name": "LabelModel",
          "model_module_version": "1.5.0",
          "state": {
            "_dom_classes": [],
            "_model_module": "@jupyter-widgets/controls",
            "_model_module_version": "1.5.0",
            "_model_name": "LabelModel",
            "_view_count": null,
            "_view_module": "@jupyter-widgets/controls",
            "_view_module_version": "1.5.0",
            "_view_name": "LabelView",
            "description": "",
            "description_tooltip": null,
            "layout": "IPY_MODEL_0967ce1615824bdc8f1c40f044cab540",
            "placeholder": "​",
            "style": "IPY_MODEL_aef60a41352d4fae872bf06594fff3c9",
            "value": "Noises Distortions"
          }
        },
        "0967ce1615824bdc8f1c40f044cab540": {
          "model_module": "@jupyter-widgets/base",
          "model_name": "LayoutModel",
          "model_module_version": "1.2.0",
          "state": {
            "_model_module": "@jupyter-widgets/base",
            "_model_module_version": "1.2.0",
            "_model_name": "LayoutModel",
            "_view_count": null,
            "_view_module": "@jupyter-widgets/base",
            "_view_module_version": "1.2.0",
            "_view_name": "LayoutView",
            "align_content": null,
            "align_items": null,
            "align_self": null,
            "border": null,
            "bottom": null,
            "display": null,
            "flex": null,
            "flex_flow": null,
            "grid_area": null,
            "grid_auto_columns": null,
            "grid_auto_flow": null,
            "grid_auto_rows": null,
            "grid_column": null,
            "grid_gap": null,
            "grid_row": null,
            "grid_template_areas": null,
            "grid_template_columns": null,
            "grid_template_rows": null,
            "height": null,
            "justify_content": null,
            "justify_items": null,
            "left": null,
            "margin": null,
            "max_height": null,
            "max_width": null,
            "min_height": null,
            "min_width": null,
            "object_fit": null,
            "object_position": null,
            "order": null,
            "overflow": null,
            "overflow_x": null,
            "overflow_y": null,
            "padding": null,
            "right": null,
            "top": null,
            "visibility": null,
            "width": null
          }
        },
        "aef60a41352d4fae872bf06594fff3c9": {
          "model_module": "@jupyter-widgets/controls",
          "model_name": "DescriptionStyleModel",
          "model_module_version": "1.5.0",
          "state": {
            "_model_module": "@jupyter-widgets/controls",
            "_model_module_version": "1.5.0",
            "_model_name": "DescriptionStyleModel",
            "_view_count": null,
            "_view_module": "@jupyter-widgets/base",
            "_view_module_version": "1.2.0",
            "_view_name": "StyleView",
            "description_width": ""
          }
        },
        "631dc4f6f58b4f9bbeaf4384846af73c": {
          "model_module": "@jupyter-widgets/controls",
          "model_name": "CheckboxModel",
          "model_module_version": "1.5.0",
          "state": {
            "_dom_classes": [],
            "_model_module": "@jupyter-widgets/controls",
            "_model_module_version": "1.5.0",
            "_model_name": "CheckboxModel",
            "_view_count": null,
            "_view_module": "@jupyter-widgets/controls",
            "_view_module_version": "1.5.0",
            "_view_name": "CheckboxView",
            "description": "generate_gaussian_noise",
            "description_tooltip": null,
            "disabled": false,
            "indent": true,
            "layout": "IPY_MODEL_bfb4827713e740eb94943a11463109db",
            "style": "IPY_MODEL_7ea0c58bbde94b6c8e5fe084d265065e",
            "value": true
          }
        },
        "bfb4827713e740eb94943a11463109db": {
          "model_module": "@jupyter-widgets/base",
          "model_name": "LayoutModel",
          "model_module_version": "1.2.0",
          "state": {
            "_model_module": "@jupyter-widgets/base",
            "_model_module_version": "1.2.0",
            "_model_name": "LayoutModel",
            "_view_count": null,
            "_view_module": "@jupyter-widgets/base",
            "_view_module_version": "1.2.0",
            "_view_name": "LayoutView",
            "align_content": null,
            "align_items": null,
            "align_self": null,
            "border": null,
            "bottom": null,
            "display": null,
            "flex": null,
            "flex_flow": null,
            "grid_area": null,
            "grid_auto_columns": null,
            "grid_auto_flow": null,
            "grid_auto_rows": null,
            "grid_column": null,
            "grid_gap": null,
            "grid_row": null,
            "grid_template_areas": null,
            "grid_template_columns": null,
            "grid_template_rows": null,
            "height": null,
            "justify_content": null,
            "justify_items": null,
            "left": null,
            "margin": null,
            "max_height": null,
            "max_width": null,
            "min_height": null,
            "min_width": null,
            "object_fit": null,
            "object_position": null,
            "order": null,
            "overflow": null,
            "overflow_x": null,
            "overflow_y": null,
            "padding": null,
            "right": null,
            "top": null,
            "visibility": null,
            "width": null
          }
        },
        "7ea0c58bbde94b6c8e5fe084d265065e": {
          "model_module": "@jupyter-widgets/controls",
          "model_name": "DescriptionStyleModel",
          "model_module_version": "1.5.0",
          "state": {
            "_model_module": "@jupyter-widgets/controls",
            "_model_module_version": "1.5.0",
            "_model_name": "DescriptionStyleModel",
            "_view_count": null,
            "_view_module": "@jupyter-widgets/base",
            "_view_module_version": "1.2.0",
            "_view_name": "StyleView",
            "description_width": ""
          }
        },
        "3f1f30995ab043fc9a113120119b30c8": {
          "model_module": "@jupyter-widgets/controls",
          "model_name": "CheckboxModel",
          "model_module_version": "1.5.0",
          "state": {
            "_dom_classes": [],
            "_model_module": "@jupyter-widgets/controls",
            "_model_module_version": "1.5.0",
            "_model_name": "CheckboxModel",
            "_view_count": null,
            "_view_module": "@jupyter-widgets/controls",
            "_view_module_version": "1.5.0",
            "_view_name": "CheckboxView",
            "description": "generate_uniform_noise",
            "description_tooltip": null,
            "disabled": false,
            "indent": true,
            "layout": "IPY_MODEL_36d3453edcec423d935f168cfa910e7b",
            "style": "IPY_MODEL_6e91902ff55340b6bb07d77d17d849ce",
            "value": true
          }
        },
        "36d3453edcec423d935f168cfa910e7b": {
          "model_module": "@jupyter-widgets/base",
          "model_name": "LayoutModel",
          "model_module_version": "1.2.0",
          "state": {
            "_model_module": "@jupyter-widgets/base",
            "_model_module_version": "1.2.0",
            "_model_name": "LayoutModel",
            "_view_count": null,
            "_view_module": "@jupyter-widgets/base",
            "_view_module_version": "1.2.0",
            "_view_name": "LayoutView",
            "align_content": null,
            "align_items": null,
            "align_self": null,
            "border": null,
            "bottom": null,
            "display": null,
            "flex": null,
            "flex_flow": null,
            "grid_area": null,
            "grid_auto_columns": null,
            "grid_auto_flow": null,
            "grid_auto_rows": null,
            "grid_column": null,
            "grid_gap": null,
            "grid_row": null,
            "grid_template_areas": null,
            "grid_template_columns": null,
            "grid_template_rows": null,
            "height": null,
            "justify_content": null,
            "justify_items": null,
            "left": null,
            "margin": null,
            "max_height": null,
            "max_width": null,
            "min_height": null,
            "min_width": null,
            "object_fit": null,
            "object_position": null,
            "order": null,
            "overflow": null,
            "overflow_x": null,
            "overflow_y": null,
            "padding": null,
            "right": null,
            "top": null,
            "visibility": null,
            "width": null
          }
        },
        "6e91902ff55340b6bb07d77d17d849ce": {
          "model_module": "@jupyter-widgets/controls",
          "model_name": "DescriptionStyleModel",
          "model_module_version": "1.5.0",
          "state": {
            "_model_module": "@jupyter-widgets/controls",
            "_model_module_version": "1.5.0",
            "_model_name": "DescriptionStyleModel",
            "_view_count": null,
            "_view_module": "@jupyter-widgets/base",
            "_view_module_version": "1.2.0",
            "_view_name": "StyleView",
            "description_width": ""
          }
        },
        "73662600ea614d949fdc467c8c69116d": {
          "model_module": "@jupyter-widgets/controls",
          "model_name": "CheckboxModel",
          "model_module_version": "1.5.0",
          "state": {
            "_dom_classes": [],
            "_model_module": "@jupyter-widgets/controls",
            "_model_module_version": "1.5.0",
            "_model_name": "CheckboxModel",
            "_view_count": null,
            "_view_module": "@jupyter-widgets/controls",
            "_view_module_version": "1.5.0",
            "_view_name": "CheckboxView",
            "description": "generate_speckle_noise",
            "description_tooltip": null,
            "disabled": false,
            "indent": true,
            "layout": "IPY_MODEL_b4cdb669a88a45bf9932c7336668a1c3",
            "style": "IPY_MODEL_0a8b822a13fe450e910e9551fe08b7bc",
            "value": false
          }
        },
        "b4cdb669a88a45bf9932c7336668a1c3": {
          "model_module": "@jupyter-widgets/base",
          "model_name": "LayoutModel",
          "model_module_version": "1.2.0",
          "state": {
            "_model_module": "@jupyter-widgets/base",
            "_model_module_version": "1.2.0",
            "_model_name": "LayoutModel",
            "_view_count": null,
            "_view_module": "@jupyter-widgets/base",
            "_view_module_version": "1.2.0",
            "_view_name": "LayoutView",
            "align_content": null,
            "align_items": null,
            "align_self": null,
            "border": null,
            "bottom": null,
            "display": null,
            "flex": null,
            "flex_flow": null,
            "grid_area": null,
            "grid_auto_columns": null,
            "grid_auto_flow": null,
            "grid_auto_rows": null,
            "grid_column": null,
            "grid_gap": null,
            "grid_row": null,
            "grid_template_areas": null,
            "grid_template_columns": null,
            "grid_template_rows": null,
            "height": null,
            "justify_content": null,
            "justify_items": null,
            "left": null,
            "margin": null,
            "max_height": null,
            "max_width": null,
            "min_height": null,
            "min_width": null,
            "object_fit": null,
            "object_position": null,
            "order": null,
            "overflow": null,
            "overflow_x": null,
            "overflow_y": null,
            "padding": null,
            "right": null,
            "top": null,
            "visibility": null,
            "width": null
          }
        },
        "0a8b822a13fe450e910e9551fe08b7bc": {
          "model_module": "@jupyter-widgets/controls",
          "model_name": "DescriptionStyleModel",
          "model_module_version": "1.5.0",
          "state": {
            "_model_module": "@jupyter-widgets/controls",
            "_model_module_version": "1.5.0",
            "_model_name": "DescriptionStyleModel",
            "_view_count": null,
            "_view_module": "@jupyter-widgets/base",
            "_view_module_version": "1.2.0",
            "_view_name": "StyleView",
            "description_width": ""
          }
        },
        "ea6d1e0d084c48dc9133c3f3f69d6871": {
          "model_module": "@jupyter-widgets/controls",
          "model_name": "CheckboxModel",
          "model_module_version": "1.5.0",
          "state": {
            "_dom_classes": [],
            "_model_module": "@jupyter-widgets/controls",
            "_model_module_version": "1.5.0",
            "_model_name": "CheckboxModel",
            "_view_count": null,
            "_view_module": "@jupyter-widgets/controls",
            "_view_module_version": "1.5.0",
            "_view_name": "CheckboxView",
            "description": "generate_poisson_noise",
            "description_tooltip": null,
            "disabled": false,
            "indent": true,
            "layout": "IPY_MODEL_50e0b59e9e61453da064e6b0d536b359",
            "style": "IPY_MODEL_9edf4b8949b24b8f977836646df925f8",
            "value": false
          }
        },
        "50e0b59e9e61453da064e6b0d536b359": {
          "model_module": "@jupyter-widgets/base",
          "model_name": "LayoutModel",
          "model_module_version": "1.2.0",
          "state": {
            "_model_module": "@jupyter-widgets/base",
            "_model_module_version": "1.2.0",
            "_model_name": "LayoutModel",
            "_view_count": null,
            "_view_module": "@jupyter-widgets/base",
            "_view_module_version": "1.2.0",
            "_view_name": "LayoutView",
            "align_content": null,
            "align_items": null,
            "align_self": null,
            "border": null,
            "bottom": null,
            "display": null,
            "flex": null,
            "flex_flow": null,
            "grid_area": null,
            "grid_auto_columns": null,
            "grid_auto_flow": null,
            "grid_auto_rows": null,
            "grid_column": null,
            "grid_gap": null,
            "grid_row": null,
            "grid_template_areas": null,
            "grid_template_columns": null,
            "grid_template_rows": null,
            "height": null,
            "justify_content": null,
            "justify_items": null,
            "left": null,
            "margin": null,
            "max_height": null,
            "max_width": null,
            "min_height": null,
            "min_width": null,
            "object_fit": null,
            "object_position": null,
            "order": null,
            "overflow": null,
            "overflow_x": null,
            "overflow_y": null,
            "padding": null,
            "right": null,
            "top": null,
            "visibility": null,
            "width": null
          }
        },
        "9edf4b8949b24b8f977836646df925f8": {
          "model_module": "@jupyter-widgets/controls",
          "model_name": "DescriptionStyleModel",
          "model_module_version": "1.5.0",
          "state": {
            "_model_module": "@jupyter-widgets/controls",
            "_model_module_version": "1.5.0",
            "_model_name": "DescriptionStyleModel",
            "_view_count": null,
            "_view_module": "@jupyter-widgets/base",
            "_view_module_version": "1.2.0",
            "_view_name": "StyleView",
            "description_width": ""
          }
        },
        "71c9d889c4b54a3ab6ae2f908c90f282": {
          "model_module": "@jupyter-widgets/controls",
          "model_name": "CheckboxModel",
          "model_module_version": "1.5.0",
          "state": {
            "_dom_classes": [],
            "_model_module": "@jupyter-widgets/controls",
            "_model_module_version": "1.5.0",
            "_model_name": "CheckboxModel",
            "_view_count": null,
            "_view_module": "@jupyter-widgets/controls",
            "_view_module_version": "1.5.0",
            "_view_name": "CheckboxView",
            "description": "generate_sep_noise",
            "description_tooltip": null,
            "disabled": false,
            "indent": true,
            "layout": "IPY_MODEL_c97b47ce46a04611a08171c68a49989b",
            "style": "IPY_MODEL_e46dbc6337f643a3ad6a6084541be585",
            "value": false
          }
        },
        "c97b47ce46a04611a08171c68a49989b": {
          "model_module": "@jupyter-widgets/base",
          "model_name": "LayoutModel",
          "model_module_version": "1.2.0",
          "state": {
            "_model_module": "@jupyter-widgets/base",
            "_model_module_version": "1.2.0",
            "_model_name": "LayoutModel",
            "_view_count": null,
            "_view_module": "@jupyter-widgets/base",
            "_view_module_version": "1.2.0",
            "_view_name": "LayoutView",
            "align_content": null,
            "align_items": null,
            "align_self": null,
            "border": null,
            "bottom": null,
            "display": null,
            "flex": null,
            "flex_flow": null,
            "grid_area": null,
            "grid_auto_columns": null,
            "grid_auto_flow": null,
            "grid_auto_rows": null,
            "grid_column": null,
            "grid_gap": null,
            "grid_row": null,
            "grid_template_areas": null,
            "grid_template_columns": null,
            "grid_template_rows": null,
            "height": null,
            "justify_content": null,
            "justify_items": null,
            "left": null,
            "margin": null,
            "max_height": null,
            "max_width": null,
            "min_height": null,
            "min_width": null,
            "object_fit": null,
            "object_position": null,
            "order": null,
            "overflow": null,
            "overflow_x": null,
            "overflow_y": null,
            "padding": null,
            "right": null,
            "top": null,
            "visibility": null,
            "width": null
          }
        },
        "e46dbc6337f643a3ad6a6084541be585": {
          "model_module": "@jupyter-widgets/controls",
          "model_name": "DescriptionStyleModel",
          "model_module_version": "1.5.0",
          "state": {
            "_model_module": "@jupyter-widgets/controls",
            "_model_module_version": "1.5.0",
            "_model_name": "DescriptionStyleModel",
            "_view_count": null,
            "_view_module": "@jupyter-widgets/base",
            "_view_module_version": "1.2.0",
            "_view_name": "StyleView",
            "description_width": ""
          }
        },
        "a53ddfb4ec5642ecbdfde1d3b387a071": {
          "model_module": "@jupyter-widgets/controls",
          "model_name": "LabelModel",
          "model_module_version": "1.5.0",
          "state": {
            "_dom_classes": [],
            "_model_module": "@jupyter-widgets/controls",
            "_model_module_version": "1.5.0",
            "_model_name": "LabelModel",
            "_view_count": null,
            "_view_module": "@jupyter-widgets/controls",
            "_view_module_version": "1.5.0",
            "_view_name": "LabelView",
            "description": "",
            "description_tooltip": null,
            "layout": "IPY_MODEL_630c6b7154dd4c5eb220902c0ce3f2fe",
            "placeholder": "​",
            "style": "IPY_MODEL_ecfcb5d0727341a0bcdb437db0add364",
            "value": "Colors Distortions"
          }
        },
        "630c6b7154dd4c5eb220902c0ce3f2fe": {
          "model_module": "@jupyter-widgets/base",
          "model_name": "LayoutModel",
          "model_module_version": "1.2.0",
          "state": {
            "_model_module": "@jupyter-widgets/base",
            "_model_module_version": "1.2.0",
            "_model_name": "LayoutModel",
            "_view_count": null,
            "_view_module": "@jupyter-widgets/base",
            "_view_module_version": "1.2.0",
            "_view_name": "LayoutView",
            "align_content": null,
            "align_items": null,
            "align_self": null,
            "border": null,
            "bottom": null,
            "display": null,
            "flex": null,
            "flex_flow": null,
            "grid_area": null,
            "grid_auto_columns": null,
            "grid_auto_flow": null,
            "grid_auto_rows": null,
            "grid_column": null,
            "grid_gap": null,
            "grid_row": null,
            "grid_template_areas": null,
            "grid_template_columns": null,
            "grid_template_rows": null,
            "height": null,
            "justify_content": null,
            "justify_items": null,
            "left": null,
            "margin": null,
            "max_height": null,
            "max_width": null,
            "min_height": null,
            "min_width": null,
            "object_fit": null,
            "object_position": null,
            "order": null,
            "overflow": null,
            "overflow_x": null,
            "overflow_y": null,
            "padding": null,
            "right": null,
            "top": null,
            "visibility": null,
            "width": null
          }
        },
        "ecfcb5d0727341a0bcdb437db0add364": {
          "model_module": "@jupyter-widgets/controls",
          "model_name": "DescriptionStyleModel",
          "model_module_version": "1.5.0",
          "state": {
            "_model_module": "@jupyter-widgets/controls",
            "_model_module_version": "1.5.0",
            "_model_name": "DescriptionStyleModel",
            "_view_count": null,
            "_view_module": "@jupyter-widgets/base",
            "_view_module_version": "1.2.0",
            "_view_name": "StyleView",
            "description_width": ""
          }
        },
        "d3291a031d534874babf57869cf436a2": {
          "model_module": "@jupyter-widgets/controls",
          "model_name": "CheckboxModel",
          "model_module_version": "1.5.0",
          "state": {
            "_dom_classes": [],
            "_model_module": "@jupyter-widgets/controls",
            "_model_module_version": "1.5.0",
            "_model_name": "CheckboxModel",
            "_view_count": null,
            "_view_module": "@jupyter-widgets/controls",
            "_view_module_version": "1.5.0",
            "_view_name": "CheckboxView",
            "description": "generate_color_diffusion",
            "description_tooltip": null,
            "disabled": false,
            "indent": true,
            "layout": "IPY_MODEL_63f5b2cc4c00488ea0bac6037dd80d19",
            "style": "IPY_MODEL_fe7610d7d9854cd18920ea56c68e579b",
            "value": false
          }
        },
        "63f5b2cc4c00488ea0bac6037dd80d19": {
          "model_module": "@jupyter-widgets/base",
          "model_name": "LayoutModel",
          "model_module_version": "1.2.0",
          "state": {
            "_model_module": "@jupyter-widgets/base",
            "_model_module_version": "1.2.0",
            "_model_name": "LayoutModel",
            "_view_count": null,
            "_view_module": "@jupyter-widgets/base",
            "_view_module_version": "1.2.0",
            "_view_name": "LayoutView",
            "align_content": null,
            "align_items": null,
            "align_self": null,
            "border": null,
            "bottom": null,
            "display": null,
            "flex": null,
            "flex_flow": null,
            "grid_area": null,
            "grid_auto_columns": null,
            "grid_auto_flow": null,
            "grid_auto_rows": null,
            "grid_column": null,
            "grid_gap": null,
            "grid_row": null,
            "grid_template_areas": null,
            "grid_template_columns": null,
            "grid_template_rows": null,
            "height": null,
            "justify_content": null,
            "justify_items": null,
            "left": null,
            "margin": null,
            "max_height": null,
            "max_width": null,
            "min_height": null,
            "min_width": null,
            "object_fit": null,
            "object_position": null,
            "order": null,
            "overflow": null,
            "overflow_x": null,
            "overflow_y": null,
            "padding": null,
            "right": null,
            "top": null,
            "visibility": null,
            "width": null
          }
        },
        "fe7610d7d9854cd18920ea56c68e579b": {
          "model_module": "@jupyter-widgets/controls",
          "model_name": "DescriptionStyleModel",
          "model_module_version": "1.5.0",
          "state": {
            "_model_module": "@jupyter-widgets/controls",
            "_model_module_version": "1.5.0",
            "_model_name": "DescriptionStyleModel",
            "_view_count": null,
            "_view_module": "@jupyter-widgets/base",
            "_view_module_version": "1.2.0",
            "_view_name": "StyleView",
            "description_width": ""
          }
        },
        "1cc5f05f896b494aaf329b78c2219f54": {
          "model_module": "@jupyter-widgets/controls",
          "model_name": "CheckboxModel",
          "model_module_version": "1.5.0",
          "state": {
            "_dom_classes": [],
            "_model_module": "@jupyter-widgets/controls",
            "_model_module_version": "1.5.0",
            "_model_name": "CheckboxModel",
            "_view_count": null,
            "_view_module": "@jupyter-widgets/controls",
            "_view_module_version": "1.5.0",
            "_view_name": "CheckboxView",
            "description": "generate_color_shift",
            "description_tooltip": null,
            "disabled": false,
            "indent": true,
            "layout": "IPY_MODEL_8b78753ee6b54406be21d14b47c6c9c9",
            "style": "IPY_MODEL_6a8361f7c4074695a04c2d5f5f3f26f8",
            "value": false
          }
        },
        "8b78753ee6b54406be21d14b47c6c9c9": {
          "model_module": "@jupyter-widgets/base",
          "model_name": "LayoutModel",
          "model_module_version": "1.2.0",
          "state": {
            "_model_module": "@jupyter-widgets/base",
            "_model_module_version": "1.2.0",
            "_model_name": "LayoutModel",
            "_view_count": null,
            "_view_module": "@jupyter-widgets/base",
            "_view_module_version": "1.2.0",
            "_view_name": "LayoutView",
            "align_content": null,
            "align_items": null,
            "align_self": null,
            "border": null,
            "bottom": null,
            "display": null,
            "flex": null,
            "flex_flow": null,
            "grid_area": null,
            "grid_auto_columns": null,
            "grid_auto_flow": null,
            "grid_auto_rows": null,
            "grid_column": null,
            "grid_gap": null,
            "grid_row": null,
            "grid_template_areas": null,
            "grid_template_columns": null,
            "grid_template_rows": null,
            "height": null,
            "justify_content": null,
            "justify_items": null,
            "left": null,
            "margin": null,
            "max_height": null,
            "max_width": null,
            "min_height": null,
            "min_width": null,
            "object_fit": null,
            "object_position": null,
            "order": null,
            "overflow": null,
            "overflow_x": null,
            "overflow_y": null,
            "padding": null,
            "right": null,
            "top": null,
            "visibility": null,
            "width": null
          }
        },
        "6a8361f7c4074695a04c2d5f5f3f26f8": {
          "model_module": "@jupyter-widgets/controls",
          "model_name": "DescriptionStyleModel",
          "model_module_version": "1.5.0",
          "state": {
            "_model_module": "@jupyter-widgets/controls",
            "_model_module_version": "1.5.0",
            "_model_name": "DescriptionStyleModel",
            "_view_count": null,
            "_view_module": "@jupyter-widgets/base",
            "_view_module_version": "1.2.0",
            "_view_name": "StyleView",
            "description_width": ""
          }
        },
        "eda858ead756440380c5c56b17e66134": {
          "model_module": "@jupyter-widgets/controls",
          "model_name": "CheckboxModel",
          "model_module_version": "1.5.0",
          "state": {
            "_dom_classes": [],
            "_model_module": "@jupyter-widgets/controls",
            "_model_module_version": "1.5.0",
            "_model_name": "CheckboxModel",
            "_view_count": null,
            "_view_module": "@jupyter-widgets/controls",
            "_view_module_version": "1.5.0",
            "_view_name": "CheckboxView",
            "description": "generate_color_quantization",
            "description_tooltip": null,
            "disabled": false,
            "indent": true,
            "layout": "IPY_MODEL_a93e6ef453b14780b01cc3d268cd1d93",
            "style": "IPY_MODEL_6608ed1684234f2e819d56ce78f92303",
            "value": false
          }
        },
        "a93e6ef453b14780b01cc3d268cd1d93": {
          "model_module": "@jupyter-widgets/base",
          "model_name": "LayoutModel",
          "model_module_version": "1.2.0",
          "state": {
            "_model_module": "@jupyter-widgets/base",
            "_model_module_version": "1.2.0",
            "_model_name": "LayoutModel",
            "_view_count": null,
            "_view_module": "@jupyter-widgets/base",
            "_view_module_version": "1.2.0",
            "_view_name": "LayoutView",
            "align_content": null,
            "align_items": null,
            "align_self": null,
            "border": null,
            "bottom": null,
            "display": null,
            "flex": null,
            "flex_flow": null,
            "grid_area": null,
            "grid_auto_columns": null,
            "grid_auto_flow": null,
            "grid_auto_rows": null,
            "grid_column": null,
            "grid_gap": null,
            "grid_row": null,
            "grid_template_areas": null,
            "grid_template_columns": null,
            "grid_template_rows": null,
            "height": null,
            "justify_content": null,
            "justify_items": null,
            "left": null,
            "margin": null,
            "max_height": null,
            "max_width": null,
            "min_height": null,
            "min_width": null,
            "object_fit": null,
            "object_position": null,
            "order": null,
            "overflow": null,
            "overflow_x": null,
            "overflow_y": null,
            "padding": null,
            "right": null,
            "top": null,
            "visibility": null,
            "width": null
          }
        },
        "6608ed1684234f2e819d56ce78f92303": {
          "model_module": "@jupyter-widgets/controls",
          "model_name": "DescriptionStyleModel",
          "model_module_version": "1.5.0",
          "state": {
            "_model_module": "@jupyter-widgets/controls",
            "_model_module_version": "1.5.0",
            "_model_name": "DescriptionStyleModel",
            "_view_count": null,
            "_view_module": "@jupyter-widgets/base",
            "_view_module_version": "1.2.0",
            "_view_name": "StyleView",
            "description_width": ""
          }
        },
        "6b3bfa80abe340e0acc34954ceabefce": {
          "model_module": "@jupyter-widgets/controls",
          "model_name": "CheckboxModel",
          "model_module_version": "1.5.0",
          "state": {
            "_dom_classes": [],
            "_model_module": "@jupyter-widgets/controls",
            "_model_module_version": "1.5.0",
            "_model_name": "CheckboxModel",
            "_view_count": null,
            "_view_module": "@jupyter-widgets/controls",
            "_view_module_version": "1.5.0",
            "_view_name": "CheckboxView",
            "description": "generate_color_saturation_hsv",
            "description_tooltip": null,
            "disabled": false,
            "indent": true,
            "layout": "IPY_MODEL_70d0362213b84c1d9223ba6cc1db1302",
            "style": "IPY_MODEL_6710b592ea06493fbe0f70bc6433faf4",
            "value": false
          }
        },
        "70d0362213b84c1d9223ba6cc1db1302": {
          "model_module": "@jupyter-widgets/base",
          "model_name": "LayoutModel",
          "model_module_version": "1.2.0",
          "state": {
            "_model_module": "@jupyter-widgets/base",
            "_model_module_version": "1.2.0",
            "_model_name": "LayoutModel",
            "_view_count": null,
            "_view_module": "@jupyter-widgets/base",
            "_view_module_version": "1.2.0",
            "_view_name": "LayoutView",
            "align_content": null,
            "align_items": null,
            "align_self": null,
            "border": null,
            "bottom": null,
            "display": null,
            "flex": null,
            "flex_flow": null,
            "grid_area": null,
            "grid_auto_columns": null,
            "grid_auto_flow": null,
            "grid_auto_rows": null,
            "grid_column": null,
            "grid_gap": null,
            "grid_row": null,
            "grid_template_areas": null,
            "grid_template_columns": null,
            "grid_template_rows": null,
            "height": null,
            "justify_content": null,
            "justify_items": null,
            "left": null,
            "margin": null,
            "max_height": null,
            "max_width": null,
            "min_height": null,
            "min_width": null,
            "object_fit": null,
            "object_position": null,
            "order": null,
            "overflow": null,
            "overflow_x": null,
            "overflow_y": null,
            "padding": null,
            "right": null,
            "top": null,
            "visibility": null,
            "width": null
          }
        },
        "6710b592ea06493fbe0f70bc6433faf4": {
          "model_module": "@jupyter-widgets/controls",
          "model_name": "DescriptionStyleModel",
          "model_module_version": "1.5.0",
          "state": {
            "_model_module": "@jupyter-widgets/controls",
            "_model_module_version": "1.5.0",
            "_model_name": "DescriptionStyleModel",
            "_view_count": null,
            "_view_module": "@jupyter-widgets/base",
            "_view_module_version": "1.2.0",
            "_view_name": "StyleView",
            "description_width": ""
          }
        },
        "053d4cabfc684fe1a9f43fcda42cc017": {
          "model_module": "@jupyter-widgets/controls",
          "model_name": "CheckboxModel",
          "model_module_version": "1.5.0",
          "state": {
            "_dom_classes": [],
            "_model_module": "@jupyter-widgets/controls",
            "_model_module_version": "1.5.0",
            "_model_name": "CheckboxModel",
            "_view_count": null,
            "_view_module": "@jupyter-widgets/controls",
            "_view_module_version": "1.5.0",
            "_view_name": "CheckboxView",
            "description": "generate_color_saturation_lab",
            "description_tooltip": null,
            "disabled": false,
            "indent": true,
            "layout": "IPY_MODEL_4cfbf818f88b47d5be7663a4ec9e3461",
            "style": "IPY_MODEL_6fa91d467c214bbab243cf170edc65e2",
            "value": false
          }
        },
        "4cfbf818f88b47d5be7663a4ec9e3461": {
          "model_module": "@jupyter-widgets/base",
          "model_name": "LayoutModel",
          "model_module_version": "1.2.0",
          "state": {
            "_model_module": "@jupyter-widgets/base",
            "_model_module_version": "1.2.0",
            "_model_name": "LayoutModel",
            "_view_count": null,
            "_view_module": "@jupyter-widgets/base",
            "_view_module_version": "1.2.0",
            "_view_name": "LayoutView",
            "align_content": null,
            "align_items": null,
            "align_self": null,
            "border": null,
            "bottom": null,
            "display": null,
            "flex": null,
            "flex_flow": null,
            "grid_area": null,
            "grid_auto_columns": null,
            "grid_auto_flow": null,
            "grid_auto_rows": null,
            "grid_column": null,
            "grid_gap": null,
            "grid_row": null,
            "grid_template_areas": null,
            "grid_template_columns": null,
            "grid_template_rows": null,
            "height": null,
            "justify_content": null,
            "justify_items": null,
            "left": null,
            "margin": null,
            "max_height": null,
            "max_width": null,
            "min_height": null,
            "min_width": null,
            "object_fit": null,
            "object_position": null,
            "order": null,
            "overflow": null,
            "overflow_x": null,
            "overflow_y": null,
            "padding": null,
            "right": null,
            "top": null,
            "visibility": null,
            "width": null
          }
        },
        "6fa91d467c214bbab243cf170edc65e2": {
          "model_module": "@jupyter-widgets/controls",
          "model_name": "DescriptionStyleModel",
          "model_module_version": "1.5.0",
          "state": {
            "_model_module": "@jupyter-widgets/controls",
            "_model_module_version": "1.5.0",
            "_model_name": "DescriptionStyleModel",
            "_view_count": null,
            "_view_module": "@jupyter-widgets/base",
            "_view_module_version": "1.2.0",
            "_view_name": "StyleView",
            "description_width": ""
          }
        },
        "d6b68afd92c14162b1d37955701e137d": {
          "model_module": "@jupyter-widgets/controls",
          "model_name": "LabelModel",
          "model_module_version": "1.5.0",
          "state": {
            "_dom_classes": [],
            "_model_module": "@jupyter-widgets/controls",
            "_model_module_version": "1.5.0",
            "_model_name": "LabelModel",
            "_view_count": null,
            "_view_module": "@jupyter-widgets/controls",
            "_view_module_version": "1.5.0",
            "_view_name": "LabelView",
            "description": "",
            "description_tooltip": null,
            "layout": "IPY_MODEL_31ee22b768554e2cbbd17ef121e79f3b",
            "placeholder": "​",
            "style": "IPY_MODEL_e78edee7beb547f0816ebb330941dcfc",
            "value": "Jpegs Compression"
          }
        },
        "31ee22b768554e2cbbd17ef121e79f3b": {
          "model_module": "@jupyter-widgets/base",
          "model_name": "LayoutModel",
          "model_module_version": "1.2.0",
          "state": {
            "_model_module": "@jupyter-widgets/base",
            "_model_module_version": "1.2.0",
            "_model_name": "LayoutModel",
            "_view_count": null,
            "_view_module": "@jupyter-widgets/base",
            "_view_module_version": "1.2.0",
            "_view_name": "LayoutView",
            "align_content": null,
            "align_items": null,
            "align_self": null,
            "border": null,
            "bottom": null,
            "display": null,
            "flex": null,
            "flex_flow": null,
            "grid_area": null,
            "grid_auto_columns": null,
            "grid_auto_flow": null,
            "grid_auto_rows": null,
            "grid_column": null,
            "grid_gap": null,
            "grid_row": null,
            "grid_template_areas": null,
            "grid_template_columns": null,
            "grid_template_rows": null,
            "height": null,
            "justify_content": null,
            "justify_items": null,
            "left": null,
            "margin": null,
            "max_height": null,
            "max_width": null,
            "min_height": null,
            "min_width": null,
            "object_fit": null,
            "object_position": null,
            "order": null,
            "overflow": null,
            "overflow_x": null,
            "overflow_y": null,
            "padding": null,
            "right": null,
            "top": null,
            "visibility": null,
            "width": null
          }
        },
        "e78edee7beb547f0816ebb330941dcfc": {
          "model_module": "@jupyter-widgets/controls",
          "model_name": "DescriptionStyleModel",
          "model_module_version": "1.5.0",
          "state": {
            "_model_module": "@jupyter-widgets/controls",
            "_model_module_version": "1.5.0",
            "_model_name": "DescriptionStyleModel",
            "_view_count": null,
            "_view_module": "@jupyter-widgets/base",
            "_view_module_version": "1.2.0",
            "_view_name": "StyleView",
            "description_width": ""
          }
        },
        "3ef9f4ed623f4f0898082d24f36faa15": {
          "model_module": "@jupyter-widgets/controls",
          "model_name": "CheckboxModel",
          "model_module_version": "1.5.0",
          "state": {
            "_dom_classes": [],
            "_model_module": "@jupyter-widgets/controls",
            "_model_module_version": "1.5.0",
            "_model_name": "CheckboxModel",
            "_view_count": null,
            "_view_module": "@jupyter-widgets/controls",
            "_view_module_version": "1.5.0",
            "_view_name": "CheckboxView",
            "description": "generate_compression_jpeg",
            "description_tooltip": null,
            "disabled": false,
            "indent": true,
            "layout": "IPY_MODEL_e780a446cf1b4b91b0da2ae24f619bbe",
            "style": "IPY_MODEL_f5e4dcc2645345a2bcc48dbce1042f4b",
            "value": false
          }
        },
        "e780a446cf1b4b91b0da2ae24f619bbe": {
          "model_module": "@jupyter-widgets/base",
          "model_name": "LayoutModel",
          "model_module_version": "1.2.0",
          "state": {
            "_model_module": "@jupyter-widgets/base",
            "_model_module_version": "1.2.0",
            "_model_name": "LayoutModel",
            "_view_count": null,
            "_view_module": "@jupyter-widgets/base",
            "_view_module_version": "1.2.0",
            "_view_name": "LayoutView",
            "align_content": null,
            "align_items": null,
            "align_self": null,
            "border": null,
            "bottom": null,
            "display": null,
            "flex": null,
            "flex_flow": null,
            "grid_area": null,
            "grid_auto_columns": null,
            "grid_auto_flow": null,
            "grid_auto_rows": null,
            "grid_column": null,
            "grid_gap": null,
            "grid_row": null,
            "grid_template_areas": null,
            "grid_template_columns": null,
            "grid_template_rows": null,
            "height": null,
            "justify_content": null,
            "justify_items": null,
            "left": null,
            "margin": null,
            "max_height": null,
            "max_width": null,
            "min_height": null,
            "min_width": null,
            "object_fit": null,
            "object_position": null,
            "order": null,
            "overflow": null,
            "overflow_x": null,
            "overflow_y": null,
            "padding": null,
            "right": null,
            "top": null,
            "visibility": null,
            "width": null
          }
        },
        "f5e4dcc2645345a2bcc48dbce1042f4b": {
          "model_module": "@jupyter-widgets/controls",
          "model_name": "DescriptionStyleModel",
          "model_module_version": "1.5.0",
          "state": {
            "_model_module": "@jupyter-widgets/controls",
            "_model_module_version": "1.5.0",
            "_model_name": "DescriptionStyleModel",
            "_view_count": null,
            "_view_module": "@jupyter-widgets/base",
            "_view_module_version": "1.2.0",
            "_view_name": "StyleView",
            "description_width": ""
          }
        },
        "7ae49ff33afc45f3841215081b3b9be8": {
          "model_module": "@jupyter-widgets/controls",
          "model_name": "CheckboxModel",
          "model_module_version": "1.5.0",
          "state": {
            "_dom_classes": [],
            "_model_module": "@jupyter-widgets/controls",
            "_model_module_version": "1.5.0",
            "_model_name": "CheckboxModel",
            "_view_count": null,
            "_view_module": "@jupyter-widgets/controls",
            "_view_module_version": "1.5.0",
            "_view_name": "CheckboxView",
            "description": "generate_compression_jpeg2000",
            "description_tooltip": null,
            "disabled": false,
            "indent": true,
            "layout": "IPY_MODEL_dc36c958773940a88679ba693a4cec40",
            "style": "IPY_MODEL_bb7f61a532224b6aa4128532e15da28a",
            "value": false
          }
        },
        "dc36c958773940a88679ba693a4cec40": {
          "model_module": "@jupyter-widgets/base",
          "model_name": "LayoutModel",
          "model_module_version": "1.2.0",
          "state": {
            "_model_module": "@jupyter-widgets/base",
            "_model_module_version": "1.2.0",
            "_model_name": "LayoutModel",
            "_view_count": null,
            "_view_module": "@jupyter-widgets/base",
            "_view_module_version": "1.2.0",
            "_view_name": "LayoutView",
            "align_content": null,
            "align_items": null,
            "align_self": null,
            "border": null,
            "bottom": null,
            "display": null,
            "flex": null,
            "flex_flow": null,
            "grid_area": null,
            "grid_auto_columns": null,
            "grid_auto_flow": null,
            "grid_auto_rows": null,
            "grid_column": null,
            "grid_gap": null,
            "grid_row": null,
            "grid_template_areas": null,
            "grid_template_columns": null,
            "grid_template_rows": null,
            "height": null,
            "justify_content": null,
            "justify_items": null,
            "left": null,
            "margin": null,
            "max_height": null,
            "max_width": null,
            "min_height": null,
            "min_width": null,
            "object_fit": null,
            "object_position": null,
            "order": null,
            "overflow": null,
            "overflow_x": null,
            "overflow_y": null,
            "padding": null,
            "right": null,
            "top": null,
            "visibility": null,
            "width": null
          }
        },
        "bb7f61a532224b6aa4128532e15da28a": {
          "model_module": "@jupyter-widgets/controls",
          "model_name": "DescriptionStyleModel",
          "model_module_version": "1.5.0",
          "state": {
            "_model_module": "@jupyter-widgets/controls",
            "_model_module_version": "1.5.0",
            "_model_name": "DescriptionStyleModel",
            "_view_count": null,
            "_view_module": "@jupyter-widgets/base",
            "_view_module_version": "1.2.0",
            "_view_name": "StyleView",
            "description_width": ""
          }
        },
        "549fec252ae94c6da5d66bf9a6934dbc": {
          "model_module": "@jupyter-widgets/controls",
          "model_name": "LabelModel",
          "model_module_version": "1.5.0",
          "state": {
            "_dom_classes": [],
            "_model_module": "@jupyter-widgets/controls",
            "_model_module_version": "1.5.0",
            "_model_name": "LabelModel",
            "_view_count": null,
            "_view_module": "@jupyter-widgets/controls",
            "_view_module_version": "1.5.0",
            "_view_name": "LabelView",
            "description": "",
            "description_tooltip": null,
            "layout": "IPY_MODEL_8c6156e0b31d427ca3c6ae32c9fdadf8",
            "placeholder": "​",
            "style": "IPY_MODEL_e8deec110e2842de8a50ac8c24e91692",
            "value": "Warps Distortions"
          }
        },
        "8c6156e0b31d427ca3c6ae32c9fdadf8": {
          "model_module": "@jupyter-widgets/base",
          "model_name": "LayoutModel",
          "model_module_version": "1.2.0",
          "state": {
            "_model_module": "@jupyter-widgets/base",
            "_model_module_version": "1.2.0",
            "_model_name": "LayoutModel",
            "_view_count": null,
            "_view_module": "@jupyter-widgets/base",
            "_view_module_version": "1.2.0",
            "_view_name": "LayoutView",
            "align_content": null,
            "align_items": null,
            "align_self": null,
            "border": null,
            "bottom": null,
            "display": null,
            "flex": null,
            "flex_flow": null,
            "grid_area": null,
            "grid_auto_columns": null,
            "grid_auto_flow": null,
            "grid_auto_rows": null,
            "grid_column": null,
            "grid_gap": null,
            "grid_row": null,
            "grid_template_areas": null,
            "grid_template_columns": null,
            "grid_template_rows": null,
            "height": null,
            "justify_content": null,
            "justify_items": null,
            "left": null,
            "margin": null,
            "max_height": null,
            "max_width": null,
            "min_height": null,
            "min_width": null,
            "object_fit": null,
            "object_position": null,
            "order": null,
            "overflow": null,
            "overflow_x": null,
            "overflow_y": null,
            "padding": null,
            "right": null,
            "top": null,
            "visibility": null,
            "width": null
          }
        },
        "e8deec110e2842de8a50ac8c24e91692": {
          "model_module": "@jupyter-widgets/controls",
          "model_name": "DescriptionStyleModel",
          "model_module_version": "1.5.0",
          "state": {
            "_model_module": "@jupyter-widgets/controls",
            "_model_module_version": "1.5.0",
            "_model_name": "DescriptionStyleModel",
            "_view_count": null,
            "_view_module": "@jupyter-widgets/base",
            "_view_module_version": "1.2.0",
            "_view_name": "StyleView",
            "description_width": ""
          }
        },
        "a4019034cac648a29a07bfe25920fe62": {
          "model_module": "@jupyter-widgets/controls",
          "model_name": "CheckboxModel",
          "model_module_version": "1.5.0",
          "state": {
            "_dom_classes": [],
            "_model_module": "@jupyter-widgets/controls",
            "_model_module_version": "1.5.0",
            "_model_name": "CheckboxModel",
            "_view_count": null,
            "_view_module": "@jupyter-widgets/controls",
            "_view_module_version": "1.5.0",
            "_view_name": "CheckboxView",
            "description": "generate_invert_warp",
            "description_tooltip": null,
            "disabled": false,
            "indent": true,
            "layout": "IPY_MODEL_91e31d02050e4d589e26d518f664fba5",
            "style": "IPY_MODEL_de5e24de8b374850a30b060327ac1e99",
            "value": false
          }
        },
        "91e31d02050e4d589e26d518f664fba5": {
          "model_module": "@jupyter-widgets/base",
          "model_name": "LayoutModel",
          "model_module_version": "1.2.0",
          "state": {
            "_model_module": "@jupyter-widgets/base",
            "_model_module_version": "1.2.0",
            "_model_name": "LayoutModel",
            "_view_count": null,
            "_view_module": "@jupyter-widgets/base",
            "_view_module_version": "1.2.0",
            "_view_name": "LayoutView",
            "align_content": null,
            "align_items": null,
            "align_self": null,
            "border": null,
            "bottom": null,
            "display": null,
            "flex": null,
            "flex_flow": null,
            "grid_area": null,
            "grid_auto_columns": null,
            "grid_auto_flow": null,
            "grid_auto_rows": null,
            "grid_column": null,
            "grid_gap": null,
            "grid_row": null,
            "grid_template_areas": null,
            "grid_template_columns": null,
            "grid_template_rows": null,
            "height": null,
            "justify_content": null,
            "justify_items": null,
            "left": null,
            "margin": null,
            "max_height": null,
            "max_width": null,
            "min_height": null,
            "min_width": null,
            "object_fit": null,
            "object_position": null,
            "order": null,
            "overflow": null,
            "overflow_x": null,
            "overflow_y": null,
            "padding": null,
            "right": null,
            "top": null,
            "visibility": null,
            "width": null
          }
        },
        "de5e24de8b374850a30b060327ac1e99": {
          "model_module": "@jupyter-widgets/controls",
          "model_name": "DescriptionStyleModel",
          "model_module_version": "1.5.0",
          "state": {
            "_model_module": "@jupyter-widgets/controls",
            "_model_module_version": "1.5.0",
            "_model_name": "DescriptionStyleModel",
            "_view_count": null,
            "_view_module": "@jupyter-widgets/base",
            "_view_module_version": "1.2.0",
            "_view_name": "StyleView",
            "description_width": ""
          }
        },
        "27ebdcccba8a438e947030c01fa85a52": {
          "model_module": "@jupyter-widgets/controls",
          "model_name": "CheckboxModel",
          "model_module_version": "1.5.0",
          "state": {
            "_dom_classes": [],
            "_model_module": "@jupyter-widgets/controls",
            "_model_module_version": "1.5.0",
            "_model_name": "CheckboxModel",
            "_view_count": null,
            "_view_module": "@jupyter-widgets/controls",
            "_view_module_version": "1.5.0",
            "_view_name": "CheckboxView",
            "description": "generate_shearing_warp",
            "description_tooltip": null,
            "disabled": false,
            "indent": true,
            "layout": "IPY_MODEL_978b37320a004859b99877cf293dab77",
            "style": "IPY_MODEL_c6bcc482fa2e491f8a2f8af2c9a5c2c4",
            "value": false
          }
        },
        "978b37320a004859b99877cf293dab77": {
          "model_module": "@jupyter-widgets/base",
          "model_name": "LayoutModel",
          "model_module_version": "1.2.0",
          "state": {
            "_model_module": "@jupyter-widgets/base",
            "_model_module_version": "1.2.0",
            "_model_name": "LayoutModel",
            "_view_count": null,
            "_view_module": "@jupyter-widgets/base",
            "_view_module_version": "1.2.0",
            "_view_name": "LayoutView",
            "align_content": null,
            "align_items": null,
            "align_self": null,
            "border": null,
            "bottom": null,
            "display": null,
            "flex": null,
            "flex_flow": null,
            "grid_area": null,
            "grid_auto_columns": null,
            "grid_auto_flow": null,
            "grid_auto_rows": null,
            "grid_column": null,
            "grid_gap": null,
            "grid_row": null,
            "grid_template_areas": null,
            "grid_template_columns": null,
            "grid_template_rows": null,
            "height": null,
            "justify_content": null,
            "justify_items": null,
            "left": null,
            "margin": null,
            "max_height": null,
            "max_width": null,
            "min_height": null,
            "min_width": null,
            "object_fit": null,
            "object_position": null,
            "order": null,
            "overflow": null,
            "overflow_x": null,
            "overflow_y": null,
            "padding": null,
            "right": null,
            "top": null,
            "visibility": null,
            "width": null
          }
        },
        "c6bcc482fa2e491f8a2f8af2c9a5c2c4": {
          "model_module": "@jupyter-widgets/controls",
          "model_name": "DescriptionStyleModel",
          "model_module_version": "1.5.0",
          "state": {
            "_model_module": "@jupyter-widgets/controls",
            "_model_module_version": "1.5.0",
            "_model_name": "DescriptionStyleModel",
            "_view_count": null,
            "_view_module": "@jupyter-widgets/base",
            "_view_module_version": "1.2.0",
            "_view_name": "StyleView",
            "description_width": ""
          }
        },
        "a246c34b657947c48f4aed409184a4b3": {
          "model_module": "@jupyter-widgets/controls",
          "model_name": "CheckboxModel",
          "model_module_version": "1.5.0",
          "state": {
            "_dom_classes": [],
            "_model_module": "@jupyter-widgets/controls",
            "_model_module_version": "1.5.0",
            "_model_name": "CheckboxModel",
            "_view_count": null,
            "_view_module": "@jupyter-widgets/controls",
            "_view_module_version": "1.5.0",
            "_view_name": "CheckboxView",
            "description": "generate_elastic_warp",
            "description_tooltip": null,
            "disabled": false,
            "indent": true,
            "layout": "IPY_MODEL_c57fa619e0d849d998931d7698ce143f",
            "style": "IPY_MODEL_52bad3c9c7954116b0097b723f166130",
            "value": false
          }
        },
        "c57fa619e0d849d998931d7698ce143f": {
          "model_module": "@jupyter-widgets/base",
          "model_name": "LayoutModel",
          "model_module_version": "1.2.0",
          "state": {
            "_model_module": "@jupyter-widgets/base",
            "_model_module_version": "1.2.0",
            "_model_name": "LayoutModel",
            "_view_count": null,
            "_view_module": "@jupyter-widgets/base",
            "_view_module_version": "1.2.0",
            "_view_name": "LayoutView",
            "align_content": null,
            "align_items": null,
            "align_self": null,
            "border": null,
            "bottom": null,
            "display": null,
            "flex": null,
            "flex_flow": null,
            "grid_area": null,
            "grid_auto_columns": null,
            "grid_auto_flow": null,
            "grid_auto_rows": null,
            "grid_column": null,
            "grid_gap": null,
            "grid_row": null,
            "grid_template_areas": null,
            "grid_template_columns": null,
            "grid_template_rows": null,
            "height": null,
            "justify_content": null,
            "justify_items": null,
            "left": null,
            "margin": null,
            "max_height": null,
            "max_width": null,
            "min_height": null,
            "min_width": null,
            "object_fit": null,
            "object_position": null,
            "order": null,
            "overflow": null,
            "overflow_x": null,
            "overflow_y": null,
            "padding": null,
            "right": null,
            "top": null,
            "visibility": null,
            "width": null
          }
        },
        "52bad3c9c7954116b0097b723f166130": {
          "model_module": "@jupyter-widgets/controls",
          "model_name": "DescriptionStyleModel",
          "model_module_version": "1.5.0",
          "state": {
            "_model_module": "@jupyter-widgets/controls",
            "_model_module_version": "1.5.0",
            "_model_name": "DescriptionStyleModel",
            "_view_count": null,
            "_view_module": "@jupyter-widgets/base",
            "_view_module_version": "1.2.0",
            "_view_name": "StyleView",
            "description_width": ""
          }
        },
        "0de74dfb8b314096b837a83cada7e5b3": {
          "model_module": "@jupyter-widgets/controls",
          "model_name": "CheckboxModel",
          "model_module_version": "1.5.0",
          "state": {
            "_dom_classes": [],
            "_model_module": "@jupyter-widgets/controls",
            "_model_module_version": "1.5.0",
            "_model_name": "CheckboxModel",
            "_view_count": null,
            "_view_module": "@jupyter-widgets/controls",
            "_view_module_version": "1.5.0",
            "_view_name": "CheckboxView",
            "description": "generate_bilinear_interpolation",
            "description_tooltip": null,
            "disabled": false,
            "indent": true,
            "layout": "IPY_MODEL_486203661ef246998e52b3ff5b65ada3",
            "style": "IPY_MODEL_1575c734f4624b22b56e7706a5beefd9",
            "value": false
          }
        },
        "486203661ef246998e52b3ff5b65ada3": {
          "model_module": "@jupyter-widgets/base",
          "model_name": "LayoutModel",
          "model_module_version": "1.2.0",
          "state": {
            "_model_module": "@jupyter-widgets/base",
            "_model_module_version": "1.2.0",
            "_model_name": "LayoutModel",
            "_view_count": null,
            "_view_module": "@jupyter-widgets/base",
            "_view_module_version": "1.2.0",
            "_view_name": "LayoutView",
            "align_content": null,
            "align_items": null,
            "align_self": null,
            "border": null,
            "bottom": null,
            "display": null,
            "flex": null,
            "flex_flow": null,
            "grid_area": null,
            "grid_auto_columns": null,
            "grid_auto_flow": null,
            "grid_auto_rows": null,
            "grid_column": null,
            "grid_gap": null,
            "grid_row": null,
            "grid_template_areas": null,
            "grid_template_columns": null,
            "grid_template_rows": null,
            "height": null,
            "justify_content": null,
            "justify_items": null,
            "left": null,
            "margin": null,
            "max_height": null,
            "max_width": null,
            "min_height": null,
            "min_width": null,
            "object_fit": null,
            "object_position": null,
            "order": null,
            "overflow": null,
            "overflow_x": null,
            "overflow_y": null,
            "padding": null,
            "right": null,
            "top": null,
            "visibility": null,
            "width": null
          }
        },
        "1575c734f4624b22b56e7706a5beefd9": {
          "model_module": "@jupyter-widgets/controls",
          "model_name": "DescriptionStyleModel",
          "model_module_version": "1.5.0",
          "state": {
            "_model_module": "@jupyter-widgets/controls",
            "_model_module_version": "1.5.0",
            "_model_name": "DescriptionStyleModel",
            "_view_count": null,
            "_view_module": "@jupyter-widgets/base",
            "_view_module_version": "1.2.0",
            "_view_name": "StyleView",
            "description_width": ""
          }
        },
        "6b35f2c391de49bdb5a5541727e55e24": {
          "model_module": "@jupyter-widgets/controls",
          "model_name": "CheckboxModel",
          "model_module_version": "1.5.0",
          "state": {
            "_dom_classes": [],
            "_model_module": "@jupyter-widgets/controls",
            "_model_module_version": "1.5.0",
            "_model_name": "CheckboxModel",
            "_view_count": null,
            "_view_module": "@jupyter-widgets/controls",
            "_view_module_version": "1.5.0",
            "_view_name": "CheckboxView",
            "description": "generate_rotations",
            "description_tooltip": null,
            "disabled": false,
            "indent": true,
            "layout": "IPY_MODEL_148ce130f14a4ea3a04e1134cc5827e8",
            "style": "IPY_MODEL_dae377999a4140bd982d6b88f2dd43cd",
            "value": false
          }
        },
        "148ce130f14a4ea3a04e1134cc5827e8": {
          "model_module": "@jupyter-widgets/base",
          "model_name": "LayoutModel",
          "model_module_version": "1.2.0",
          "state": {
            "_model_module": "@jupyter-widgets/base",
            "_model_module_version": "1.2.0",
            "_model_name": "LayoutModel",
            "_view_count": null,
            "_view_module": "@jupyter-widgets/base",
            "_view_module_version": "1.2.0",
            "_view_name": "LayoutView",
            "align_content": null,
            "align_items": null,
            "align_self": null,
            "border": null,
            "bottom": null,
            "display": null,
            "flex": null,
            "flex_flow": null,
            "grid_area": null,
            "grid_auto_columns": null,
            "grid_auto_flow": null,
            "grid_auto_rows": null,
            "grid_column": null,
            "grid_gap": null,
            "grid_row": null,
            "grid_template_areas": null,
            "grid_template_columns": null,
            "grid_template_rows": null,
            "height": null,
            "justify_content": null,
            "justify_items": null,
            "left": null,
            "margin": null,
            "max_height": null,
            "max_width": null,
            "min_height": null,
            "min_width": null,
            "object_fit": null,
            "object_position": null,
            "order": null,
            "overflow": null,
            "overflow_x": null,
            "overflow_y": null,
            "padding": null,
            "right": null,
            "top": null,
            "visibility": null,
            "width": null
          }
        },
        "dae377999a4140bd982d6b88f2dd43cd": {
          "model_module": "@jupyter-widgets/controls",
          "model_name": "DescriptionStyleModel",
          "model_module_version": "1.5.0",
          "state": {
            "_model_module": "@jupyter-widgets/controls",
            "_model_module_version": "1.5.0",
            "_model_name": "DescriptionStyleModel",
            "_view_count": null,
            "_view_module": "@jupyter-widgets/base",
            "_view_module_version": "1.2.0",
            "_view_name": "StyleView",
            "description_width": ""
          }
        },
        "5432e3a8de7a4bbe98a377029e6b55b4": {
          "model_module": "@jupyter-widgets/controls",
          "model_name": "LabelModel",
          "model_module_version": "1.5.0",
          "state": {
            "_dom_classes": [],
            "_model_module": "@jupyter-widgets/controls",
            "_model_module_version": "1.5.0",
            "_model_name": "LabelModel",
            "_view_count": null,
            "_view_module": "@jupyter-widgets/controls",
            "_view_module_version": "1.5.0",
            "_view_name": "LabelView",
            "description": "",
            "description_tooltip": null,
            "layout": "IPY_MODEL_3de40965ae1f45299ac551a96665bd65",
            "placeholder": "​",
            "style": "IPY_MODEL_d0b4ef7725854d429fcb21ad2f861a23",
            "value": "Gamute Distortions"
          }
        },
        "3de40965ae1f45299ac551a96665bd65": {
          "model_module": "@jupyter-widgets/base",
          "model_name": "LayoutModel",
          "model_module_version": "1.2.0",
          "state": {
            "_model_module": "@jupyter-widgets/base",
            "_model_module_version": "1.2.0",
            "_model_name": "LayoutModel",
            "_view_count": null,
            "_view_module": "@jupyter-widgets/base",
            "_view_module_version": "1.2.0",
            "_view_name": "LayoutView",
            "align_content": null,
            "align_items": null,
            "align_self": null,
            "border": null,
            "bottom": null,
            "display": null,
            "flex": null,
            "flex_flow": null,
            "grid_area": null,
            "grid_auto_columns": null,
            "grid_auto_flow": null,
            "grid_auto_rows": null,
            "grid_column": null,
            "grid_gap": null,
            "grid_row": null,
            "grid_template_areas": null,
            "grid_template_columns": null,
            "grid_template_rows": null,
            "height": null,
            "justify_content": null,
            "justify_items": null,
            "left": null,
            "margin": null,
            "max_height": null,
            "max_width": null,
            "min_height": null,
            "min_width": null,
            "object_fit": null,
            "object_position": null,
            "order": null,
            "overflow": null,
            "overflow_x": null,
            "overflow_y": null,
            "padding": null,
            "right": null,
            "top": null,
            "visibility": null,
            "width": null
          }
        },
        "d0b4ef7725854d429fcb21ad2f861a23": {
          "model_module": "@jupyter-widgets/controls",
          "model_name": "DescriptionStyleModel",
          "model_module_version": "1.5.0",
          "state": {
            "_model_module": "@jupyter-widgets/controls",
            "_model_module_version": "1.5.0",
            "_model_name": "DescriptionStyleModel",
            "_view_count": null,
            "_view_module": "@jupyter-widgets/base",
            "_view_module_version": "1.2.0",
            "_view_name": "StyleView",
            "description_width": ""
          }
        },
        "022bd54c10384a359dfe7a4579ec7888": {
          "model_module": "@jupyter-widgets/controls",
          "model_name": "CheckboxModel",
          "model_module_version": "1.5.0",
          "state": {
            "_dom_classes": [],
            "_model_module": "@jupyter-widgets/controls",
            "_model_module_version": "1.5.0",
            "_model_name": "CheckboxModel",
            "_view_count": null,
            "_view_module": "@jupyter-widgets/controls",
            "_view_module_version": "1.5.0",
            "_view_name": "CheckboxView",
            "description": "generate_unsharp_mask",
            "description_tooltip": null,
            "disabled": false,
            "indent": true,
            "layout": "IPY_MODEL_8680f2c7a4db48c3ab1fc0c134829b9d",
            "style": "IPY_MODEL_0074e889d88d481eb99e97c4eafdaa71",
            "value": false
          }
        },
        "8680f2c7a4db48c3ab1fc0c134829b9d": {
          "model_module": "@jupyter-widgets/base",
          "model_name": "LayoutModel",
          "model_module_version": "1.2.0",
          "state": {
            "_model_module": "@jupyter-widgets/base",
            "_model_module_version": "1.2.0",
            "_model_name": "LayoutModel",
            "_view_count": null,
            "_view_module": "@jupyter-widgets/base",
            "_view_module_version": "1.2.0",
            "_view_name": "LayoutView",
            "align_content": null,
            "align_items": null,
            "align_self": null,
            "border": null,
            "bottom": null,
            "display": null,
            "flex": null,
            "flex_flow": null,
            "grid_area": null,
            "grid_auto_columns": null,
            "grid_auto_flow": null,
            "grid_auto_rows": null,
            "grid_column": null,
            "grid_gap": null,
            "grid_row": null,
            "grid_template_areas": null,
            "grid_template_columns": null,
            "grid_template_rows": null,
            "height": null,
            "justify_content": null,
            "justify_items": null,
            "left": null,
            "margin": null,
            "max_height": null,
            "max_width": null,
            "min_height": null,
            "min_width": null,
            "object_fit": null,
            "object_position": null,
            "order": null,
            "overflow": null,
            "overflow_x": null,
            "overflow_y": null,
            "padding": null,
            "right": null,
            "top": null,
            "visibility": null,
            "width": null
          }
        },
        "0074e889d88d481eb99e97c4eafdaa71": {
          "model_module": "@jupyter-widgets/controls",
          "model_name": "DescriptionStyleModel",
          "model_module_version": "1.5.0",
          "state": {
            "_model_module": "@jupyter-widgets/controls",
            "_model_module_version": "1.5.0",
            "_model_name": "DescriptionStyleModel",
            "_view_count": null,
            "_view_module": "@jupyter-widgets/base",
            "_view_module_version": "1.2.0",
            "_view_name": "StyleView",
            "description_width": ""
          }
        },
        "2630c0f7245d4ede9f4473cc6ce62606": {
          "model_module": "@jupyter-widgets/controls",
          "model_name": "CheckboxModel",
          "model_module_version": "1.5.0",
          "state": {
            "_dom_classes": [],
            "_model_module": "@jupyter-widgets/controls",
            "_model_module_version": "1.5.0",
            "_model_name": "CheckboxModel",
            "_view_count": null,
            "_view_module": "@jupyter-widgets/controls",
            "_view_module_version": "1.5.0",
            "_view_name": "CheckboxView",
            "description": "generate_mult_contrast",
            "description_tooltip": null,
            "disabled": false,
            "indent": true,
            "layout": "IPY_MODEL_06ec8575bc5a4eaa875c63bb69b59702",
            "style": "IPY_MODEL_c90ca4fc8c9c4ce5a8ea49b576ec444f",
            "value": false
          }
        },
        "06ec8575bc5a4eaa875c63bb69b59702": {
          "model_module": "@jupyter-widgets/base",
          "model_name": "LayoutModel",
          "model_module_version": "1.2.0",
          "state": {
            "_model_module": "@jupyter-widgets/base",
            "_model_module_version": "1.2.0",
            "_model_name": "LayoutModel",
            "_view_count": null,
            "_view_module": "@jupyter-widgets/base",
            "_view_module_version": "1.2.0",
            "_view_name": "LayoutView",
            "align_content": null,
            "align_items": null,
            "align_self": null,
            "border": null,
            "bottom": null,
            "display": null,
            "flex": null,
            "flex_flow": null,
            "grid_area": null,
            "grid_auto_columns": null,
            "grid_auto_flow": null,
            "grid_auto_rows": null,
            "grid_column": null,
            "grid_gap": null,
            "grid_row": null,
            "grid_template_areas": null,
            "grid_template_columns": null,
            "grid_template_rows": null,
            "height": null,
            "justify_content": null,
            "justify_items": null,
            "left": null,
            "margin": null,
            "max_height": null,
            "max_width": null,
            "min_height": null,
            "min_width": null,
            "object_fit": null,
            "object_position": null,
            "order": null,
            "overflow": null,
            "overflow_x": null,
            "overflow_y": null,
            "padding": null,
            "right": null,
            "top": null,
            "visibility": null,
            "width": null
          }
        },
        "c90ca4fc8c9c4ce5a8ea49b576ec444f": {
          "model_module": "@jupyter-widgets/controls",
          "model_name": "DescriptionStyleModel",
          "model_module_version": "1.5.0",
          "state": {
            "_model_module": "@jupyter-widgets/controls",
            "_model_module_version": "1.5.0",
            "_model_name": "DescriptionStyleModel",
            "_view_count": null,
            "_view_module": "@jupyter-widgets/base",
            "_view_module_version": "1.2.0",
            "_view_name": "StyleView",
            "description_width": ""
          }
        },
        "1942f5fa542c48c9ba5a254e06b90a24": {
          "model_module": "@jupyter-widgets/controls",
          "model_name": "LabelModel",
          "model_module_version": "1.5.0",
          "state": {
            "_dom_classes": [],
            "_model_module": "@jupyter-widgets/controls",
            "_model_module_version": "1.5.0",
            "_model_name": "LabelModel",
            "_view_count": null,
            "_view_module": "@jupyter-widgets/controls",
            "_view_module_version": "1.5.0",
            "_view_name": "LabelView",
            "description": "",
            "description_tooltip": null,
            "layout": "IPY_MODEL_abcfdba446fa439ba9c2b765b4085db3",
            "placeholder": "​",
            "style": "IPY_MODEL_68762a3590904cadb322c5fa5358f427",
            "value": "Brigthness Distortions"
          }
        },
        "abcfdba446fa439ba9c2b765b4085db3": {
          "model_module": "@jupyter-widgets/base",
          "model_name": "LayoutModel",
          "model_module_version": "1.2.0",
          "state": {
            "_model_module": "@jupyter-widgets/base",
            "_model_module_version": "1.2.0",
            "_model_name": "LayoutModel",
            "_view_count": null,
            "_view_module": "@jupyter-widgets/base",
            "_view_module_version": "1.2.0",
            "_view_name": "LayoutView",
            "align_content": null,
            "align_items": null,
            "align_self": null,
            "border": null,
            "bottom": null,
            "display": null,
            "flex": null,
            "flex_flow": null,
            "grid_area": null,
            "grid_auto_columns": null,
            "grid_auto_flow": null,
            "grid_auto_rows": null,
            "grid_column": null,
            "grid_gap": null,
            "grid_row": null,
            "grid_template_areas": null,
            "grid_template_columns": null,
            "grid_template_rows": null,
            "height": null,
            "justify_content": null,
            "justify_items": null,
            "left": null,
            "margin": null,
            "max_height": null,
            "max_width": null,
            "min_height": null,
            "min_width": null,
            "object_fit": null,
            "object_position": null,
            "order": null,
            "overflow": null,
            "overflow_x": null,
            "overflow_y": null,
            "padding": null,
            "right": null,
            "top": null,
            "visibility": null,
            "width": null
          }
        },
        "68762a3590904cadb322c5fa5358f427": {
          "model_module": "@jupyter-widgets/controls",
          "model_name": "DescriptionStyleModel",
          "model_module_version": "1.5.0",
          "state": {
            "_model_module": "@jupyter-widgets/controls",
            "_model_module_version": "1.5.0",
            "_model_name": "DescriptionStyleModel",
            "_view_count": null,
            "_view_module": "@jupyter-widgets/base",
            "_view_module_version": "1.2.0",
            "_view_name": "StyleView",
            "description_width": ""
          }
        },
        "418c011b611241268f59c69f5e5157c2": {
          "model_module": "@jupyter-widgets/controls",
          "model_name": "CheckboxModel",
          "model_module_version": "1.5.0",
          "state": {
            "_dom_classes": [],
            "_model_module": "@jupyter-widgets/controls",
            "_model_module_version": "1.5.0",
            "_model_name": "CheckboxModel",
            "_view_count": null,
            "_view_module": "@jupyter-widgets/controls",
            "_view_module_version": "1.5.0",
            "_view_name": "CheckboxView",
            "description": "generate_global_brigthness",
            "description_tooltip": null,
            "disabled": false,
            "indent": true,
            "layout": "IPY_MODEL_d31d684133f1408ca5be09d33eddd609",
            "style": "IPY_MODEL_011b826228514e28833d30a220a8ab94",
            "value": false
          }
        },
        "d31d684133f1408ca5be09d33eddd609": {
          "model_module": "@jupyter-widgets/base",
          "model_name": "LayoutModel",
          "model_module_version": "1.2.0",
          "state": {
            "_model_module": "@jupyter-widgets/base",
            "_model_module_version": "1.2.0",
            "_model_name": "LayoutModel",
            "_view_count": null,
            "_view_module": "@jupyter-widgets/base",
            "_view_module_version": "1.2.0",
            "_view_name": "LayoutView",
            "align_content": null,
            "align_items": null,
            "align_self": null,
            "border": null,
            "bottom": null,
            "display": null,
            "flex": null,
            "flex_flow": null,
            "grid_area": null,
            "grid_auto_columns": null,
            "grid_auto_flow": null,
            "grid_auto_rows": null,
            "grid_column": null,
            "grid_gap": null,
            "grid_row": null,
            "grid_template_areas": null,
            "grid_template_columns": null,
            "grid_template_rows": null,
            "height": null,
            "justify_content": null,
            "justify_items": null,
            "left": null,
            "margin": null,
            "max_height": null,
            "max_width": null,
            "min_height": null,
            "min_width": null,
            "object_fit": null,
            "object_position": null,
            "order": null,
            "overflow": null,
            "overflow_x": null,
            "overflow_y": null,
            "padding": null,
            "right": null,
            "top": null,
            "visibility": null,
            "width": null
          }
        },
        "011b826228514e28833d30a220a8ab94": {
          "model_module": "@jupyter-widgets/controls",
          "model_name": "DescriptionStyleModel",
          "model_module_version": "1.5.0",
          "state": {
            "_model_module": "@jupyter-widgets/controls",
            "_model_module_version": "1.5.0",
            "_model_name": "DescriptionStyleModel",
            "_view_count": null,
            "_view_module": "@jupyter-widgets/base",
            "_view_module_version": "1.2.0",
            "_view_name": "StyleView",
            "description_width": ""
          }
        },
        "9389d9fb8ae24f49b1af40e9dbae12ca": {
          "model_module": "@jupyter-widgets/controls",
          "model_name": "CheckboxModel",
          "model_module_version": "1.5.0",
          "state": {
            "_dom_classes": [],
            "_model_module": "@jupyter-widgets/controls",
            "_model_module_version": "1.5.0",
            "_model_name": "CheckboxModel",
            "_view_count": null,
            "_view_module": "@jupyter-widgets/controls",
            "_view_module_version": "1.5.0",
            "_view_name": "CheckboxView",
            "description": "generate_gamma_correction",
            "description_tooltip": null,
            "disabled": false,
            "indent": true,
            "layout": "IPY_MODEL_81cd2c46bb6d4144a89ffbea35872f7f",
            "style": "IPY_MODEL_5f311064339749e9a3a619baa5fb9d42",
            "value": false
          }
        },
        "81cd2c46bb6d4144a89ffbea35872f7f": {
          "model_module": "@jupyter-widgets/base",
          "model_name": "LayoutModel",
          "model_module_version": "1.2.0",
          "state": {
            "_model_module": "@jupyter-widgets/base",
            "_model_module_version": "1.2.0",
            "_model_name": "LayoutModel",
            "_view_count": null,
            "_view_module": "@jupyter-widgets/base",
            "_view_module_version": "1.2.0",
            "_view_name": "LayoutView",
            "align_content": null,
            "align_items": null,
            "align_self": null,
            "border": null,
            "bottom": null,
            "display": null,
            "flex": null,
            "flex_flow": null,
            "grid_area": null,
            "grid_auto_columns": null,
            "grid_auto_flow": null,
            "grid_auto_rows": null,
            "grid_column": null,
            "grid_gap": null,
            "grid_row": null,
            "grid_template_areas": null,
            "grid_template_columns": null,
            "grid_template_rows": null,
            "height": null,
            "justify_content": null,
            "justify_items": null,
            "left": null,
            "margin": null,
            "max_height": null,
            "max_width": null,
            "min_height": null,
            "min_width": null,
            "object_fit": null,
            "object_position": null,
            "order": null,
            "overflow": null,
            "overflow_x": null,
            "overflow_y": null,
            "padding": null,
            "right": null,
            "top": null,
            "visibility": null,
            "width": null
          }
        },
        "5f311064339749e9a3a619baa5fb9d42": {
          "model_module": "@jupyter-widgets/controls",
          "model_name": "DescriptionStyleModel",
          "model_module_version": "1.5.0",
          "state": {
            "_model_module": "@jupyter-widgets/controls",
            "_model_module_version": "1.5.0",
            "_model_name": "DescriptionStyleModel",
            "_view_count": null,
            "_view_module": "@jupyter-widgets/base",
            "_view_module_version": "1.2.0",
            "_view_name": "StyleView",
            "description_width": ""
          }
        },
        "48bfe1b60e9f451d8d0f16bd1f9c877e": {
          "model_module": "@jupyter-widgets/controls",
          "model_name": "CheckboxModel",
          "model_module_version": "1.5.0",
          "state": {
            "_dom_classes": [],
            "_model_module": "@jupyter-widgets/controls",
            "_model_module_version": "1.5.0",
            "_model_name": "CheckboxModel",
            "_view_count": null,
            "_view_module": "@jupyter-widgets/controls",
            "_view_module_version": "1.5.0",
            "_view_name": "CheckboxView",
            "description": "generate_random_local_brigthness",
            "description_tooltip": null,
            "disabled": false,
            "indent": true,
            "layout": "IPY_MODEL_8c108598a22349a5aee9a0f6b8dd28de",
            "style": "IPY_MODEL_b99557f629fd4a1c8ac589f0d796fb86",
            "value": false
          }
        },
        "8c108598a22349a5aee9a0f6b8dd28de": {
          "model_module": "@jupyter-widgets/base",
          "model_name": "LayoutModel",
          "model_module_version": "1.2.0",
          "state": {
            "_model_module": "@jupyter-widgets/base",
            "_model_module_version": "1.2.0",
            "_model_name": "LayoutModel",
            "_view_count": null,
            "_view_module": "@jupyter-widgets/base",
            "_view_module_version": "1.2.0",
            "_view_name": "LayoutView",
            "align_content": null,
            "align_items": null,
            "align_self": null,
            "border": null,
            "bottom": null,
            "display": null,
            "flex": null,
            "flex_flow": null,
            "grid_area": null,
            "grid_auto_columns": null,
            "grid_auto_flow": null,
            "grid_auto_rows": null,
            "grid_column": null,
            "grid_gap": null,
            "grid_row": null,
            "grid_template_areas": null,
            "grid_template_columns": null,
            "grid_template_rows": null,
            "height": null,
            "justify_content": null,
            "justify_items": null,
            "left": null,
            "margin": null,
            "max_height": null,
            "max_width": null,
            "min_height": null,
            "min_width": null,
            "object_fit": null,
            "object_position": null,
            "order": null,
            "overflow": null,
            "overflow_x": null,
            "overflow_y": null,
            "padding": null,
            "right": null,
            "top": null,
            "visibility": null,
            "width": null
          }
        },
        "b99557f629fd4a1c8ac589f0d796fb86": {
          "model_module": "@jupyter-widgets/controls",
          "model_name": "DescriptionStyleModel",
          "model_module_version": "1.5.0",
          "state": {
            "_model_module": "@jupyter-widgets/controls",
            "_model_module_version": "1.5.0",
            "_model_name": "DescriptionStyleModel",
            "_view_count": null,
            "_view_module": "@jupyter-widgets/base",
            "_view_module_version": "1.2.0",
            "_view_name": "StyleView",
            "description_width": ""
          }
        },
        "1e4b39bd22a849e288c83b4ede939502": {
          "model_module": "@jupyter-widgets/controls",
          "model_name": "LabelModel",
          "model_module_version": "1.5.0",
          "state": {
            "_dom_classes": [],
            "_model_module": "@jupyter-widgets/controls",
            "_model_module_version": "1.5.0",
            "_model_name": "LabelModel",
            "_view_count": null,
            "_view_module": "@jupyter-widgets/controls",
            "_view_module_version": "1.5.0",
            "_view_name": "LabelView",
            "description": "",
            "description_tooltip": null,
            "layout": "IPY_MODEL_43fb303e6a1c4e809c62b06832e1e9c8",
            "placeholder": "​",
            "style": "IPY_MODEL_2e99e4b5a0914a5193dcb2b3a9ddd960",
            "value": "How many distortions compositions?"
          }
        },
        "43fb303e6a1c4e809c62b06832e1e9c8": {
          "model_module": "@jupyter-widgets/base",
          "model_name": "LayoutModel",
          "model_module_version": "1.2.0",
          "state": {
            "_model_module": "@jupyter-widgets/base",
            "_model_module_version": "1.2.0",
            "_model_name": "LayoutModel",
            "_view_count": null,
            "_view_module": "@jupyter-widgets/base",
            "_view_module_version": "1.2.0",
            "_view_name": "LayoutView",
            "align_content": null,
            "align_items": null,
            "align_self": null,
            "border": null,
            "bottom": null,
            "display": null,
            "flex": null,
            "flex_flow": null,
            "grid_area": null,
            "grid_auto_columns": null,
            "grid_auto_flow": null,
            "grid_auto_rows": null,
            "grid_column": null,
            "grid_gap": null,
            "grid_row": null,
            "grid_template_areas": null,
            "grid_template_columns": null,
            "grid_template_rows": null,
            "height": null,
            "justify_content": null,
            "justify_items": null,
            "left": null,
            "margin": null,
            "max_height": null,
            "max_width": null,
            "min_height": null,
            "min_width": null,
            "object_fit": null,
            "object_position": null,
            "order": null,
            "overflow": null,
            "overflow_x": null,
            "overflow_y": null,
            "padding": null,
            "right": null,
            "top": null,
            "visibility": null,
            "width": null
          }
        },
        "2e99e4b5a0914a5193dcb2b3a9ddd960": {
          "model_module": "@jupyter-widgets/controls",
          "model_name": "DescriptionStyleModel",
          "model_module_version": "1.5.0",
          "state": {
            "_model_module": "@jupyter-widgets/controls",
            "_model_module_version": "1.5.0",
            "_model_name": "DescriptionStyleModel",
            "_view_count": null,
            "_view_module": "@jupyter-widgets/base",
            "_view_module_version": "1.2.0",
            "_view_name": "StyleView",
            "description_width": ""
          }
        },
        "983253e276c7448bb599e38a380ca299": {
          "model_module": "@jupyter-widgets/controls",
          "model_name": "IntSliderModel",
          "model_module_version": "1.5.0",
          "state": {
            "_dom_classes": [],
            "_model_module": "@jupyter-widgets/controls",
            "_model_module_version": "1.5.0",
            "_model_name": "IntSliderModel",
            "_view_count": null,
            "_view_module": "@jupyter-widgets/controls",
            "_view_module_version": "1.5.0",
            "_view_name": "IntSliderView",
            "continuous_update": false,
            "description": "N",
            "description_tooltip": null,
            "disabled": false,
            "layout": "IPY_MODEL_d265a1fad4a94b5a909b9321f534b510",
            "max": 3,
            "min": 1,
            "orientation": "horizontal",
            "readout": true,
            "readout_format": "d",
            "step": 1,
            "style": "IPY_MODEL_3966a4146a5740168a1f37e7f4208c76",
            "value": 1
          }
        },
        "d265a1fad4a94b5a909b9321f534b510": {
          "model_module": "@jupyter-widgets/base",
          "model_name": "LayoutModel",
          "model_module_version": "1.2.0",
          "state": {
            "_model_module": "@jupyter-widgets/base",
            "_model_module_version": "1.2.0",
            "_model_name": "LayoutModel",
            "_view_count": null,
            "_view_module": "@jupyter-widgets/base",
            "_view_module_version": "1.2.0",
            "_view_name": "LayoutView",
            "align_content": null,
            "align_items": null,
            "align_self": null,
            "border": null,
            "bottom": null,
            "display": null,
            "flex": null,
            "flex_flow": null,
            "grid_area": null,
            "grid_auto_columns": null,
            "grid_auto_flow": null,
            "grid_auto_rows": null,
            "grid_column": null,
            "grid_gap": null,
            "grid_row": null,
            "grid_template_areas": null,
            "grid_template_columns": null,
            "grid_template_rows": null,
            "height": null,
            "justify_content": null,
            "justify_items": null,
            "left": null,
            "margin": null,
            "max_height": null,
            "max_width": null,
            "min_height": null,
            "min_width": null,
            "object_fit": null,
            "object_position": null,
            "order": null,
            "overflow": null,
            "overflow_x": null,
            "overflow_y": null,
            "padding": null,
            "right": null,
            "top": null,
            "visibility": null,
            "width": null
          }
        },
        "3966a4146a5740168a1f37e7f4208c76": {
          "model_module": "@jupyter-widgets/controls",
          "model_name": "SliderStyleModel",
          "model_module_version": "1.5.0",
          "state": {
            "_model_module": "@jupyter-widgets/controls",
            "_model_module_version": "1.5.0",
            "_model_name": "SliderStyleModel",
            "_view_count": null,
            "_view_module": "@jupyter-widgets/base",
            "_view_module_version": "1.2.0",
            "_view_name": "StyleView",
            "description_width": "",
            "handle_color": null
          }
        },
        "4ba51a84b7814390a93ef028f970eb95": {
          "model_module": "@jupyter-widgets/controls",
          "model_name": "LabelModel",
          "model_module_version": "1.5.0",
          "state": {
            "_dom_classes": [],
            "_model_module": "@jupyter-widgets/controls",
            "_model_module_version": "1.5.0",
            "_model_name": "LabelModel",
            "_view_count": null,
            "_view_module": "@jupyter-widgets/controls",
            "_view_module_version": "1.5.0",
            "_view_name": "LabelView",
            "description": "",
            "description_tooltip": null,
            "layout": "IPY_MODEL_c9af93bcc25543faaa36359b99985398",
            "placeholder": "​",
            "style": "IPY_MODEL_df3c6371229e421fab82a22d5095a18c",
            "value": "Gaussian Blur"
          }
        },
        "c9af93bcc25543faaa36359b99985398": {
          "model_module": "@jupyter-widgets/base",
          "model_name": "LayoutModel",
          "model_module_version": "1.2.0",
          "state": {
            "_model_module": "@jupyter-widgets/base",
            "_model_module_version": "1.2.0",
            "_model_name": "LayoutModel",
            "_view_count": null,
            "_view_module": "@jupyter-widgets/base",
            "_view_module_version": "1.2.0",
            "_view_name": "LayoutView",
            "align_content": null,
            "align_items": "center",
            "align_self": null,
            "border": "solid 1px gray",
            "bottom": null,
            "display": "flex",
            "flex": null,
            "flex_flow": null,
            "grid_area": null,
            "grid_auto_columns": null,
            "grid_auto_flow": null,
            "grid_auto_rows": null,
            "grid_column": null,
            "grid_gap": null,
            "grid_row": null,
            "grid_template_areas": null,
            "grid_template_columns": null,
            "grid_template_rows": null,
            "height": "30px",
            "justify_content": "center",
            "justify_items": null,
            "left": null,
            "margin": "5px 0",
            "max_height": null,
            "max_width": null,
            "min_height": null,
            "min_width": null,
            "object_fit": null,
            "object_position": null,
            "order": null,
            "overflow": null,
            "overflow_x": null,
            "overflow_y": null,
            "padding": "5px",
            "right": null,
            "top": null,
            "visibility": null,
            "width": "400px"
          }
        },
        "df3c6371229e421fab82a22d5095a18c": {
          "model_module": "@jupyter-widgets/controls",
          "model_name": "DescriptionStyleModel",
          "model_module_version": "1.5.0",
          "state": {
            "_model_module": "@jupyter-widgets/controls",
            "_model_module_version": "1.5.0",
            "_model_name": "DescriptionStyleModel",
            "_view_count": null,
            "_view_module": "@jupyter-widgets/base",
            "_view_module_version": "1.2.0",
            "_view_name": "StyleView",
            "description_width": ""
          }
        },
        "bb6f4ec63c3d47918aace52358a3116d": {
          "model_module": "@jupyter-widgets/controls",
          "model_name": "FloatSliderModel",
          "model_module_version": "1.5.0",
          "state": {
            "_dom_classes": [],
            "_model_module": "@jupyter-widgets/controls",
            "_model_module_version": "1.5.0",
            "_model_name": "FloatSliderModel",
            "_view_count": null,
            "_view_module": "@jupyter-widgets/controls",
            "_view_module_version": "1.5.0",
            "_view_name": "FloatSliderView",
            "continuous_update": true,
            "description": "gaussian_sigma",
            "description_tooltip": null,
            "disabled": false,
            "layout": "IPY_MODEL_8a2f3e4ff75548d9bc94e5944f3286c5",
            "max": 20,
            "min": 0,
            "orientation": "horizontal",
            "readout": true,
            "readout_format": ".2f",
            "step": 0.1,
            "style": "IPY_MODEL_ef513bb263df48e0b3107641cebd697e",
            "value": 20
          }
        },
        "8a2f3e4ff75548d9bc94e5944f3286c5": {
          "model_module": "@jupyter-widgets/base",
          "model_name": "LayoutModel",
          "model_module_version": "1.2.0",
          "state": {
            "_model_module": "@jupyter-widgets/base",
            "_model_module_version": "1.2.0",
            "_model_name": "LayoutModel",
            "_view_count": null,
            "_view_module": "@jupyter-widgets/base",
            "_view_module_version": "1.2.0",
            "_view_name": "LayoutView",
            "align_content": null,
            "align_items": null,
            "align_self": null,
            "border": null,
            "bottom": null,
            "display": null,
            "flex": null,
            "flex_flow": null,
            "grid_area": null,
            "grid_auto_columns": null,
            "grid_auto_flow": null,
            "grid_auto_rows": null,
            "grid_column": null,
            "grid_gap": null,
            "grid_row": null,
            "grid_template_areas": null,
            "grid_template_columns": null,
            "grid_template_rows": null,
            "height": null,
            "justify_content": null,
            "justify_items": null,
            "left": null,
            "margin": null,
            "max_height": null,
            "max_width": null,
            "min_height": null,
            "min_width": null,
            "object_fit": null,
            "object_position": null,
            "order": null,
            "overflow": null,
            "overflow_x": null,
            "overflow_y": null,
            "padding": null,
            "right": null,
            "top": null,
            "visibility": null,
            "width": null
          }
        },
        "ef513bb263df48e0b3107641cebd697e": {
          "model_module": "@jupyter-widgets/controls",
          "model_name": "SliderStyleModel",
          "model_module_version": "1.5.0",
          "state": {
            "_model_module": "@jupyter-widgets/controls",
            "_model_module_version": "1.5.0",
            "_model_name": "SliderStyleModel",
            "_view_count": null,
            "_view_module": "@jupyter-widgets/base",
            "_view_module_version": "1.2.0",
            "_view_name": "StyleView",
            "description_width": "",
            "handle_color": null
          }
        },
        "d7c95c4be7844d189cf3362b87b4fc90": {
          "model_module": "@jupyter-widgets/controls",
          "model_name": "IntSliderModel",
          "model_module_version": "1.5.0",
          "state": {
            "_dom_classes": [],
            "_model_module": "@jupyter-widgets/controls",
            "_model_module_version": "1.5.0",
            "_model_name": "IntSliderModel",
            "_view_count": null,
            "_view_module": "@jupyter-widgets/controls",
            "_view_module_version": "1.5.0",
            "_view_name": "IntSliderView",
            "continuous_update": true,
            "description": "gaussian_kernel",
            "description_tooltip": null,
            "disabled": false,
            "layout": "IPY_MODEL_b86a0b5f085c4ca4966237527aee95e0",
            "max": 31,
            "min": 1,
            "orientation": "horizontal",
            "readout": true,
            "readout_format": "d",
            "step": 2,
            "style": "IPY_MODEL_ef79e19c09bc4bc0b4cc716ef1267d18",
            "value": 15
          }
        },
        "b86a0b5f085c4ca4966237527aee95e0": {
          "model_module": "@jupyter-widgets/base",
          "model_name": "LayoutModel",
          "model_module_version": "1.2.0",
          "state": {
            "_model_module": "@jupyter-widgets/base",
            "_model_module_version": "1.2.0",
            "_model_name": "LayoutModel",
            "_view_count": null,
            "_view_module": "@jupyter-widgets/base",
            "_view_module_version": "1.2.0",
            "_view_name": "LayoutView",
            "align_content": null,
            "align_items": null,
            "align_self": null,
            "border": null,
            "bottom": null,
            "display": null,
            "flex": null,
            "flex_flow": null,
            "grid_area": null,
            "grid_auto_columns": null,
            "grid_auto_flow": null,
            "grid_auto_rows": null,
            "grid_column": null,
            "grid_gap": null,
            "grid_row": null,
            "grid_template_areas": null,
            "grid_template_columns": null,
            "grid_template_rows": null,
            "height": null,
            "justify_content": null,
            "justify_items": null,
            "left": null,
            "margin": null,
            "max_height": null,
            "max_width": null,
            "min_height": null,
            "min_width": null,
            "object_fit": null,
            "object_position": null,
            "order": null,
            "overflow": null,
            "overflow_x": null,
            "overflow_y": null,
            "padding": null,
            "right": null,
            "top": null,
            "visibility": null,
            "width": null
          }
        },
        "ef79e19c09bc4bc0b4cc716ef1267d18": {
          "model_module": "@jupyter-widgets/controls",
          "model_name": "SliderStyleModel",
          "model_module_version": "1.5.0",
          "state": {
            "_model_module": "@jupyter-widgets/controls",
            "_model_module_version": "1.5.0",
            "_model_name": "SliderStyleModel",
            "_view_count": null,
            "_view_module": "@jupyter-widgets/base",
            "_view_module_version": "1.2.0",
            "_view_name": "StyleView",
            "description_width": "",
            "handle_color": null
          }
        },
        "bcf232e2929b4a2db7d957653977b344": {
          "model_module": "@jupyter-widgets/controls",
          "model_name": "LabelModel",
          "model_module_version": "1.5.0",
          "state": {
            "_dom_classes": [],
            "_model_module": "@jupyter-widgets/controls",
            "_model_module_version": "1.5.0",
            "_model_name": "LabelModel",
            "_view_count": null,
            "_view_module": "@jupyter-widgets/controls",
            "_view_module_version": "1.5.0",
            "_view_name": "LabelView",
            "description": "",
            "description_tooltip": null,
            "layout": "IPY_MODEL_c9af93bcc25543faaa36359b99985398",
            "placeholder": "​",
            "style": "IPY_MODEL_479b807ad1d342ca8738b0c06fccb36f",
            "value": "Motion Blur"
          }
        },
        "479b807ad1d342ca8738b0c06fccb36f": {
          "model_module": "@jupyter-widgets/controls",
          "model_name": "DescriptionStyleModel",
          "model_module_version": "1.5.0",
          "state": {
            "_model_module": "@jupyter-widgets/controls",
            "_model_module_version": "1.5.0",
            "_model_name": "DescriptionStyleModel",
            "_view_count": null,
            "_view_module": "@jupyter-widgets/base",
            "_view_module_version": "1.2.0",
            "_view_name": "StyleView",
            "description_width": ""
          }
        },
        "628cba2289dc4c4a94b5e67f10cf5173": {
          "model_module": "@jupyter-widgets/controls",
          "model_name": "IntSliderModel",
          "model_module_version": "1.5.0",
          "state": {
            "_dom_classes": [],
            "_model_module": "@jupyter-widgets/controls",
            "_model_module_version": "1.5.0",
            "_model_name": "IntSliderModel",
            "_view_count": null,
            "_view_module": "@jupyter-widgets/controls",
            "_view_module_version": "1.5.0",
            "_view_name": "IntSliderView",
            "continuous_update": true,
            "description": "motion_kernel",
            "description_tooltip": null,
            "disabled": false,
            "layout": "IPY_MODEL_72d8ff8f14dc4ef1b0f4f7fd97d6506f",
            "max": 30,
            "min": 2,
            "orientation": "horizontal",
            "readout": true,
            "readout_format": "d",
            "step": 1,
            "style": "IPY_MODEL_2a76f00cf4f940aa8ddd90f1cfcad234",
            "value": 15
          }
        },
        "72d8ff8f14dc4ef1b0f4f7fd97d6506f": {
          "model_module": "@jupyter-widgets/base",
          "model_name": "LayoutModel",
          "model_module_version": "1.2.0",
          "state": {
            "_model_module": "@jupyter-widgets/base",
            "_model_module_version": "1.2.0",
            "_model_name": "LayoutModel",
            "_view_count": null,
            "_view_module": "@jupyter-widgets/base",
            "_view_module_version": "1.2.0",
            "_view_name": "LayoutView",
            "align_content": null,
            "align_items": null,
            "align_self": null,
            "border": null,
            "bottom": null,
            "display": null,
            "flex": null,
            "flex_flow": null,
            "grid_area": null,
            "grid_auto_columns": null,
            "grid_auto_flow": null,
            "grid_auto_rows": null,
            "grid_column": null,
            "grid_gap": null,
            "grid_row": null,
            "grid_template_areas": null,
            "grid_template_columns": null,
            "grid_template_rows": null,
            "height": null,
            "justify_content": null,
            "justify_items": null,
            "left": null,
            "margin": null,
            "max_height": null,
            "max_width": null,
            "min_height": null,
            "min_width": null,
            "object_fit": null,
            "object_position": null,
            "order": null,
            "overflow": null,
            "overflow_x": null,
            "overflow_y": null,
            "padding": null,
            "right": null,
            "top": null,
            "visibility": null,
            "width": null
          }
        },
        "2a76f00cf4f940aa8ddd90f1cfcad234": {
          "model_module": "@jupyter-widgets/controls",
          "model_name": "SliderStyleModel",
          "model_module_version": "1.5.0",
          "state": {
            "_model_module": "@jupyter-widgets/controls",
            "_model_module_version": "1.5.0",
            "_model_name": "SliderStyleModel",
            "_view_count": null,
            "_view_module": "@jupyter-widgets/base",
            "_view_module_version": "1.2.0",
            "_view_name": "StyleView",
            "description_width": "",
            "handle_color": null
          }
        },
        "ecbbe0ce89a84a46b31f7f285b409550": {
          "model_module": "@jupyter-widgets/controls",
          "model_name": "LabelModel",
          "model_module_version": "1.5.0",
          "state": {
            "_dom_classes": [],
            "_model_module": "@jupyter-widgets/controls",
            "_model_module_version": "1.5.0",
            "_model_name": "LabelModel",
            "_view_count": null,
            "_view_module": "@jupyter-widgets/controls",
            "_view_module_version": "1.5.0",
            "_view_name": "LabelView",
            "description": "",
            "description_tooltip": null,
            "layout": "IPY_MODEL_c9af93bcc25543faaa36359b99985398",
            "placeholder": "​",
            "style": "IPY_MODEL_009509fcdd91484caeaf4a6243ca1c07",
            "value": "Gaussian Noise"
          }
        },
        "009509fcdd91484caeaf4a6243ca1c07": {
          "model_module": "@jupyter-widgets/controls",
          "model_name": "DescriptionStyleModel",
          "model_module_version": "1.5.0",
          "state": {
            "_model_module": "@jupyter-widgets/controls",
            "_model_module_version": "1.5.0",
            "_model_name": "DescriptionStyleModel",
            "_view_count": null,
            "_view_module": "@jupyter-widgets/base",
            "_view_module_version": "1.2.0",
            "_view_name": "StyleView",
            "description_width": ""
          }
        },
        "ad6bedf65699471cb047fdffb980c93d": {
          "model_module": "@jupyter-widgets/controls",
          "model_name": "FloatSliderModel",
          "model_module_version": "1.5.0",
          "state": {
            "_dom_classes": [],
            "_model_module": "@jupyter-widgets/controls",
            "_model_module_version": "1.5.0",
            "_model_name": "FloatSliderModel",
            "_view_count": null,
            "_view_module": "@jupyter-widgets/controls",
            "_view_module_version": "1.5.0",
            "_view_name": "FloatSliderView",
            "continuous_update": true,
            "description": "Mean",
            "description_tooltip": null,
            "disabled": false,
            "layout": "IPY_MODEL_5fad51bfdb69435598546e497eb6833e",
            "max": 80,
            "min": -80,
            "orientation": "horizontal",
            "readout": true,
            "readout_format": ".2f",
            "step": 1,
            "style": "IPY_MODEL_39cbea6148004b4890604e3de68b50c9",
            "value": 0
          }
        },
        "5fad51bfdb69435598546e497eb6833e": {
          "model_module": "@jupyter-widgets/base",
          "model_name": "LayoutModel",
          "model_module_version": "1.2.0",
          "state": {
            "_model_module": "@jupyter-widgets/base",
            "_model_module_version": "1.2.0",
            "_model_name": "LayoutModel",
            "_view_count": null,
            "_view_module": "@jupyter-widgets/base",
            "_view_module_version": "1.2.0",
            "_view_name": "LayoutView",
            "align_content": null,
            "align_items": null,
            "align_self": null,
            "border": null,
            "bottom": null,
            "display": null,
            "flex": null,
            "flex_flow": null,
            "grid_area": null,
            "grid_auto_columns": null,
            "grid_auto_flow": null,
            "grid_auto_rows": null,
            "grid_column": null,
            "grid_gap": null,
            "grid_row": null,
            "grid_template_areas": null,
            "grid_template_columns": null,
            "grid_template_rows": null,
            "height": null,
            "justify_content": null,
            "justify_items": null,
            "left": null,
            "margin": null,
            "max_height": null,
            "max_width": null,
            "min_height": null,
            "min_width": null,
            "object_fit": null,
            "object_position": null,
            "order": null,
            "overflow": null,
            "overflow_x": null,
            "overflow_y": null,
            "padding": null,
            "right": null,
            "top": null,
            "visibility": null,
            "width": null
          }
        },
        "39cbea6148004b4890604e3de68b50c9": {
          "model_module": "@jupyter-widgets/controls",
          "model_name": "SliderStyleModel",
          "model_module_version": "1.5.0",
          "state": {
            "_model_module": "@jupyter-widgets/controls",
            "_model_module_version": "1.5.0",
            "_model_name": "SliderStyleModel",
            "_view_count": null,
            "_view_module": "@jupyter-widgets/base",
            "_view_module_version": "1.2.0",
            "_view_name": "StyleView",
            "description_width": "",
            "handle_color": null
          }
        },
        "2c1c61b2c9984396ab0564774bf7ff7c": {
          "model_module": "@jupyter-widgets/controls",
          "model_name": "FloatSliderModel",
          "model_module_version": "1.5.0",
          "state": {
            "_dom_classes": [],
            "_model_module": "@jupyter-widgets/controls",
            "_model_module_version": "1.5.0",
            "_model_name": "FloatSliderModel",
            "_view_count": null,
            "_view_module": "@jupyter-widgets/controls",
            "_view_module_version": "1.5.0",
            "_view_name": "FloatSliderView",
            "continuous_update": true,
            "description": "Variance",
            "description_tooltip": null,
            "disabled": false,
            "layout": "IPY_MODEL_cb92bb1c5e694684955d6d4cb2d0a95b",
            "max": 3600,
            "min": 0,
            "orientation": "horizontal",
            "readout": true,
            "readout_format": ".2f",
            "step": 25,
            "style": "IPY_MODEL_71d35338ef00483ba19a62f32ff4bd40",
            "value": 1800
          }
        },
        "cb92bb1c5e694684955d6d4cb2d0a95b": {
          "model_module": "@jupyter-widgets/base",
          "model_name": "LayoutModel",
          "model_module_version": "1.2.0",
          "state": {
            "_model_module": "@jupyter-widgets/base",
            "_model_module_version": "1.2.0",
            "_model_name": "LayoutModel",
            "_view_count": null,
            "_view_module": "@jupyter-widgets/base",
            "_view_module_version": "1.2.0",
            "_view_name": "LayoutView",
            "align_content": null,
            "align_items": null,
            "align_self": null,
            "border": null,
            "bottom": null,
            "display": null,
            "flex": null,
            "flex_flow": null,
            "grid_area": null,
            "grid_auto_columns": null,
            "grid_auto_flow": null,
            "grid_auto_rows": null,
            "grid_column": null,
            "grid_gap": null,
            "grid_row": null,
            "grid_template_areas": null,
            "grid_template_columns": null,
            "grid_template_rows": null,
            "height": null,
            "justify_content": null,
            "justify_items": null,
            "left": null,
            "margin": null,
            "max_height": null,
            "max_width": null,
            "min_height": null,
            "min_width": null,
            "object_fit": null,
            "object_position": null,
            "order": null,
            "overflow": null,
            "overflow_x": null,
            "overflow_y": null,
            "padding": null,
            "right": null,
            "top": null,
            "visibility": null,
            "width": null
          }
        },
        "71d35338ef00483ba19a62f32ff4bd40": {
          "model_module": "@jupyter-widgets/controls",
          "model_name": "SliderStyleModel",
          "model_module_version": "1.5.0",
          "state": {
            "_model_module": "@jupyter-widgets/controls",
            "_model_module_version": "1.5.0",
            "_model_name": "SliderStyleModel",
            "_view_count": null,
            "_view_module": "@jupyter-widgets/base",
            "_view_module_version": "1.2.0",
            "_view_name": "StyleView",
            "description_width": "",
            "handle_color": null
          }
        },
        "3573e16c863e44b59a2c7d1921ab10e9": {
          "model_module": "@jupyter-widgets/controls",
          "model_name": "LabelModel",
          "model_module_version": "1.5.0",
          "state": {
            "_dom_classes": [],
            "_model_module": "@jupyter-widgets/controls",
            "_model_module_version": "1.5.0",
            "_model_name": "LabelModel",
            "_view_count": null,
            "_view_module": "@jupyter-widgets/controls",
            "_view_module_version": "1.5.0",
            "_view_name": "LabelView",
            "description": "",
            "description_tooltip": null,
            "layout": "IPY_MODEL_c9af93bcc25543faaa36359b99985398",
            "placeholder": "​",
            "style": "IPY_MODEL_8d50abfe4baf47a0adf884a7e97118ca",
            "value": "Uniform Noise"
          }
        },
        "8d50abfe4baf47a0adf884a7e97118ca": {
          "model_module": "@jupyter-widgets/controls",
          "model_name": "DescriptionStyleModel",
          "model_module_version": "1.5.0",
          "state": {
            "_model_module": "@jupyter-widgets/controls",
            "_model_module_version": "1.5.0",
            "_model_name": "DescriptionStyleModel",
            "_view_count": null,
            "_view_module": "@jupyter-widgets/base",
            "_view_module_version": "1.2.0",
            "_view_name": "StyleView",
            "description_width": ""
          }
        },
        "3813249a51534e10a8a947989f048c85": {
          "model_module": "@jupyter-widgets/controls",
          "model_name": "IntSliderModel",
          "model_module_version": "1.5.0",
          "state": {
            "_dom_classes": [],
            "_model_module": "@jupyter-widgets/controls",
            "_model_module_version": "1.5.0",
            "_model_name": "IntSliderModel",
            "_view_count": null,
            "_view_module": "@jupyter-widgets/controls",
            "_view_module_version": "1.5.0",
            "_view_name": "IntSliderView",
            "continuous_update": true,
            "description": "Limit",
            "description_tooltip": null,
            "disabled": false,
            "layout": "IPY_MODEL_14d11729c1a14e66918309a9a67f3be5",
            "max": 150,
            "min": 0,
            "orientation": "horizontal",
            "readout": true,
            "readout_format": "d",
            "step": 25,
            "style": "IPY_MODEL_4b063958e76f4769a72b18acb338bdd4",
            "value": 75
          }
        },
        "14d11729c1a14e66918309a9a67f3be5": {
          "model_module": "@jupyter-widgets/base",
          "model_name": "LayoutModel",
          "model_module_version": "1.2.0",
          "state": {
            "_model_module": "@jupyter-widgets/base",
            "_model_module_version": "1.2.0",
            "_model_name": "LayoutModel",
            "_view_count": null,
            "_view_module": "@jupyter-widgets/base",
            "_view_module_version": "1.2.0",
            "_view_name": "LayoutView",
            "align_content": null,
            "align_items": null,
            "align_self": null,
            "border": null,
            "bottom": null,
            "display": null,
            "flex": null,
            "flex_flow": null,
            "grid_area": null,
            "grid_auto_columns": null,
            "grid_auto_flow": null,
            "grid_auto_rows": null,
            "grid_column": null,
            "grid_gap": null,
            "grid_row": null,
            "grid_template_areas": null,
            "grid_template_columns": null,
            "grid_template_rows": null,
            "height": null,
            "justify_content": null,
            "justify_items": null,
            "left": null,
            "margin": null,
            "max_height": null,
            "max_width": null,
            "min_height": null,
            "min_width": null,
            "object_fit": null,
            "object_position": null,
            "order": null,
            "overflow": null,
            "overflow_x": null,
            "overflow_y": null,
            "padding": null,
            "right": null,
            "top": null,
            "visibility": null,
            "width": null
          }
        },
        "4b063958e76f4769a72b18acb338bdd4": {
          "model_module": "@jupyter-widgets/controls",
          "model_name": "SliderStyleModel",
          "model_module_version": "1.5.0",
          "state": {
            "_model_module": "@jupyter-widgets/controls",
            "_model_module_version": "1.5.0",
            "_model_name": "SliderStyleModel",
            "_view_count": null,
            "_view_module": "@jupyter-widgets/base",
            "_view_module_version": "1.2.0",
            "_view_name": "StyleView",
            "description_width": "",
            "handle_color": null
          }
        },
        "144c6679d9d54efdbf4939c9038de2e3": {
          "model_module": "@jupyter-widgets/controls",
          "model_name": "LabelModel",
          "model_module_version": "1.5.0",
          "state": {
            "_dom_classes": [],
            "_model_module": "@jupyter-widgets/controls",
            "_model_module_version": "1.5.0",
            "_model_name": "LabelModel",
            "_view_count": null,
            "_view_module": "@jupyter-widgets/controls",
            "_view_module_version": "1.5.0",
            "_view_name": "LabelView",
            "description": "",
            "description_tooltip": null,
            "layout": "IPY_MODEL_c9af93bcc25543faaa36359b99985398",
            "placeholder": "​",
            "style": "IPY_MODEL_5329f3ba18f549f8848f167457b4f3a5",
            "value": "Speckle Noise"
          }
        },
        "5329f3ba18f549f8848f167457b4f3a5": {
          "model_module": "@jupyter-widgets/controls",
          "model_name": "DescriptionStyleModel",
          "model_module_version": "1.5.0",
          "state": {
            "_model_module": "@jupyter-widgets/controls",
            "_model_module_version": "1.5.0",
            "_model_name": "DescriptionStyleModel",
            "_view_count": null,
            "_view_module": "@jupyter-widgets/base",
            "_view_module_version": "1.2.0",
            "_view_name": "StyleView",
            "description_width": ""
          }
        },
        "c109145bcebb4f8d8ac76469b1fe2767": {
          "model_module": "@jupyter-widgets/controls",
          "model_name": "FloatSliderModel",
          "model_module_version": "1.5.0",
          "state": {
            "_dom_classes": [],
            "_model_module": "@jupyter-widgets/controls",
            "_model_module_version": "1.5.0",
            "_model_name": "FloatSliderModel",
            "_view_count": null,
            "_view_module": "@jupyter-widgets/controls",
            "_view_module_version": "1.5.0",
            "_view_name": "FloatSliderView",
            "continuous_update": true,
            "description": "Mean",
            "description_tooltip": null,
            "disabled": false,
            "layout": "IPY_MODEL_e755b926049e4375bd5d6e581d49871b",
            "max": 80,
            "min": -80,
            "orientation": "horizontal",
            "readout": true,
            "readout_format": ".2f",
            "step": 1,
            "style": "IPY_MODEL_c4ca6f7cf96f4447b4770012dfc0f5f7",
            "value": 0
          }
        },
        "e755b926049e4375bd5d6e581d49871b": {
          "model_module": "@jupyter-widgets/base",
          "model_name": "LayoutModel",
          "model_module_version": "1.2.0",
          "state": {
            "_model_module": "@jupyter-widgets/base",
            "_model_module_version": "1.2.0",
            "_model_name": "LayoutModel",
            "_view_count": null,
            "_view_module": "@jupyter-widgets/base",
            "_view_module_version": "1.2.0",
            "_view_name": "LayoutView",
            "align_content": null,
            "align_items": null,
            "align_self": null,
            "border": null,
            "bottom": null,
            "display": null,
            "flex": null,
            "flex_flow": null,
            "grid_area": null,
            "grid_auto_columns": null,
            "grid_auto_flow": null,
            "grid_auto_rows": null,
            "grid_column": null,
            "grid_gap": null,
            "grid_row": null,
            "grid_template_areas": null,
            "grid_template_columns": null,
            "grid_template_rows": null,
            "height": null,
            "justify_content": null,
            "justify_items": null,
            "left": null,
            "margin": null,
            "max_height": null,
            "max_width": null,
            "min_height": null,
            "min_width": null,
            "object_fit": null,
            "object_position": null,
            "order": null,
            "overflow": null,
            "overflow_x": null,
            "overflow_y": null,
            "padding": null,
            "right": null,
            "top": null,
            "visibility": null,
            "width": null
          }
        },
        "c4ca6f7cf96f4447b4770012dfc0f5f7": {
          "model_module": "@jupyter-widgets/controls",
          "model_name": "SliderStyleModel",
          "model_module_version": "1.5.0",
          "state": {
            "_model_module": "@jupyter-widgets/controls",
            "_model_module_version": "1.5.0",
            "_model_name": "SliderStyleModel",
            "_view_count": null,
            "_view_module": "@jupyter-widgets/base",
            "_view_module_version": "1.2.0",
            "_view_name": "StyleView",
            "description_width": "",
            "handle_color": null
          }
        },
        "f71213da06614d9b8cd4d56a0aa3298f": {
          "model_module": "@jupyter-widgets/controls",
          "model_name": "FloatSliderModel",
          "model_module_version": "1.5.0",
          "state": {
            "_dom_classes": [],
            "_model_module": "@jupyter-widgets/controls",
            "_model_module_version": "1.5.0",
            "_model_name": "FloatSliderModel",
            "_view_count": null,
            "_view_module": "@jupyter-widgets/controls",
            "_view_module_version": "1.5.0",
            "_view_name": "FloatSliderView",
            "continuous_update": true,
            "description": "Variance",
            "description_tooltip": null,
            "disabled": false,
            "layout": "IPY_MODEL_3d438bbc63fc4d8e827286f647c4c147",
            "max": 0.1,
            "min": 0,
            "orientation": "horizontal",
            "readout": true,
            "readout_format": ".2f",
            "step": 0.01,
            "style": "IPY_MODEL_4b76627a3fa5485d9430b5c3ce472d93",
            "value": 0.05
          }
        },
        "3d438bbc63fc4d8e827286f647c4c147": {
          "model_module": "@jupyter-widgets/base",
          "model_name": "LayoutModel",
          "model_module_version": "1.2.0",
          "state": {
            "_model_module": "@jupyter-widgets/base",
            "_model_module_version": "1.2.0",
            "_model_name": "LayoutModel",
            "_view_count": null,
            "_view_module": "@jupyter-widgets/base",
            "_view_module_version": "1.2.0",
            "_view_name": "LayoutView",
            "align_content": null,
            "align_items": null,
            "align_self": null,
            "border": null,
            "bottom": null,
            "display": null,
            "flex": null,
            "flex_flow": null,
            "grid_area": null,
            "grid_auto_columns": null,
            "grid_auto_flow": null,
            "grid_auto_rows": null,
            "grid_column": null,
            "grid_gap": null,
            "grid_row": null,
            "grid_template_areas": null,
            "grid_template_columns": null,
            "grid_template_rows": null,
            "height": null,
            "justify_content": null,
            "justify_items": null,
            "left": null,
            "margin": null,
            "max_height": null,
            "max_width": null,
            "min_height": null,
            "min_width": null,
            "object_fit": null,
            "object_position": null,
            "order": null,
            "overflow": null,
            "overflow_x": null,
            "overflow_y": null,
            "padding": null,
            "right": null,
            "top": null,
            "visibility": null,
            "width": null
          }
        },
        "4b76627a3fa5485d9430b5c3ce472d93": {
          "model_module": "@jupyter-widgets/controls",
          "model_name": "SliderStyleModel",
          "model_module_version": "1.5.0",
          "state": {
            "_model_module": "@jupyter-widgets/controls",
            "_model_module_version": "1.5.0",
            "_model_name": "SliderStyleModel",
            "_view_count": null,
            "_view_module": "@jupyter-widgets/base",
            "_view_module_version": "1.2.0",
            "_view_name": "StyleView",
            "description_width": "",
            "handle_color": null
          }
        },
        "89685c3b11ba40db90a6703a35dcbf97": {
          "model_module": "@jupyter-widgets/controls",
          "model_name": "LabelModel",
          "model_module_version": "1.5.0",
          "state": {
            "_dom_classes": [],
            "_model_module": "@jupyter-widgets/controls",
            "_model_module_version": "1.5.0",
            "_model_name": "LabelModel",
            "_view_count": null,
            "_view_module": "@jupyter-widgets/controls",
            "_view_module_version": "1.5.0",
            "_view_name": "LabelView",
            "description": "",
            "description_tooltip": null,
            "layout": "IPY_MODEL_c9af93bcc25543faaa36359b99985398",
            "placeholder": "​",
            "style": "IPY_MODEL_258914d12e6b408db7b301d75b1b29c4",
            "value": "Poisson Noise"
          }
        },
        "258914d12e6b408db7b301d75b1b29c4": {
          "model_module": "@jupyter-widgets/controls",
          "model_name": "DescriptionStyleModel",
          "model_module_version": "1.5.0",
          "state": {
            "_model_module": "@jupyter-widgets/controls",
            "_model_module_version": "1.5.0",
            "_model_name": "DescriptionStyleModel",
            "_view_count": null,
            "_view_module": "@jupyter-widgets/base",
            "_view_module_version": "1.2.0",
            "_view_name": "StyleView",
            "description_width": ""
          }
        },
        "2d600b795866477e8f988b2f8f14c3ad": {
          "model_module": "@jupyter-widgets/controls",
          "model_name": "FloatSliderModel",
          "model_module_version": "1.5.0",
          "state": {
            "_dom_classes": [],
            "_model_module": "@jupyter-widgets/controls",
            "_model_module_version": "1.5.0",
            "_model_name": "FloatSliderModel",
            "_view_count": null,
            "_view_module": "@jupyter-widgets/controls",
            "_view_module_version": "1.5.0",
            "_view_name": "FloatSliderView",
            "continuous_update": true,
            "description": "Bias",
            "description_tooltip": null,
            "disabled": false,
            "layout": "IPY_MODEL_701c7a0774a6481aba05803840231090",
            "max": 1,
            "min": 0.00048828125,
            "orientation": "horizontal",
            "readout": true,
            "readout_format": ".2f",
            "step": 0.01,
            "style": "IPY_MODEL_4d3802c4cd8a4e6eb9f6b2e9af690727",
            "value": 0.0009765625
          }
        },
        "701c7a0774a6481aba05803840231090": {
          "model_module": "@jupyter-widgets/base",
          "model_name": "LayoutModel",
          "model_module_version": "1.2.0",
          "state": {
            "_model_module": "@jupyter-widgets/base",
            "_model_module_version": "1.2.0",
            "_model_name": "LayoutModel",
            "_view_count": null,
            "_view_module": "@jupyter-widgets/base",
            "_view_module_version": "1.2.0",
            "_view_name": "LayoutView",
            "align_content": null,
            "align_items": null,
            "align_self": null,
            "border": null,
            "bottom": null,
            "display": null,
            "flex": null,
            "flex_flow": null,
            "grid_area": null,
            "grid_auto_columns": null,
            "grid_auto_flow": null,
            "grid_auto_rows": null,
            "grid_column": null,
            "grid_gap": null,
            "grid_row": null,
            "grid_template_areas": null,
            "grid_template_columns": null,
            "grid_template_rows": null,
            "height": null,
            "justify_content": null,
            "justify_items": null,
            "left": null,
            "margin": null,
            "max_height": null,
            "max_width": null,
            "min_height": null,
            "min_width": null,
            "object_fit": null,
            "object_position": null,
            "order": null,
            "overflow": null,
            "overflow_x": null,
            "overflow_y": null,
            "padding": null,
            "right": null,
            "top": null,
            "visibility": null,
            "width": null
          }
        },
        "4d3802c4cd8a4e6eb9f6b2e9af690727": {
          "model_module": "@jupyter-widgets/controls",
          "model_name": "SliderStyleModel",
          "model_module_version": "1.5.0",
          "state": {
            "_model_module": "@jupyter-widgets/controls",
            "_model_module_version": "1.5.0",
            "_model_name": "SliderStyleModel",
            "_view_count": null,
            "_view_module": "@jupyter-widgets/base",
            "_view_module_version": "1.2.0",
            "_view_name": "StyleView",
            "description_width": "",
            "handle_color": null
          }
        },
        "47df972b196c481592f3b8fd0706ad8d": {
          "model_module": "@jupyter-widgets/controls",
          "model_name": "LabelModel",
          "model_module_version": "1.5.0",
          "state": {
            "_dom_classes": [],
            "_model_module": "@jupyter-widgets/controls",
            "_model_module_version": "1.5.0",
            "_model_name": "LabelModel",
            "_view_count": null,
            "_view_module": "@jupyter-widgets/controls",
            "_view_module_version": "1.5.0",
            "_view_name": "LabelView",
            "description": "",
            "description_tooltip": null,
            "layout": "IPY_MODEL_c9af93bcc25543faaa36359b99985398",
            "placeholder": "​",
            "style": "IPY_MODEL_e4cc555bdd1c4f0eadeaa823a647d878",
            "value": "Separable Noise"
          }
        },
        "e4cc555bdd1c4f0eadeaa823a647d878": {
          "model_module": "@jupyter-widgets/controls",
          "model_name": "DescriptionStyleModel",
          "model_module_version": "1.5.0",
          "state": {
            "_model_module": "@jupyter-widgets/controls",
            "_model_module_version": "1.5.0",
            "_model_name": "DescriptionStyleModel",
            "_view_count": null,
            "_view_module": "@jupyter-widgets/base",
            "_view_module_version": "1.2.0",
            "_view_name": "StyleView",
            "description_width": ""
          }
        },
        "6c2a24ce3eee4f06ba95fbb70cea9ac9": {
          "model_module": "@jupyter-widgets/controls",
          "model_name": "FloatSliderModel",
          "model_module_version": "1.5.0",
          "state": {
            "_dom_classes": [],
            "_model_module": "@jupyter-widgets/controls",
            "_model_module_version": "1.5.0",
            "_model_name": "FloatSliderModel",
            "_view_count": null,
            "_view_module": "@jupyter-widgets/controls",
            "_view_module_version": "1.5.0",
            "_view_name": "FloatSliderView",
            "continuous_update": true,
            "description": "Probability",
            "description_tooltip": null,
            "disabled": false,
            "layout": "IPY_MODEL_2333ce18a1de4f818114a4503203392f",
            "max": 1,
            "min": 0,
            "orientation": "horizontal",
            "readout": true,
            "readout_format": ".2f",
            "step": 0.05,
            "style": "IPY_MODEL_26a9e4c1aedb402f8bffd04d9edf6485",
            "value": 0.5
          }
        },
        "2333ce18a1de4f818114a4503203392f": {
          "model_module": "@jupyter-widgets/base",
          "model_name": "LayoutModel",
          "model_module_version": "1.2.0",
          "state": {
            "_model_module": "@jupyter-widgets/base",
            "_model_module_version": "1.2.0",
            "_model_name": "LayoutModel",
            "_view_count": null,
            "_view_module": "@jupyter-widgets/base",
            "_view_module_version": "1.2.0",
            "_view_name": "LayoutView",
            "align_content": null,
            "align_items": null,
            "align_self": null,
            "border": null,
            "bottom": null,
            "display": null,
            "flex": null,
            "flex_flow": null,
            "grid_area": null,
            "grid_auto_columns": null,
            "grid_auto_flow": null,
            "grid_auto_rows": null,
            "grid_column": null,
            "grid_gap": null,
            "grid_row": null,
            "grid_template_areas": null,
            "grid_template_columns": null,
            "grid_template_rows": null,
            "height": null,
            "justify_content": null,
            "justify_items": null,
            "left": null,
            "margin": null,
            "max_height": null,
            "max_width": null,
            "min_height": null,
            "min_width": null,
            "object_fit": null,
            "object_position": null,
            "order": null,
            "overflow": null,
            "overflow_x": null,
            "overflow_y": null,
            "padding": null,
            "right": null,
            "top": null,
            "visibility": null,
            "width": null
          }
        },
        "26a9e4c1aedb402f8bffd04d9edf6485": {
          "model_module": "@jupyter-widgets/controls",
          "model_name": "SliderStyleModel",
          "model_module_version": "1.5.0",
          "state": {
            "_model_module": "@jupyter-widgets/controls",
            "_model_module_version": "1.5.0",
            "_model_name": "SliderStyleModel",
            "_view_count": null,
            "_view_module": "@jupyter-widgets/base",
            "_view_module_version": "1.2.0",
            "_view_name": "StyleView",
            "description_width": "",
            "handle_color": null
          }
        },
        "8c332d99444049489969afecc58a3b6a": {
          "model_module": "@jupyter-widgets/controls",
          "model_name": "FloatSliderModel",
          "model_module_version": "1.5.0",
          "state": {
            "_dom_classes": [],
            "_model_module": "@jupyter-widgets/controls",
            "_model_module_version": "1.5.0",
            "_model_name": "FloatSliderModel",
            "_view_count": null,
            "_view_module": "@jupyter-widgets/controls",
            "_view_module_version": "1.5.0",
            "_view_name": "FloatSliderView",
            "continuous_update": true,
            "description": "Amount",
            "description_tooltip": null,
            "disabled": false,
            "layout": "IPY_MODEL_0522bf006e884ff9babc0f113100c1bc",
            "max": 0.2,
            "min": 0,
            "orientation": "horizontal",
            "readout": true,
            "readout_format": ".2f",
            "step": 0.001,
            "style": "IPY_MODEL_95ebf51af5e54ddca28f6033dec11f19",
            "value": 0.004
          }
        },
        "0522bf006e884ff9babc0f113100c1bc": {
          "model_module": "@jupyter-widgets/base",
          "model_name": "LayoutModel",
          "model_module_version": "1.2.0",
          "state": {
            "_model_module": "@jupyter-widgets/base",
            "_model_module_version": "1.2.0",
            "_model_name": "LayoutModel",
            "_view_count": null,
            "_view_module": "@jupyter-widgets/base",
            "_view_module_version": "1.2.0",
            "_view_name": "LayoutView",
            "align_content": null,
            "align_items": null,
            "align_self": null,
            "border": null,
            "bottom": null,
            "display": null,
            "flex": null,
            "flex_flow": null,
            "grid_area": null,
            "grid_auto_columns": null,
            "grid_auto_flow": null,
            "grid_auto_rows": null,
            "grid_column": null,
            "grid_gap": null,
            "grid_row": null,
            "grid_template_areas": null,
            "grid_template_columns": null,
            "grid_template_rows": null,
            "height": null,
            "justify_content": null,
            "justify_items": null,
            "left": null,
            "margin": null,
            "max_height": null,
            "max_width": null,
            "min_height": null,
            "min_width": null,
            "object_fit": null,
            "object_position": null,
            "order": null,
            "overflow": null,
            "overflow_x": null,
            "overflow_y": null,
            "padding": null,
            "right": null,
            "top": null,
            "visibility": null,
            "width": null
          }
        },
        "95ebf51af5e54ddca28f6033dec11f19": {
          "model_module": "@jupyter-widgets/controls",
          "model_name": "SliderStyleModel",
          "model_module_version": "1.5.0",
          "state": {
            "_model_module": "@jupyter-widgets/controls",
            "_model_module_version": "1.5.0",
            "_model_name": "SliderStyleModel",
            "_view_count": null,
            "_view_module": "@jupyter-widgets/base",
            "_view_module_version": "1.2.0",
            "_view_name": "StyleView",
            "description_width": "",
            "handle_color": null
          }
        },
        "a77baaad09b44d49bfead3de4f6eea75": {
          "model_module": "@jupyter-widgets/controls",
          "model_name": "LabelModel",
          "model_module_version": "1.5.0",
          "state": {
            "_dom_classes": [],
            "_model_module": "@jupyter-widgets/controls",
            "_model_module_version": "1.5.0",
            "_model_name": "LabelModel",
            "_view_count": null,
            "_view_module": "@jupyter-widgets/controls",
            "_view_module_version": "1.5.0",
            "_view_name": "LabelView",
            "description": "",
            "description_tooltip": null,
            "layout": "IPY_MODEL_c9af93bcc25543faaa36359b99985398",
            "placeholder": "​",
            "style": "IPY_MODEL_57a63b18f5a64c9da334909872eec5fc",
            "value": "Color Diffusion"
          }
        },
        "57a63b18f5a64c9da334909872eec5fc": {
          "model_module": "@jupyter-widgets/controls",
          "model_name": "DescriptionStyleModel",
          "model_module_version": "1.5.0",
          "state": {
            "_model_module": "@jupyter-widgets/controls",
            "_model_module_version": "1.5.0",
            "_model_name": "DescriptionStyleModel",
            "_view_count": null,
            "_view_module": "@jupyter-widgets/base",
            "_view_module_version": "1.2.0",
            "_view_name": "StyleView",
            "description_width": ""
          }
        },
        "56131162d68e4ea2812f0bfcc683b8f7": {
          "model_module": "@jupyter-widgets/controls",
          "model_name": "IntSliderModel",
          "model_module_version": "1.5.0",
          "state": {
            "_dom_classes": [],
            "_model_module": "@jupyter-widgets/controls",
            "_model_module_version": "1.5.0",
            "_model_name": "IntSliderModel",
            "_view_count": null,
            "_view_module": "@jupyter-widgets/controls",
            "_view_module_version": "1.5.0",
            "_view_name": "IntSliderView",
            "continuous_update": true,
            "description": "Kernel Size",
            "description_tooltip": null,
            "disabled": false,
            "layout": "IPY_MODEL_fdbe458dfd3447d8b6efdbbdbc5d8882",
            "max": 201,
            "min": 1,
            "orientation": "horizontal",
            "readout": true,
            "readout_format": "d",
            "step": 2,
            "style": "IPY_MODEL_a0df781402854bbfb6a3292de03462a9",
            "value": 99
          }
        },
        "fdbe458dfd3447d8b6efdbbdbc5d8882": {
          "model_module": "@jupyter-widgets/base",
          "model_name": "LayoutModel",
          "model_module_version": "1.2.0",
          "state": {
            "_model_module": "@jupyter-widgets/base",
            "_model_module_version": "1.2.0",
            "_model_name": "LayoutModel",
            "_view_count": null,
            "_view_module": "@jupyter-widgets/base",
            "_view_module_version": "1.2.0",
            "_view_name": "LayoutView",
            "align_content": null,
            "align_items": null,
            "align_self": null,
            "border": null,
            "bottom": null,
            "display": null,
            "flex": null,
            "flex_flow": null,
            "grid_area": null,
            "grid_auto_columns": null,
            "grid_auto_flow": null,
            "grid_auto_rows": null,
            "grid_column": null,
            "grid_gap": null,
            "grid_row": null,
            "grid_template_areas": null,
            "grid_template_columns": null,
            "grid_template_rows": null,
            "height": null,
            "justify_content": null,
            "justify_items": null,
            "left": null,
            "margin": null,
            "max_height": null,
            "max_width": null,
            "min_height": null,
            "min_width": null,
            "object_fit": null,
            "object_position": null,
            "order": null,
            "overflow": null,
            "overflow_x": null,
            "overflow_y": null,
            "padding": null,
            "right": null,
            "top": null,
            "visibility": null,
            "width": null
          }
        },
        "a0df781402854bbfb6a3292de03462a9": {
          "model_module": "@jupyter-widgets/controls",
          "model_name": "SliderStyleModel",
          "model_module_version": "1.5.0",
          "state": {
            "_model_module": "@jupyter-widgets/controls",
            "_model_module_version": "1.5.0",
            "_model_name": "SliderStyleModel",
            "_view_count": null,
            "_view_module": "@jupyter-widgets/base",
            "_view_module_version": "1.2.0",
            "_view_name": "StyleView",
            "description_width": "",
            "handle_color": null
          }
        },
        "4fb1887a9a5440e1855fff022019308c": {
          "model_module": "@jupyter-widgets/controls",
          "model_name": "FloatSliderModel",
          "model_module_version": "1.5.0",
          "state": {
            "_dom_classes": [],
            "_model_module": "@jupyter-widgets/controls",
            "_model_module_version": "1.5.0",
            "_model_name": "FloatSliderModel",
            "_view_count": null,
            "_view_module": "@jupyter-widgets/controls",
            "_view_module_version": "1.5.0",
            "_view_name": "FloatSliderView",
            "continuous_update": true,
            "description": "Sigma",
            "description_tooltip": null,
            "disabled": false,
            "layout": "IPY_MODEL_052144665808441a925554f774edc68f",
            "max": 10,
            "min": -10,
            "orientation": "horizontal",
            "readout": true,
            "readout_format": ".2f",
            "step": 1,
            "style": "IPY_MODEL_d3f05cdd3eb5474298bde1201df4b2c6",
            "value": 0
          }
        },
        "052144665808441a925554f774edc68f": {
          "model_module": "@jupyter-widgets/base",
          "model_name": "LayoutModel",
          "model_module_version": "1.2.0",
          "state": {
            "_model_module": "@jupyter-widgets/base",
            "_model_module_version": "1.2.0",
            "_model_name": "LayoutModel",
            "_view_count": null,
            "_view_module": "@jupyter-widgets/base",
            "_view_module_version": "1.2.0",
            "_view_name": "LayoutView",
            "align_content": null,
            "align_items": null,
            "align_self": null,
            "border": null,
            "bottom": null,
            "display": null,
            "flex": null,
            "flex_flow": null,
            "grid_area": null,
            "grid_auto_columns": null,
            "grid_auto_flow": null,
            "grid_auto_rows": null,
            "grid_column": null,
            "grid_gap": null,
            "grid_row": null,
            "grid_template_areas": null,
            "grid_template_columns": null,
            "grid_template_rows": null,
            "height": null,
            "justify_content": null,
            "justify_items": null,
            "left": null,
            "margin": null,
            "max_height": null,
            "max_width": null,
            "min_height": null,
            "min_width": null,
            "object_fit": null,
            "object_position": null,
            "order": null,
            "overflow": null,
            "overflow_x": null,
            "overflow_y": null,
            "padding": null,
            "right": null,
            "top": null,
            "visibility": null,
            "width": null
          }
        },
        "d3f05cdd3eb5474298bde1201df4b2c6": {
          "model_module": "@jupyter-widgets/controls",
          "model_name": "SliderStyleModel",
          "model_module_version": "1.5.0",
          "state": {
            "_model_module": "@jupyter-widgets/controls",
            "_model_module_version": "1.5.0",
            "_model_name": "SliderStyleModel",
            "_view_count": null,
            "_view_module": "@jupyter-widgets/base",
            "_view_module_version": "1.2.0",
            "_view_name": "StyleView",
            "description_width": "",
            "handle_color": null
          }
        },
        "5a456d3b68cd4ab3b5bf8811e318d605": {
          "model_module": "@jupyter-widgets/controls",
          "model_name": "LabelModel",
          "model_module_version": "1.5.0",
          "state": {
            "_dom_classes": [],
            "_model_module": "@jupyter-widgets/controls",
            "_model_module_version": "1.5.0",
            "_model_name": "LabelModel",
            "_view_count": null,
            "_view_module": "@jupyter-widgets/controls",
            "_view_module_version": "1.5.0",
            "_view_name": "LabelView",
            "description": "",
            "description_tooltip": null,
            "layout": "IPY_MODEL_c9af93bcc25543faaa36359b99985398",
            "placeholder": "​",
            "style": "IPY_MODEL_67fe041d982a4fdc838d0199dab9efc1",
            "value": "Color Shift"
          }
        },
        "67fe041d982a4fdc838d0199dab9efc1": {
          "model_module": "@jupyter-widgets/controls",
          "model_name": "DescriptionStyleModel",
          "model_module_version": "1.5.0",
          "state": {
            "_model_module": "@jupyter-widgets/controls",
            "_model_module_version": "1.5.0",
            "_model_name": "DescriptionStyleModel",
            "_view_count": null,
            "_view_module": "@jupyter-widgets/base",
            "_view_module_version": "1.2.0",
            "_view_name": "StyleView",
            "description_width": ""
          }
        },
        "0265873d52c24348a1cdd1613c99b197": {
          "model_module": "@jupyter-widgets/controls",
          "model_name": "IntSliderModel",
          "model_module_version": "1.5.0",
          "state": {
            "_dom_classes": [],
            "_model_module": "@jupyter-widgets/controls",
            "_model_module_version": "1.5.0",
            "_model_name": "IntSliderModel",
            "_view_count": null,
            "_view_module": "@jupyter-widgets/controls",
            "_view_module_version": "1.5.0",
            "_view_name": "IntSliderView",
            "continuous_update": true,
            "description": "Shift X",
            "description_tooltip": null,
            "disabled": false,
            "layout": "IPY_MODEL_4f1a77c2304949199106e855a671ab45",
            "max": 50,
            "min": -50,
            "orientation": "horizontal",
            "readout": true,
            "readout_format": "d",
            "step": 1,
            "style": "IPY_MODEL_859f81af831b4a4faf9f2d4238a4a77d",
            "value": 1
          }
        },
        "4f1a77c2304949199106e855a671ab45": {
          "model_module": "@jupyter-widgets/base",
          "model_name": "LayoutModel",
          "model_module_version": "1.2.0",
          "state": {
            "_model_module": "@jupyter-widgets/base",
            "_model_module_version": "1.2.0",
            "_model_name": "LayoutModel",
            "_view_count": null,
            "_view_module": "@jupyter-widgets/base",
            "_view_module_version": "1.2.0",
            "_view_name": "LayoutView",
            "align_content": null,
            "align_items": null,
            "align_self": null,
            "border": null,
            "bottom": null,
            "display": null,
            "flex": null,
            "flex_flow": null,
            "grid_area": null,
            "grid_auto_columns": null,
            "grid_auto_flow": null,
            "grid_auto_rows": null,
            "grid_column": null,
            "grid_gap": null,
            "grid_row": null,
            "grid_template_areas": null,
            "grid_template_columns": null,
            "grid_template_rows": null,
            "height": null,
            "justify_content": null,
            "justify_items": null,
            "left": null,
            "margin": null,
            "max_height": null,
            "max_width": null,
            "min_height": null,
            "min_width": null,
            "object_fit": null,
            "object_position": null,
            "order": null,
            "overflow": null,
            "overflow_x": null,
            "overflow_y": null,
            "padding": null,
            "right": null,
            "top": null,
            "visibility": null,
            "width": null
          }
        },
        "859f81af831b4a4faf9f2d4238a4a77d": {
          "model_module": "@jupyter-widgets/controls",
          "model_name": "SliderStyleModel",
          "model_module_version": "1.5.0",
          "state": {
            "_model_module": "@jupyter-widgets/controls",
            "_model_module_version": "1.5.0",
            "_model_name": "SliderStyleModel",
            "_view_count": null,
            "_view_module": "@jupyter-widgets/base",
            "_view_module_version": "1.2.0",
            "_view_name": "StyleView",
            "description_width": "",
            "handle_color": null
          }
        },
        "3c72f690b42048f28db384e1c190732a": {
          "model_module": "@jupyter-widgets/controls",
          "model_name": "IntSliderModel",
          "model_module_version": "1.5.0",
          "state": {
            "_dom_classes": [],
            "_model_module": "@jupyter-widgets/controls",
            "_model_module_version": "1.5.0",
            "_model_name": "IntSliderModel",
            "_view_count": null,
            "_view_module": "@jupyter-widgets/controls",
            "_view_module_version": "1.5.0",
            "_view_name": "IntSliderView",
            "continuous_update": true,
            "description": "Shift Y",
            "description_tooltip": null,
            "disabled": false,
            "layout": "IPY_MODEL_d36b9307a07c4b458499186bb9ef932f",
            "max": 50,
            "min": -50,
            "orientation": "horizontal",
            "readout": true,
            "readout_format": "d",
            "step": 1,
            "style": "IPY_MODEL_665ad5cd8caf476c8241d0a6782ad289",
            "value": 8
          }
        },
        "d36b9307a07c4b458499186bb9ef932f": {
          "model_module": "@jupyter-widgets/base",
          "model_name": "LayoutModel",
          "model_module_version": "1.2.0",
          "state": {
            "_model_module": "@jupyter-widgets/base",
            "_model_module_version": "1.2.0",
            "_model_name": "LayoutModel",
            "_view_count": null,
            "_view_module": "@jupyter-widgets/base",
            "_view_module_version": "1.2.0",
            "_view_name": "LayoutView",
            "align_content": null,
            "align_items": null,
            "align_self": null,
            "border": null,
            "bottom": null,
            "display": null,
            "flex": null,
            "flex_flow": null,
            "grid_area": null,
            "grid_auto_columns": null,
            "grid_auto_flow": null,
            "grid_auto_rows": null,
            "grid_column": null,
            "grid_gap": null,
            "grid_row": null,
            "grid_template_areas": null,
            "grid_template_columns": null,
            "grid_template_rows": null,
            "height": null,
            "justify_content": null,
            "justify_items": null,
            "left": null,
            "margin": null,
            "max_height": null,
            "max_width": null,
            "min_height": null,
            "min_width": null,
            "object_fit": null,
            "object_position": null,
            "order": null,
            "overflow": null,
            "overflow_x": null,
            "overflow_y": null,
            "padding": null,
            "right": null,
            "top": null,
            "visibility": null,
            "width": null
          }
        },
        "665ad5cd8caf476c8241d0a6782ad289": {
          "model_module": "@jupyter-widgets/controls",
          "model_name": "SliderStyleModel",
          "model_module_version": "1.5.0",
          "state": {
            "_model_module": "@jupyter-widgets/controls",
            "_model_module_version": "1.5.0",
            "_model_name": "SliderStyleModel",
            "_view_count": null,
            "_view_module": "@jupyter-widgets/base",
            "_view_module_version": "1.2.0",
            "_view_name": "StyleView",
            "description_width": "",
            "handle_color": null
          }
        },
        "6ce256546ea6401584953acd0c742655": {
          "model_module": "@jupyter-widgets/controls",
          "model_name": "LabelModel",
          "model_module_version": "1.5.0",
          "state": {
            "_dom_classes": [],
            "_model_module": "@jupyter-widgets/controls",
            "_model_module_version": "1.5.0",
            "_model_name": "LabelModel",
            "_view_count": null,
            "_view_module": "@jupyter-widgets/controls",
            "_view_module_version": "1.5.0",
            "_view_name": "LabelView",
            "description": "",
            "description_tooltip": null,
            "layout": "IPY_MODEL_c9af93bcc25543faaa36359b99985398",
            "placeholder": "​",
            "style": "IPY_MODEL_78bd5e1a7c3949b983dd6edfe62b0e71",
            "value": "Color Quantization"
          }
        },
        "78bd5e1a7c3949b983dd6edfe62b0e71": {
          "model_module": "@jupyter-widgets/controls",
          "model_name": "DescriptionStyleModel",
          "model_module_version": "1.5.0",
          "state": {
            "_model_module": "@jupyter-widgets/controls",
            "_model_module_version": "1.5.0",
            "_model_name": "DescriptionStyleModel",
            "_view_count": null,
            "_view_module": "@jupyter-widgets/base",
            "_view_module_version": "1.2.0",
            "_view_name": "StyleView",
            "description_width": ""
          }
        },
        "6bde50e80b37405784c7012c76a15b31": {
          "model_module": "@jupyter-widgets/controls",
          "model_name": "IntSliderModel",
          "model_module_version": "1.5.0",
          "state": {
            "_dom_classes": [],
            "_model_module": "@jupyter-widgets/controls",
            "_model_module_version": "1.5.0",
            "_model_name": "IntSliderModel",
            "_view_count": null,
            "_view_module": "@jupyter-widgets/controls",
            "_view_module_version": "1.5.0",
            "_view_name": "IntSliderView",
            "continuous_update": true,
            "description": "K",
            "description_tooltip": null,
            "disabled": false,
            "layout": "IPY_MODEL_d5d80dd56021485b8911e8b5415a6a87",
            "max": 256,
            "min": 2,
            "orientation": "horizontal",
            "readout": true,
            "readout_format": "d",
            "step": 1,
            "style": "IPY_MODEL_0a41d287919444e6ae996571b0203bd1",
            "value": 8
          }
        },
        "d5d80dd56021485b8911e8b5415a6a87": {
          "model_module": "@jupyter-widgets/base",
          "model_name": "LayoutModel",
          "model_module_version": "1.2.0",
          "state": {
            "_model_module": "@jupyter-widgets/base",
            "_model_module_version": "1.2.0",
            "_model_name": "LayoutModel",
            "_view_count": null,
            "_view_module": "@jupyter-widgets/base",
            "_view_module_version": "1.2.0",
            "_view_name": "LayoutView",
            "align_content": null,
            "align_items": null,
            "align_self": null,
            "border": null,
            "bottom": null,
            "display": null,
            "flex": null,
            "flex_flow": null,
            "grid_area": null,
            "grid_auto_columns": null,
            "grid_auto_flow": null,
            "grid_auto_rows": null,
            "grid_column": null,
            "grid_gap": null,
            "grid_row": null,
            "grid_template_areas": null,
            "grid_template_columns": null,
            "grid_template_rows": null,
            "height": null,
            "justify_content": null,
            "justify_items": null,
            "left": null,
            "margin": null,
            "max_height": null,
            "max_width": null,
            "min_height": null,
            "min_width": null,
            "object_fit": null,
            "object_position": null,
            "order": null,
            "overflow": null,
            "overflow_x": null,
            "overflow_y": null,
            "padding": null,
            "right": null,
            "top": null,
            "visibility": null,
            "width": null
          }
        },
        "0a41d287919444e6ae996571b0203bd1": {
          "model_module": "@jupyter-widgets/controls",
          "model_name": "SliderStyleModel",
          "model_module_version": "1.5.0",
          "state": {
            "_model_module": "@jupyter-widgets/controls",
            "_model_module_version": "1.5.0",
            "_model_name": "SliderStyleModel",
            "_view_count": null,
            "_view_module": "@jupyter-widgets/base",
            "_view_module_version": "1.2.0",
            "_view_name": "StyleView",
            "description_width": "",
            "handle_color": null
          }
        },
        "fee4f3d8fa5f4587b0cf051e67e3b3a1": {
          "model_module": "@jupyter-widgets/controls",
          "model_name": "LabelModel",
          "model_module_version": "1.5.0",
          "state": {
            "_dom_classes": [],
            "_model_module": "@jupyter-widgets/controls",
            "_model_module_version": "1.5.0",
            "_model_name": "LabelModel",
            "_view_count": null,
            "_view_module": "@jupyter-widgets/controls",
            "_view_module_version": "1.5.0",
            "_view_name": "LabelView",
            "description": "",
            "description_tooltip": null,
            "layout": "IPY_MODEL_c9af93bcc25543faaa36359b99985398",
            "placeholder": "​",
            "style": "IPY_MODEL_00ccf91dd2504159b902fe4242a287ec",
            "value": "Color Saturation HSV"
          }
        },
        "00ccf91dd2504159b902fe4242a287ec": {
          "model_module": "@jupyter-widgets/controls",
          "model_name": "DescriptionStyleModel",
          "model_module_version": "1.5.0",
          "state": {
            "_model_module": "@jupyter-widgets/controls",
            "_model_module_version": "1.5.0",
            "_model_name": "DescriptionStyleModel",
            "_view_count": null,
            "_view_module": "@jupyter-widgets/base",
            "_view_module_version": "1.2.0",
            "_view_name": "StyleView",
            "description_width": ""
          }
        },
        "d73a7db0fbca423c8e535d014da4b989": {
          "model_module": "@jupyter-widgets/controls",
          "model_name": "FloatSliderModel",
          "model_module_version": "1.5.0",
          "state": {
            "_dom_classes": [],
            "_model_module": "@jupyter-widgets/controls",
            "_model_module_version": "1.5.0",
            "_model_name": "FloatSliderModel",
            "_view_count": null,
            "_view_module": "@jupyter-widgets/controls",
            "_view_module_version": "1.5.0",
            "_view_name": "FloatSliderView",
            "continuous_update": true,
            "description": "Factor",
            "description_tooltip": null,
            "disabled": false,
            "layout": "IPY_MODEL_a9e04fd04bab41329e8fbbb1fd232d46",
            "max": 2.1,
            "min": 0.1,
            "orientation": "horizontal",
            "readout": true,
            "readout_format": ".2f",
            "step": 0.1,
            "style": "IPY_MODEL_0ea44425c1d54a8096024d4fad09efbd",
            "value": 1.4
          }
        },
        "a9e04fd04bab41329e8fbbb1fd232d46": {
          "model_module": "@jupyter-widgets/base",
          "model_name": "LayoutModel",
          "model_module_version": "1.2.0",
          "state": {
            "_model_module": "@jupyter-widgets/base",
            "_model_module_version": "1.2.0",
            "_model_name": "LayoutModel",
            "_view_count": null,
            "_view_module": "@jupyter-widgets/base",
            "_view_module_version": "1.2.0",
            "_view_name": "LayoutView",
            "align_content": null,
            "align_items": null,
            "align_self": null,
            "border": null,
            "bottom": null,
            "display": null,
            "flex": null,
            "flex_flow": null,
            "grid_area": null,
            "grid_auto_columns": null,
            "grid_auto_flow": null,
            "grid_auto_rows": null,
            "grid_column": null,
            "grid_gap": null,
            "grid_row": null,
            "grid_template_areas": null,
            "grid_template_columns": null,
            "grid_template_rows": null,
            "height": null,
            "justify_content": null,
            "justify_items": null,
            "left": null,
            "margin": null,
            "max_height": null,
            "max_width": null,
            "min_height": null,
            "min_width": null,
            "object_fit": null,
            "object_position": null,
            "order": null,
            "overflow": null,
            "overflow_x": null,
            "overflow_y": null,
            "padding": null,
            "right": null,
            "top": null,
            "visibility": null,
            "width": null
          }
        },
        "0ea44425c1d54a8096024d4fad09efbd": {
          "model_module": "@jupyter-widgets/controls",
          "model_name": "SliderStyleModel",
          "model_module_version": "1.5.0",
          "state": {
            "_model_module": "@jupyter-widgets/controls",
            "_model_module_version": "1.5.0",
            "_model_name": "SliderStyleModel",
            "_view_count": null,
            "_view_module": "@jupyter-widgets/base",
            "_view_module_version": "1.2.0",
            "_view_name": "StyleView",
            "description_width": "",
            "handle_color": null
          }
        },
        "20dc6650b42441c8b4ff2b52834a787c": {
          "model_module": "@jupyter-widgets/controls",
          "model_name": "LabelModel",
          "model_module_version": "1.5.0",
          "state": {
            "_dom_classes": [],
            "_model_module": "@jupyter-widgets/controls",
            "_model_module_version": "1.5.0",
            "_model_name": "LabelModel",
            "_view_count": null,
            "_view_module": "@jupyter-widgets/controls",
            "_view_module_version": "1.5.0",
            "_view_name": "LabelView",
            "description": "",
            "description_tooltip": null,
            "layout": "IPY_MODEL_c9af93bcc25543faaa36359b99985398",
            "placeholder": "​",
            "style": "IPY_MODEL_c187912d41514a788416ee13fa2fc420",
            "value": "Color Saturation LAB"
          }
        },
        "c187912d41514a788416ee13fa2fc420": {
          "model_module": "@jupyter-widgets/controls",
          "model_name": "DescriptionStyleModel",
          "model_module_version": "1.5.0",
          "state": {
            "_model_module": "@jupyter-widgets/controls",
            "_model_module_version": "1.5.0",
            "_model_name": "DescriptionStyleModel",
            "_view_count": null,
            "_view_module": "@jupyter-widgets/base",
            "_view_module_version": "1.2.0",
            "_view_name": "StyleView",
            "description_width": ""
          }
        },
        "6770ea75e3384fbd867c6a2b20221e06": {
          "model_module": "@jupyter-widgets/controls",
          "model_name": "FloatSliderModel",
          "model_module_version": "1.5.0",
          "state": {
            "_dom_classes": [],
            "_model_module": "@jupyter-widgets/controls",
            "_model_module_version": "1.5.0",
            "_model_name": "FloatSliderModel",
            "_view_count": null,
            "_view_module": "@jupyter-widgets/controls",
            "_view_module_version": "1.5.0",
            "_view_name": "FloatSliderView",
            "continuous_update": true,
            "description": "Factor A",
            "description_tooltip": null,
            "disabled": false,
            "layout": "IPY_MODEL_81e2da3827bd4e709d4e40dd9e37988a",
            "max": 5,
            "min": 0.1,
            "orientation": "horizontal",
            "readout": true,
            "readout_format": ".2f",
            "step": 0.1,
            "style": "IPY_MODEL_8dd2b4c2d92045b885fdfa882d3c087b",
            "value": 3
          }
        },
        "81e2da3827bd4e709d4e40dd9e37988a": {
          "model_module": "@jupyter-widgets/base",
          "model_name": "LayoutModel",
          "model_module_version": "1.2.0",
          "state": {
            "_model_module": "@jupyter-widgets/base",
            "_model_module_version": "1.2.0",
            "_model_name": "LayoutModel",
            "_view_count": null,
            "_view_module": "@jupyter-widgets/base",
            "_view_module_version": "1.2.0",
            "_view_name": "LayoutView",
            "align_content": null,
            "align_items": null,
            "align_self": null,
            "border": null,
            "bottom": null,
            "display": null,
            "flex": null,
            "flex_flow": null,
            "grid_area": null,
            "grid_auto_columns": null,
            "grid_auto_flow": null,
            "grid_auto_rows": null,
            "grid_column": null,
            "grid_gap": null,
            "grid_row": null,
            "grid_template_areas": null,
            "grid_template_columns": null,
            "grid_template_rows": null,
            "height": null,
            "justify_content": null,
            "justify_items": null,
            "left": null,
            "margin": null,
            "max_height": null,
            "max_width": null,
            "min_height": null,
            "min_width": null,
            "object_fit": null,
            "object_position": null,
            "order": null,
            "overflow": null,
            "overflow_x": null,
            "overflow_y": null,
            "padding": null,
            "right": null,
            "top": null,
            "visibility": null,
            "width": null
          }
        },
        "8dd2b4c2d92045b885fdfa882d3c087b": {
          "model_module": "@jupyter-widgets/controls",
          "model_name": "SliderStyleModel",
          "model_module_version": "1.5.0",
          "state": {
            "_model_module": "@jupyter-widgets/controls",
            "_model_module_version": "1.5.0",
            "_model_name": "SliderStyleModel",
            "_view_count": null,
            "_view_module": "@jupyter-widgets/base",
            "_view_module_version": "1.2.0",
            "_view_name": "StyleView",
            "description_width": "",
            "handle_color": null
          }
        },
        "6f69b490b6b9478a81eb03f6aae0bb7d": {
          "model_module": "@jupyter-widgets/controls",
          "model_name": "FloatSliderModel",
          "model_module_version": "1.5.0",
          "state": {
            "_dom_classes": [],
            "_model_module": "@jupyter-widgets/controls",
            "_model_module_version": "1.5.0",
            "_model_name": "FloatSliderModel",
            "_view_count": null,
            "_view_module": "@jupyter-widgets/controls",
            "_view_module_version": "1.5.0",
            "_view_name": "FloatSliderView",
            "continuous_update": true,
            "description": "Factor B",
            "description_tooltip": null,
            "disabled": false,
            "layout": "IPY_MODEL_4102ec7bb56e4712839191cff63e0a0d",
            "max": 5,
            "min": 0.1,
            "orientation": "horizontal",
            "readout": true,
            "readout_format": ".2f",
            "step": 0.1,
            "style": "IPY_MODEL_b53497a7b51d472e942b7fc1a0e479c6",
            "value": 3
          }
        },
        "4102ec7bb56e4712839191cff63e0a0d": {
          "model_module": "@jupyter-widgets/base",
          "model_name": "LayoutModel",
          "model_module_version": "1.2.0",
          "state": {
            "_model_module": "@jupyter-widgets/base",
            "_model_module_version": "1.2.0",
            "_model_name": "LayoutModel",
            "_view_count": null,
            "_view_module": "@jupyter-widgets/base",
            "_view_module_version": "1.2.0",
            "_view_name": "LayoutView",
            "align_content": null,
            "align_items": null,
            "align_self": null,
            "border": null,
            "bottom": null,
            "display": null,
            "flex": null,
            "flex_flow": null,
            "grid_area": null,
            "grid_auto_columns": null,
            "grid_auto_flow": null,
            "grid_auto_rows": null,
            "grid_column": null,
            "grid_gap": null,
            "grid_row": null,
            "grid_template_areas": null,
            "grid_template_columns": null,
            "grid_template_rows": null,
            "height": null,
            "justify_content": null,
            "justify_items": null,
            "left": null,
            "margin": null,
            "max_height": null,
            "max_width": null,
            "min_height": null,
            "min_width": null,
            "object_fit": null,
            "object_position": null,
            "order": null,
            "overflow": null,
            "overflow_x": null,
            "overflow_y": null,
            "padding": null,
            "right": null,
            "top": null,
            "visibility": null,
            "width": null
          }
        },
        "b53497a7b51d472e942b7fc1a0e479c6": {
          "model_module": "@jupyter-widgets/controls",
          "model_name": "SliderStyleModel",
          "model_module_version": "1.5.0",
          "state": {
            "_model_module": "@jupyter-widgets/controls",
            "_model_module_version": "1.5.0",
            "_model_name": "SliderStyleModel",
            "_view_count": null,
            "_view_module": "@jupyter-widgets/base",
            "_view_module_version": "1.2.0",
            "_view_name": "StyleView",
            "description_width": "",
            "handle_color": null
          }
        },
        "0a3de49bc24a4a9dbecc19bcb13a8326": {
          "model_module": "@jupyter-widgets/controls",
          "model_name": "LabelModel",
          "model_module_version": "1.5.0",
          "state": {
            "_dom_classes": [],
            "_model_module": "@jupyter-widgets/controls",
            "_model_module_version": "1.5.0",
            "_model_name": "LabelModel",
            "_view_count": null,
            "_view_module": "@jupyter-widgets/controls",
            "_view_module_version": "1.5.0",
            "_view_name": "LabelView",
            "description": "",
            "description_tooltip": null,
            "layout": "IPY_MODEL_c9af93bcc25543faaa36359b99985398",
            "placeholder": "​",
            "style": "IPY_MODEL_9ab8d41bdc024dac8283da11bd0f7209",
            "value": "JPEG Compression"
          }
        },
        "9ab8d41bdc024dac8283da11bd0f7209": {
          "model_module": "@jupyter-widgets/controls",
          "model_name": "DescriptionStyleModel",
          "model_module_version": "1.5.0",
          "state": {
            "_model_module": "@jupyter-widgets/controls",
            "_model_module_version": "1.5.0",
            "_model_name": "DescriptionStyleModel",
            "_view_count": null,
            "_view_module": "@jupyter-widgets/base",
            "_view_module_version": "1.2.0",
            "_view_name": "StyleView",
            "description_width": ""
          }
        },
        "4bfeb398515347af9365115b8195a82b": {
          "model_module": "@jupyter-widgets/controls",
          "model_name": "IntSliderModel",
          "model_module_version": "1.5.0",
          "state": {
            "_dom_classes": [],
            "_model_module": "@jupyter-widgets/controls",
            "_model_module_version": "1.5.0",
            "_model_name": "IntSliderModel",
            "_view_count": null,
            "_view_module": "@jupyter-widgets/controls",
            "_view_module_version": "1.5.0",
            "_view_name": "IntSliderView",
            "continuous_update": true,
            "description": "Quality",
            "description_tooltip": null,
            "disabled": false,
            "layout": "IPY_MODEL_532567203b2f47a4986d39f443b763e0",
            "max": 100,
            "min": 1,
            "orientation": "horizontal",
            "readout": true,
            "readout_format": "d",
            "step": 5,
            "style": "IPY_MODEL_72c54499af74420a8400bdc6f3fc1816",
            "value": 50
          }
        },
        "532567203b2f47a4986d39f443b763e0": {
          "model_module": "@jupyter-widgets/base",
          "model_name": "LayoutModel",
          "model_module_version": "1.2.0",
          "state": {
            "_model_module": "@jupyter-widgets/base",
            "_model_module_version": "1.2.0",
            "_model_name": "LayoutModel",
            "_view_count": null,
            "_view_module": "@jupyter-widgets/base",
            "_view_module_version": "1.2.0",
            "_view_name": "LayoutView",
            "align_content": null,
            "align_items": null,
            "align_self": null,
            "border": null,
            "bottom": null,
            "display": null,
            "flex": null,
            "flex_flow": null,
            "grid_area": null,
            "grid_auto_columns": null,
            "grid_auto_flow": null,
            "grid_auto_rows": null,
            "grid_column": null,
            "grid_gap": null,
            "grid_row": null,
            "grid_template_areas": null,
            "grid_template_columns": null,
            "grid_template_rows": null,
            "height": null,
            "justify_content": null,
            "justify_items": null,
            "left": null,
            "margin": null,
            "max_height": null,
            "max_width": null,
            "min_height": null,
            "min_width": null,
            "object_fit": null,
            "object_position": null,
            "order": null,
            "overflow": null,
            "overflow_x": null,
            "overflow_y": null,
            "padding": null,
            "right": null,
            "top": null,
            "visibility": null,
            "width": null
          }
        },
        "72c54499af74420a8400bdc6f3fc1816": {
          "model_module": "@jupyter-widgets/controls",
          "model_name": "SliderStyleModel",
          "model_module_version": "1.5.0",
          "state": {
            "_model_module": "@jupyter-widgets/controls",
            "_model_module_version": "1.5.0",
            "_model_name": "SliderStyleModel",
            "_view_count": null,
            "_view_module": "@jupyter-widgets/base",
            "_view_module_version": "1.2.0",
            "_view_name": "StyleView",
            "description_width": "",
            "handle_color": null
          }
        },
        "a679216aedc44916beccdc41a74369f3": {
          "model_module": "@jupyter-widgets/controls",
          "model_name": "LabelModel",
          "model_module_version": "1.5.0",
          "state": {
            "_dom_classes": [],
            "_model_module": "@jupyter-widgets/controls",
            "_model_module_version": "1.5.0",
            "_model_name": "LabelModel",
            "_view_count": null,
            "_view_module": "@jupyter-widgets/controls",
            "_view_module_version": "1.5.0",
            "_view_name": "LabelView",
            "description": "",
            "description_tooltip": null,
            "layout": "IPY_MODEL_c9af93bcc25543faaa36359b99985398",
            "placeholder": "​",
            "style": "IPY_MODEL_36a792e36fa944fc8b169274fd8089e5",
            "value": "JPEG2000 Compression"
          }
        },
        "36a792e36fa944fc8b169274fd8089e5": {
          "model_module": "@jupyter-widgets/controls",
          "model_name": "DescriptionStyleModel",
          "model_module_version": "1.5.0",
          "state": {
            "_model_module": "@jupyter-widgets/controls",
            "_model_module_version": "1.5.0",
            "_model_name": "DescriptionStyleModel",
            "_view_count": null,
            "_view_module": "@jupyter-widgets/base",
            "_view_module_version": "1.2.0",
            "_view_name": "StyleView",
            "description_width": ""
          }
        },
        "28e9d7d3de914da0834c722ab02ce5aa": {
          "model_module": "@jupyter-widgets/controls",
          "model_name": "IntSliderModel",
          "model_module_version": "1.5.0",
          "state": {
            "_dom_classes": [],
            "_model_module": "@jupyter-widgets/controls",
            "_model_module_version": "1.5.0",
            "_model_name": "IntSliderModel",
            "_view_count": null,
            "_view_module": "@jupyter-widgets/controls",
            "_view_module_version": "1.5.0",
            "_view_name": "IntSliderView",
            "continuous_update": true,
            "description": "Compression Rate",
            "description_tooltip": null,
            "disabled": false,
            "layout": "IPY_MODEL_df8712046903431eae75f11626aaa0a7",
            "max": 1000,
            "min": 1,
            "orientation": "horizontal",
            "readout": true,
            "readout_format": "d",
            "step": 10,
            "style": "IPY_MODEL_c024ae19eeca43cc94c87c1a5c834067",
            "value": 100
          }
        },
        "df8712046903431eae75f11626aaa0a7": {
          "model_module": "@jupyter-widgets/base",
          "model_name": "LayoutModel",
          "model_module_version": "1.2.0",
          "state": {
            "_model_module": "@jupyter-widgets/base",
            "_model_module_version": "1.2.0",
            "_model_name": "LayoutModel",
            "_view_count": null,
            "_view_module": "@jupyter-widgets/base",
            "_view_module_version": "1.2.0",
            "_view_name": "LayoutView",
            "align_content": null,
            "align_items": null,
            "align_self": null,
            "border": null,
            "bottom": null,
            "display": null,
            "flex": null,
            "flex_flow": null,
            "grid_area": null,
            "grid_auto_columns": null,
            "grid_auto_flow": null,
            "grid_auto_rows": null,
            "grid_column": null,
            "grid_gap": null,
            "grid_row": null,
            "grid_template_areas": null,
            "grid_template_columns": null,
            "grid_template_rows": null,
            "height": null,
            "justify_content": null,
            "justify_items": null,
            "left": null,
            "margin": null,
            "max_height": null,
            "max_width": null,
            "min_height": null,
            "min_width": null,
            "object_fit": null,
            "object_position": null,
            "order": null,
            "overflow": null,
            "overflow_x": null,
            "overflow_y": null,
            "padding": null,
            "right": null,
            "top": null,
            "visibility": null,
            "width": null
          }
        },
        "c024ae19eeca43cc94c87c1a5c834067": {
          "model_module": "@jupyter-widgets/controls",
          "model_name": "SliderStyleModel",
          "model_module_version": "1.5.0",
          "state": {
            "_model_module": "@jupyter-widgets/controls",
            "_model_module_version": "1.5.0",
            "_model_name": "SliderStyleModel",
            "_view_count": null,
            "_view_module": "@jupyter-widgets/base",
            "_view_module_version": "1.2.0",
            "_view_name": "StyleView",
            "description_width": "",
            "handle_color": null
          }
        },
        "78e720809d604f6bbee815157a43d4a7": {
          "model_module": "@jupyter-widgets/controls",
          "model_name": "LabelModel",
          "model_module_version": "1.5.0",
          "state": {
            "_dom_classes": [],
            "_model_module": "@jupyter-widgets/controls",
            "_model_module_version": "1.5.0",
            "_model_name": "LabelModel",
            "_view_count": null,
            "_view_module": "@jupyter-widgets/controls",
            "_view_module_version": "1.5.0",
            "_view_name": "LabelView",
            "description": "",
            "description_tooltip": null,
            "layout": "IPY_MODEL_c9af93bcc25543faaa36359b99985398",
            "placeholder": "​",
            "style": "IPY_MODEL_1b61e0add764431ea742bc304ee03097",
            "value": "Shearing Warp"
          }
        },
        "1b61e0add764431ea742bc304ee03097": {
          "model_module": "@jupyter-widgets/controls",
          "model_name": "DescriptionStyleModel",
          "model_module_version": "1.5.0",
          "state": {
            "_model_module": "@jupyter-widgets/controls",
            "_model_module_version": "1.5.0",
            "_model_name": "DescriptionStyleModel",
            "_view_count": null,
            "_view_module": "@jupyter-widgets/base",
            "_view_module_version": "1.2.0",
            "_view_name": "StyleView",
            "description_width": ""
          }
        },
        "0d252f94118240c6a100a76af7f4c6ef": {
          "model_module": "@jupyter-widgets/controls",
          "model_name": "FloatSliderModel",
          "model_module_version": "1.5.0",
          "state": {
            "_dom_classes": [],
            "_model_module": "@jupyter-widgets/controls",
            "_model_module_version": "1.5.0",
            "_model_name": "FloatSliderModel",
            "_view_count": null,
            "_view_module": "@jupyter-widgets/controls",
            "_view_module_version": "1.5.0",
            "_view_name": "FloatSliderView",
            "continuous_update": true,
            "description": "shearing_x",
            "description_tooltip": null,
            "disabled": false,
            "layout": "IPY_MODEL_562bfa05edd3467f9c9064f1ad6b1470",
            "max": 0.3,
            "min": -0.3,
            "orientation": "horizontal",
            "readout": true,
            "readout_format": ".2f",
            "step": 0.05,
            "style": "IPY_MODEL_e334dea141a64f43889175c65731be38",
            "value": 0
          }
        },
        "562bfa05edd3467f9c9064f1ad6b1470": {
          "model_module": "@jupyter-widgets/base",
          "model_name": "LayoutModel",
          "model_module_version": "1.2.0",
          "state": {
            "_model_module": "@jupyter-widgets/base",
            "_model_module_version": "1.2.0",
            "_model_name": "LayoutModel",
            "_view_count": null,
            "_view_module": "@jupyter-widgets/base",
            "_view_module_version": "1.2.0",
            "_view_name": "LayoutView",
            "align_content": null,
            "align_items": null,
            "align_self": null,
            "border": null,
            "bottom": null,
            "display": null,
            "flex": null,
            "flex_flow": null,
            "grid_area": null,
            "grid_auto_columns": null,
            "grid_auto_flow": null,
            "grid_auto_rows": null,
            "grid_column": null,
            "grid_gap": null,
            "grid_row": null,
            "grid_template_areas": null,
            "grid_template_columns": null,
            "grid_template_rows": null,
            "height": null,
            "justify_content": null,
            "justify_items": null,
            "left": null,
            "margin": null,
            "max_height": null,
            "max_width": null,
            "min_height": null,
            "min_width": null,
            "object_fit": null,
            "object_position": null,
            "order": null,
            "overflow": null,
            "overflow_x": null,
            "overflow_y": null,
            "padding": null,
            "right": null,
            "top": null,
            "visibility": null,
            "width": null
          }
        },
        "e334dea141a64f43889175c65731be38": {
          "model_module": "@jupyter-widgets/controls",
          "model_name": "SliderStyleModel",
          "model_module_version": "1.5.0",
          "state": {
            "_model_module": "@jupyter-widgets/controls",
            "_model_module_version": "1.5.0",
            "_model_name": "SliderStyleModel",
            "_view_count": null,
            "_view_module": "@jupyter-widgets/base",
            "_view_module_version": "1.2.0",
            "_view_name": "StyleView",
            "description_width": "",
            "handle_color": null
          }
        },
        "afb63249b58f4d4c9d1782c1dc8fc1ba": {
          "model_module": "@jupyter-widgets/controls",
          "model_name": "FloatSliderModel",
          "model_module_version": "1.5.0",
          "state": {
            "_dom_classes": [],
            "_model_module": "@jupyter-widgets/controls",
            "_model_module_version": "1.5.0",
            "_model_name": "FloatSliderModel",
            "_view_count": null,
            "_view_module": "@jupyter-widgets/controls",
            "_view_module_version": "1.5.0",
            "_view_name": "FloatSliderView",
            "continuous_update": true,
            "description": "shearing_y",
            "description_tooltip": null,
            "disabled": false,
            "layout": "IPY_MODEL_1013adcde4874c9a8b27d36746359300",
            "max": 0.3,
            "min": -0.3,
            "orientation": "horizontal",
            "readout": true,
            "readout_format": ".2f",
            "step": 0.05,
            "style": "IPY_MODEL_013cd07c229c4733b038ab7d87924a5d",
            "value": 0
          }
        },
        "1013adcde4874c9a8b27d36746359300": {
          "model_module": "@jupyter-widgets/base",
          "model_name": "LayoutModel",
          "model_module_version": "1.2.0",
          "state": {
            "_model_module": "@jupyter-widgets/base",
            "_model_module_version": "1.2.0",
            "_model_name": "LayoutModel",
            "_view_count": null,
            "_view_module": "@jupyter-widgets/base",
            "_view_module_version": "1.2.0",
            "_view_name": "LayoutView",
            "align_content": null,
            "align_items": null,
            "align_self": null,
            "border": null,
            "bottom": null,
            "display": null,
            "flex": null,
            "flex_flow": null,
            "grid_area": null,
            "grid_auto_columns": null,
            "grid_auto_flow": null,
            "grid_auto_rows": null,
            "grid_column": null,
            "grid_gap": null,
            "grid_row": null,
            "grid_template_areas": null,
            "grid_template_columns": null,
            "grid_template_rows": null,
            "height": null,
            "justify_content": null,
            "justify_items": null,
            "left": null,
            "margin": null,
            "max_height": null,
            "max_width": null,
            "min_height": null,
            "min_width": null,
            "object_fit": null,
            "object_position": null,
            "order": null,
            "overflow": null,
            "overflow_x": null,
            "overflow_y": null,
            "padding": null,
            "right": null,
            "top": null,
            "visibility": null,
            "width": null
          }
        },
        "013cd07c229c4733b038ab7d87924a5d": {
          "model_module": "@jupyter-widgets/controls",
          "model_name": "SliderStyleModel",
          "model_module_version": "1.5.0",
          "state": {
            "_model_module": "@jupyter-widgets/controls",
            "_model_module_version": "1.5.0",
            "_model_name": "SliderStyleModel",
            "_view_count": null,
            "_view_module": "@jupyter-widgets/base",
            "_view_module_version": "1.2.0",
            "_view_name": "StyleView",
            "description_width": "",
            "handle_color": null
          }
        },
        "bc8b1c9da640417a81295402b511e923": {
          "model_module": "@jupyter-widgets/controls",
          "model_name": "LabelModel",
          "model_module_version": "1.5.0",
          "state": {
            "_dom_classes": [],
            "_model_module": "@jupyter-widgets/controls",
            "_model_module_version": "1.5.0",
            "_model_name": "LabelModel",
            "_view_count": null,
            "_view_module": "@jupyter-widgets/controls",
            "_view_module_version": "1.5.0",
            "_view_name": "LabelView",
            "description": "",
            "description_tooltip": null,
            "layout": "IPY_MODEL_c9af93bcc25543faaa36359b99985398",
            "placeholder": "​",
            "style": "IPY_MODEL_6dc5fe9f5a7f44a195ab35057381914d",
            "value": "Elastic Warp"
          }
        },
        "6dc5fe9f5a7f44a195ab35057381914d": {
          "model_module": "@jupyter-widgets/controls",
          "model_name": "DescriptionStyleModel",
          "model_module_version": "1.5.0",
          "state": {
            "_model_module": "@jupyter-widgets/controls",
            "_model_module_version": "1.5.0",
            "_model_name": "DescriptionStyleModel",
            "_view_count": null,
            "_view_module": "@jupyter-widgets/base",
            "_view_module_version": "1.2.0",
            "_view_name": "StyleView",
            "description_width": ""
          }
        },
        "42eccd9266494e6489ce20816a9954b7": {
          "model_module": "@jupyter-widgets/controls",
          "model_name": "FloatSliderModel",
          "model_module_version": "1.5.0",
          "state": {
            "_dom_classes": [],
            "_model_module": "@jupyter-widgets/controls",
            "_model_module_version": "1.5.0",
            "_model_name": "FloatSliderModel",
            "_view_count": null,
            "_view_module": "@jupyter-widgets/controls",
            "_view_module_version": "1.5.0",
            "_view_name": "FloatSliderView",
            "continuous_update": true,
            "description": "elastic_alpha",
            "description_tooltip": null,
            "disabled": false,
            "layout": "IPY_MODEL_ef425e5669744b6bba8f0d7132b551ea",
            "max": 1,
            "min": 0,
            "orientation": "horizontal",
            "readout": true,
            "readout_format": ".2f",
            "step": 0.01,
            "style": "IPY_MODEL_ff277f4a650d42cca9842454abf9ad1e",
            "value": 0.5
          }
        },
        "ef425e5669744b6bba8f0d7132b551ea": {
          "model_module": "@jupyter-widgets/base",
          "model_name": "LayoutModel",
          "model_module_version": "1.2.0",
          "state": {
            "_model_module": "@jupyter-widgets/base",
            "_model_module_version": "1.2.0",
            "_model_name": "LayoutModel",
            "_view_count": null,
            "_view_module": "@jupyter-widgets/base",
            "_view_module_version": "1.2.0",
            "_view_name": "LayoutView",
            "align_content": null,
            "align_items": null,
            "align_self": null,
            "border": null,
            "bottom": null,
            "display": null,
            "flex": null,
            "flex_flow": null,
            "grid_area": null,
            "grid_auto_columns": null,
            "grid_auto_flow": null,
            "grid_auto_rows": null,
            "grid_column": null,
            "grid_gap": null,
            "grid_row": null,
            "grid_template_areas": null,
            "grid_template_columns": null,
            "grid_template_rows": null,
            "height": null,
            "justify_content": null,
            "justify_items": null,
            "left": null,
            "margin": null,
            "max_height": null,
            "max_width": null,
            "min_height": null,
            "min_width": null,
            "object_fit": null,
            "object_position": null,
            "order": null,
            "overflow": null,
            "overflow_x": null,
            "overflow_y": null,
            "padding": null,
            "right": null,
            "top": null,
            "visibility": null,
            "width": null
          }
        },
        "ff277f4a650d42cca9842454abf9ad1e": {
          "model_module": "@jupyter-widgets/controls",
          "model_name": "SliderStyleModel",
          "model_module_version": "1.5.0",
          "state": {
            "_model_module": "@jupyter-widgets/controls",
            "_model_module_version": "1.5.0",
            "_model_name": "SliderStyleModel",
            "_view_count": null,
            "_view_module": "@jupyter-widgets/base",
            "_view_module_version": "1.2.0",
            "_view_name": "StyleView",
            "description_width": "",
            "handle_color": null
          }
        },
        "ef0264441ad9494581ab1ebb60252615": {
          "model_module": "@jupyter-widgets/controls",
          "model_name": "LabelModel",
          "model_module_version": "1.5.0",
          "state": {
            "_dom_classes": [],
            "_model_module": "@jupyter-widgets/controls",
            "_model_module_version": "1.5.0",
            "_model_name": "LabelModel",
            "_view_count": null,
            "_view_module": "@jupyter-widgets/controls",
            "_view_module_version": "1.5.0",
            "_view_name": "LabelView",
            "description": "",
            "description_tooltip": null,
            "layout": "IPY_MODEL_c9af93bcc25543faaa36359b99985398",
            "placeholder": "​",
            "style": "IPY_MODEL_5971b33b493442d58802cd26f1bafe63",
            "value": "Bilinear Interpolation"
          }
        },
        "5971b33b493442d58802cd26f1bafe63": {
          "model_module": "@jupyter-widgets/controls",
          "model_name": "DescriptionStyleModel",
          "model_module_version": "1.5.0",
          "state": {
            "_model_module": "@jupyter-widgets/controls",
            "_model_module_version": "1.5.0",
            "_model_name": "DescriptionStyleModel",
            "_view_count": null,
            "_view_module": "@jupyter-widgets/base",
            "_view_module_version": "1.2.0",
            "_view_name": "StyleView",
            "description_width": ""
          }
        },
        "c0b6418e0dd2416ba03fe0965ebac775": {
          "model_module": "@jupyter-widgets/controls",
          "model_name": "FloatSliderModel",
          "model_module_version": "1.5.0",
          "state": {
            "_dom_classes": [],
            "_model_module": "@jupyter-widgets/controls",
            "_model_module_version": "1.5.0",
            "_model_name": "FloatSliderModel",
            "_view_count": null,
            "_view_module": "@jupyter-widgets/controls",
            "_view_module_version": "1.5.0",
            "_view_name": "FloatSliderView",
            "continuous_update": true,
            "description": "scale_interpolation",
            "description_tooltip": null,
            "disabled": false,
            "layout": "IPY_MODEL_20202139dd1440b58497fbc065af65a9",
            "max": 1,
            "min": 0.01,
            "orientation": "horizontal",
            "readout": true,
            "readout_format": ".2f",
            "step": 0.05,
            "style": "IPY_MODEL_7a633a433c2d4654819bc955285d943c",
            "value": 1
          }
        },
        "20202139dd1440b58497fbc065af65a9": {
          "model_module": "@jupyter-widgets/base",
          "model_name": "LayoutModel",
          "model_module_version": "1.2.0",
          "state": {
            "_model_module": "@jupyter-widgets/base",
            "_model_module_version": "1.2.0",
            "_model_name": "LayoutModel",
            "_view_count": null,
            "_view_module": "@jupyter-widgets/base",
            "_view_module_version": "1.2.0",
            "_view_name": "LayoutView",
            "align_content": null,
            "align_items": null,
            "align_self": null,
            "border": null,
            "bottom": null,
            "display": null,
            "flex": null,
            "flex_flow": null,
            "grid_area": null,
            "grid_auto_columns": null,
            "grid_auto_flow": null,
            "grid_auto_rows": null,
            "grid_column": null,
            "grid_gap": null,
            "grid_row": null,
            "grid_template_areas": null,
            "grid_template_columns": null,
            "grid_template_rows": null,
            "height": null,
            "justify_content": null,
            "justify_items": null,
            "left": null,
            "margin": null,
            "max_height": null,
            "max_width": null,
            "min_height": null,
            "min_width": null,
            "object_fit": null,
            "object_position": null,
            "order": null,
            "overflow": null,
            "overflow_x": null,
            "overflow_y": null,
            "padding": null,
            "right": null,
            "top": null,
            "visibility": null,
            "width": null
          }
        },
        "7a633a433c2d4654819bc955285d943c": {
          "model_module": "@jupyter-widgets/controls",
          "model_name": "SliderStyleModel",
          "model_module_version": "1.5.0",
          "state": {
            "_model_module": "@jupyter-widgets/controls",
            "_model_module_version": "1.5.0",
            "_model_name": "SliderStyleModel",
            "_view_count": null,
            "_view_module": "@jupyter-widgets/base",
            "_view_module_version": "1.2.0",
            "_view_name": "StyleView",
            "description_width": "",
            "handle_color": null
          }
        },
        "33fea2d12de142bc9c909dc0d683cfe1": {
          "model_module": "@jupyter-widgets/controls",
          "model_name": "LabelModel",
          "model_module_version": "1.5.0",
          "state": {
            "_dom_classes": [],
            "_model_module": "@jupyter-widgets/controls",
            "_model_module_version": "1.5.0",
            "_model_name": "LabelModel",
            "_view_count": null,
            "_view_module": "@jupyter-widgets/controls",
            "_view_module_version": "1.5.0",
            "_view_name": "LabelView",
            "description": "",
            "description_tooltip": null,
            "layout": "IPY_MODEL_c9af93bcc25543faaa36359b99985398",
            "placeholder": "​",
            "style": "IPY_MODEL_4f76c4b42f0840a3a0f308133fd9a299",
            "value": "Unsharp Mask"
          }
        },
        "4f76c4b42f0840a3a0f308133fd9a299": {
          "model_module": "@jupyter-widgets/controls",
          "model_name": "DescriptionStyleModel",
          "model_module_version": "1.5.0",
          "state": {
            "_model_module": "@jupyter-widgets/controls",
            "_model_module_version": "1.5.0",
            "_model_name": "DescriptionStyleModel",
            "_view_count": null,
            "_view_module": "@jupyter-widgets/base",
            "_view_module_version": "1.2.0",
            "_view_name": "StyleView",
            "description_width": ""
          }
        },
        "5c520ae2a0a24f0084604f54865a30c1": {
          "model_module": "@jupyter-widgets/controls",
          "model_name": "FloatSliderModel",
          "model_module_version": "1.5.0",
          "state": {
            "_dom_classes": [],
            "_model_module": "@jupyter-widgets/controls",
            "_model_module_version": "1.5.0",
            "_model_name": "FloatSliderModel",
            "_view_count": null,
            "_view_module": "@jupyter-widgets/controls",
            "_view_module_version": "1.5.0",
            "_view_name": "FloatSliderView",
            "continuous_update": true,
            "description": "intensity_unsharp",
            "description_tooltip": null,
            "disabled": false,
            "layout": "IPY_MODEL_b8db154b5a414c1b9fa191f98ab22507",
            "max": 5,
            "min": 0,
            "orientation": "horizontal",
            "readout": true,
            "readout_format": ".2f",
            "step": 0.1,
            "style": "IPY_MODEL_36af8d007bd0451b9d2b3c34c8ae9b60",
            "value": 1
          }
        },
        "b8db154b5a414c1b9fa191f98ab22507": {
          "model_module": "@jupyter-widgets/base",
          "model_name": "LayoutModel",
          "model_module_version": "1.2.0",
          "state": {
            "_model_module": "@jupyter-widgets/base",
            "_model_module_version": "1.2.0",
            "_model_name": "LayoutModel",
            "_view_count": null,
            "_view_module": "@jupyter-widgets/base",
            "_view_module_version": "1.2.0",
            "_view_name": "LayoutView",
            "align_content": null,
            "align_items": null,
            "align_self": null,
            "border": null,
            "bottom": null,
            "display": null,
            "flex": null,
            "flex_flow": null,
            "grid_area": null,
            "grid_auto_columns": null,
            "grid_auto_flow": null,
            "grid_auto_rows": null,
            "grid_column": null,
            "grid_gap": null,
            "grid_row": null,
            "grid_template_areas": null,
            "grid_template_columns": null,
            "grid_template_rows": null,
            "height": null,
            "justify_content": null,
            "justify_items": null,
            "left": null,
            "margin": null,
            "max_height": null,
            "max_width": null,
            "min_height": null,
            "min_width": null,
            "object_fit": null,
            "object_position": null,
            "order": null,
            "overflow": null,
            "overflow_x": null,
            "overflow_y": null,
            "padding": null,
            "right": null,
            "top": null,
            "visibility": null,
            "width": null
          }
        },
        "36af8d007bd0451b9d2b3c34c8ae9b60": {
          "model_module": "@jupyter-widgets/controls",
          "model_name": "SliderStyleModel",
          "model_module_version": "1.5.0",
          "state": {
            "_model_module": "@jupyter-widgets/controls",
            "_model_module_version": "1.5.0",
            "_model_name": "SliderStyleModel",
            "_view_count": null,
            "_view_module": "@jupyter-widgets/base",
            "_view_module_version": "1.2.0",
            "_view_name": "StyleView",
            "description_width": "",
            "handle_color": null
          }
        },
        "194fe8d7f3cf4c76ac2392863efcb4d0": {
          "model_module": "@jupyter-widgets/controls",
          "model_name": "LabelModel",
          "model_module_version": "1.5.0",
          "state": {
            "_dom_classes": [],
            "_model_module": "@jupyter-widgets/controls",
            "_model_module_version": "1.5.0",
            "_model_name": "LabelModel",
            "_view_count": null,
            "_view_module": "@jupyter-widgets/controls",
            "_view_module_version": "1.5.0",
            "_view_name": "LabelView",
            "description": "",
            "description_tooltip": null,
            "layout": "IPY_MODEL_c9af93bcc25543faaa36359b99985398",
            "placeholder": "​",
            "style": "IPY_MODEL_707bb2d308d94afda952af0551ed0520",
            "value": "Mult Contrast"
          }
        },
        "707bb2d308d94afda952af0551ed0520": {
          "model_module": "@jupyter-widgets/controls",
          "model_name": "DescriptionStyleModel",
          "model_module_version": "1.5.0",
          "state": {
            "_model_module": "@jupyter-widgets/controls",
            "_model_module_version": "1.5.0",
            "_model_name": "DescriptionStyleModel",
            "_view_count": null,
            "_view_module": "@jupyter-widgets/base",
            "_view_module_version": "1.2.0",
            "_view_name": "StyleView",
            "description_width": ""
          }
        },
        "4e859674c23642bdba610ad4d73356b4": {
          "model_module": "@jupyter-widgets/controls",
          "model_name": "FloatSliderModel",
          "model_module_version": "1.5.0",
          "state": {
            "_dom_classes": [],
            "_model_module": "@jupyter-widgets/controls",
            "_model_module_version": "1.5.0",
            "_model_name": "FloatSliderModel",
            "_view_count": null,
            "_view_module": "@jupyter-widgets/controls",
            "_view_module_version": "1.5.0",
            "_view_name": "FloatSliderView",
            "continuous_update": true,
            "description": "intensity_contrast",
            "description_tooltip": null,
            "disabled": false,
            "layout": "IPY_MODEL_c03c287ebf1b4359b7f0b7242a52f04f",
            "max": 5,
            "min": 0,
            "orientation": "horizontal",
            "readout": true,
            "readout_format": ".2f",
            "step": 0.1,
            "style": "IPY_MODEL_effc8d9c2c094b7cae2664f651074dac",
            "value": 1
          }
        },
        "c03c287ebf1b4359b7f0b7242a52f04f": {
          "model_module": "@jupyter-widgets/base",
          "model_name": "LayoutModel",
          "model_module_version": "1.2.0",
          "state": {
            "_model_module": "@jupyter-widgets/base",
            "_model_module_version": "1.2.0",
            "_model_name": "LayoutModel",
            "_view_count": null,
            "_view_module": "@jupyter-widgets/base",
            "_view_module_version": "1.2.0",
            "_view_name": "LayoutView",
            "align_content": null,
            "align_items": null,
            "align_self": null,
            "border": null,
            "bottom": null,
            "display": null,
            "flex": null,
            "flex_flow": null,
            "grid_area": null,
            "grid_auto_columns": null,
            "grid_auto_flow": null,
            "grid_auto_rows": null,
            "grid_column": null,
            "grid_gap": null,
            "grid_row": null,
            "grid_template_areas": null,
            "grid_template_columns": null,
            "grid_template_rows": null,
            "height": null,
            "justify_content": null,
            "justify_items": null,
            "left": null,
            "margin": null,
            "max_height": null,
            "max_width": null,
            "min_height": null,
            "min_width": null,
            "object_fit": null,
            "object_position": null,
            "order": null,
            "overflow": null,
            "overflow_x": null,
            "overflow_y": null,
            "padding": null,
            "right": null,
            "top": null,
            "visibility": null,
            "width": null
          }
        },
        "effc8d9c2c094b7cae2664f651074dac": {
          "model_module": "@jupyter-widgets/controls",
          "model_name": "SliderStyleModel",
          "model_module_version": "1.5.0",
          "state": {
            "_model_module": "@jupyter-widgets/controls",
            "_model_module_version": "1.5.0",
            "_model_name": "SliderStyleModel",
            "_view_count": null,
            "_view_module": "@jupyter-widgets/base",
            "_view_module_version": "1.2.0",
            "_view_name": "StyleView",
            "description_width": "",
            "handle_color": null
          }
        },
        "0c717cb733b04314ba01c9fcaee09e6c": {
          "model_module": "@jupyter-widgets/controls",
          "model_name": "LabelModel",
          "model_module_version": "1.5.0",
          "state": {
            "_dom_classes": [],
            "_model_module": "@jupyter-widgets/controls",
            "_model_module_version": "1.5.0",
            "_model_name": "LabelModel",
            "_view_count": null,
            "_view_module": "@jupyter-widgets/controls",
            "_view_module_version": "1.5.0",
            "_view_name": "LabelView",
            "description": "",
            "description_tooltip": null,
            "layout": "IPY_MODEL_c9af93bcc25543faaa36359b99985398",
            "placeholder": "​",
            "style": "IPY_MODEL_9735f7f931ae4b73a032745700d4e3c2",
            "value": "Global Brightness"
          }
        },
        "9735f7f931ae4b73a032745700d4e3c2": {
          "model_module": "@jupyter-widgets/controls",
          "model_name": "DescriptionStyleModel",
          "model_module_version": "1.5.0",
          "state": {
            "_model_module": "@jupyter-widgets/controls",
            "_model_module_version": "1.5.0",
            "_model_name": "DescriptionStyleModel",
            "_view_count": null,
            "_view_module": "@jupyter-widgets/base",
            "_view_module_version": "1.2.0",
            "_view_name": "StyleView",
            "description_width": ""
          }
        },
        "71812ad442e34e48adebf1d8a5446a30": {
          "model_module": "@jupyter-widgets/controls",
          "model_name": "FloatSliderModel",
          "model_module_version": "1.5.0",
          "state": {
            "_dom_classes": [],
            "_model_module": "@jupyter-widgets/controls",
            "_model_module_version": "1.5.0",
            "_model_name": "FloatSliderModel",
            "_view_count": null,
            "_view_module": "@jupyter-widgets/controls",
            "_view_module_version": "1.5.0",
            "_view_name": "FloatSliderView",
            "continuous_update": true,
            "description": "percent_brigthness",
            "description_tooltip": null,
            "disabled": false,
            "layout": "IPY_MODEL_79be2dc3fd1844cb9d797d46abaa7d19",
            "max": 0.5,
            "min": -0.5,
            "orientation": "horizontal",
            "readout": true,
            "readout_format": ".2f",
            "step": 0.01,
            "style": "IPY_MODEL_c3933bba0e4845fea3f1d3ddecd58353",
            "value": 0
          }
        },
        "79be2dc3fd1844cb9d797d46abaa7d19": {
          "model_module": "@jupyter-widgets/base",
          "model_name": "LayoutModel",
          "model_module_version": "1.2.0",
          "state": {
            "_model_module": "@jupyter-widgets/base",
            "_model_module_version": "1.2.0",
            "_model_name": "LayoutModel",
            "_view_count": null,
            "_view_module": "@jupyter-widgets/base",
            "_view_module_version": "1.2.0",
            "_view_name": "LayoutView",
            "align_content": null,
            "align_items": null,
            "align_self": null,
            "border": null,
            "bottom": null,
            "display": null,
            "flex": null,
            "flex_flow": null,
            "grid_area": null,
            "grid_auto_columns": null,
            "grid_auto_flow": null,
            "grid_auto_rows": null,
            "grid_column": null,
            "grid_gap": null,
            "grid_row": null,
            "grid_template_areas": null,
            "grid_template_columns": null,
            "grid_template_rows": null,
            "height": null,
            "justify_content": null,
            "justify_items": null,
            "left": null,
            "margin": null,
            "max_height": null,
            "max_width": null,
            "min_height": null,
            "min_width": null,
            "object_fit": null,
            "object_position": null,
            "order": null,
            "overflow": null,
            "overflow_x": null,
            "overflow_y": null,
            "padding": null,
            "right": null,
            "top": null,
            "visibility": null,
            "width": null
          }
        },
        "c3933bba0e4845fea3f1d3ddecd58353": {
          "model_module": "@jupyter-widgets/controls",
          "model_name": "SliderStyleModel",
          "model_module_version": "1.5.0",
          "state": {
            "_model_module": "@jupyter-widgets/controls",
            "_model_module_version": "1.5.0",
            "_model_name": "SliderStyleModel",
            "_view_count": null,
            "_view_module": "@jupyter-widgets/base",
            "_view_module_version": "1.2.0",
            "_view_name": "StyleView",
            "description_width": "",
            "handle_color": null
          }
        },
        "690705772ea944e4a554f551a2a1ea9b": {
          "model_module": "@jupyter-widgets/controls",
          "model_name": "LabelModel",
          "model_module_version": "1.5.0",
          "state": {
            "_dom_classes": [],
            "_model_module": "@jupyter-widgets/controls",
            "_model_module_version": "1.5.0",
            "_model_name": "LabelModel",
            "_view_count": null,
            "_view_module": "@jupyter-widgets/controls",
            "_view_module_version": "1.5.0",
            "_view_name": "LabelView",
            "description": "",
            "description_tooltip": null,
            "layout": "IPY_MODEL_c9af93bcc25543faaa36359b99985398",
            "placeholder": "​",
            "style": "IPY_MODEL_7644adf24b094e9fabae4b69e536cb4c",
            "value": "Gamma Correction"
          }
        },
        "7644adf24b094e9fabae4b69e536cb4c": {
          "model_module": "@jupyter-widgets/controls",
          "model_name": "DescriptionStyleModel",
          "model_module_version": "1.5.0",
          "state": {
            "_model_module": "@jupyter-widgets/controls",
            "_model_module_version": "1.5.0",
            "_model_name": "DescriptionStyleModel",
            "_view_count": null,
            "_view_module": "@jupyter-widgets/base",
            "_view_module_version": "1.2.0",
            "_view_name": "StyleView",
            "description_width": ""
          }
        },
        "97d65e3225504be8a61bc39b3b85958a": {
          "model_module": "@jupyter-widgets/controls",
          "model_name": "FloatSliderModel",
          "model_module_version": "1.5.0",
          "state": {
            "_dom_classes": [],
            "_model_module": "@jupyter-widgets/controls",
            "_model_module_version": "1.5.0",
            "_model_name": "FloatSliderModel",
            "_view_count": null,
            "_view_module": "@jupyter-widgets/controls",
            "_view_module_version": "1.5.0",
            "_view_name": "FloatSliderView",
            "continuous_update": true,
            "description": "gamma_correction",
            "description_tooltip": null,
            "disabled": false,
            "layout": "IPY_MODEL_014894f58c1f4d13a8df46d800fa7795",
            "max": 5,
            "min": 0,
            "orientation": "horizontal",
            "readout": true,
            "readout_format": ".2f",
            "step": 0.1,
            "style": "IPY_MODEL_5e520659fdb24b62a1a0141f8bb4d85e",
            "value": 1
          }
        },
        "014894f58c1f4d13a8df46d800fa7795": {
          "model_module": "@jupyter-widgets/base",
          "model_name": "LayoutModel",
          "model_module_version": "1.2.0",
          "state": {
            "_model_module": "@jupyter-widgets/base",
            "_model_module_version": "1.2.0",
            "_model_name": "LayoutModel",
            "_view_count": null,
            "_view_module": "@jupyter-widgets/base",
            "_view_module_version": "1.2.0",
            "_view_name": "LayoutView",
            "align_content": null,
            "align_items": null,
            "align_self": null,
            "border": null,
            "bottom": null,
            "display": null,
            "flex": null,
            "flex_flow": null,
            "grid_area": null,
            "grid_auto_columns": null,
            "grid_auto_flow": null,
            "grid_auto_rows": null,
            "grid_column": null,
            "grid_gap": null,
            "grid_row": null,
            "grid_template_areas": null,
            "grid_template_columns": null,
            "grid_template_rows": null,
            "height": null,
            "justify_content": null,
            "justify_items": null,
            "left": null,
            "margin": null,
            "max_height": null,
            "max_width": null,
            "min_height": null,
            "min_width": null,
            "object_fit": null,
            "object_position": null,
            "order": null,
            "overflow": null,
            "overflow_x": null,
            "overflow_y": null,
            "padding": null,
            "right": null,
            "top": null,
            "visibility": null,
            "width": null
          }
        },
        "5e520659fdb24b62a1a0141f8bb4d85e": {
          "model_module": "@jupyter-widgets/controls",
          "model_name": "SliderStyleModel",
          "model_module_version": "1.5.0",
          "state": {
            "_model_module": "@jupyter-widgets/controls",
            "_model_module_version": "1.5.0",
            "_model_name": "SliderStyleModel",
            "_view_count": null,
            "_view_module": "@jupyter-widgets/base",
            "_view_module_version": "1.2.0",
            "_view_name": "StyleView",
            "description_width": "",
            "handle_color": null
          }
        },
        "a119cc42c1f54ce489718a8e389857ce": {
          "model_module": "@jupyter-widgets/controls",
          "model_name": "LabelModel",
          "model_module_version": "1.5.0",
          "state": {
            "_dom_classes": [],
            "_model_module": "@jupyter-widgets/controls",
            "_model_module_version": "1.5.0",
            "_model_name": "LabelModel",
            "_view_count": null,
            "_view_module": "@jupyter-widgets/controls",
            "_view_module_version": "1.5.0",
            "_view_name": "LabelView",
            "description": "",
            "description_tooltip": null,
            "layout": "IPY_MODEL_c9af93bcc25543faaa36359b99985398",
            "placeholder": "​",
            "style": "IPY_MODEL_8a9b8f1edc6a41f193ede6850a8d0d83",
            "value": "Random Local Changing Brightness"
          }
        },
        "8a9b8f1edc6a41f193ede6850a8d0d83": {
          "model_module": "@jupyter-widgets/controls",
          "model_name": "DescriptionStyleModel",
          "model_module_version": "1.5.0",
          "state": {
            "_model_module": "@jupyter-widgets/controls",
            "_model_module_version": "1.5.0",
            "_model_name": "DescriptionStyleModel",
            "_view_count": null,
            "_view_module": "@jupyter-widgets/base",
            "_view_module_version": "1.2.0",
            "_view_name": "StyleView",
            "description_width": ""
          }
        },
        "a54d10c7290f4cd6a88438b6bd439073": {
          "model_module": "@jupyter-widgets/controls",
          "model_name": "IntSliderModel",
          "model_module_version": "1.5.0",
          "state": {
            "_dom_classes": [],
            "_model_module": "@jupyter-widgets/controls",
            "_model_module_version": "1.5.0",
            "_model_name": "IntSliderModel",
            "_view_count": null,
            "_view_module": "@jupyter-widgets/controls",
            "_view_module_version": "1.5.0",
            "_view_name": "IntSliderView",
            "continuous_update": true,
            "description": "n",
            "description_tooltip": null,
            "disabled": false,
            "layout": "IPY_MODEL_528298865cd942409f1f094a8553b003",
            "max": 5,
            "min": 1,
            "orientation": "horizontal",
            "readout": true,
            "readout_format": "d",
            "step": 1,
            "style": "IPY_MODEL_f80d7bafb02a437dafa4ad378675d29a",
            "value": 1
          }
        },
        "528298865cd942409f1f094a8553b003": {
          "model_module": "@jupyter-widgets/base",
          "model_name": "LayoutModel",
          "model_module_version": "1.2.0",
          "state": {
            "_model_module": "@jupyter-widgets/base",
            "_model_module_version": "1.2.0",
            "_model_name": "LayoutModel",
            "_view_count": null,
            "_view_module": "@jupyter-widgets/base",
            "_view_module_version": "1.2.0",
            "_view_name": "LayoutView",
            "align_content": null,
            "align_items": null,
            "align_self": null,
            "border": null,
            "bottom": null,
            "display": null,
            "flex": null,
            "flex_flow": null,
            "grid_area": null,
            "grid_auto_columns": null,
            "grid_auto_flow": null,
            "grid_auto_rows": null,
            "grid_column": null,
            "grid_gap": null,
            "grid_row": null,
            "grid_template_areas": null,
            "grid_template_columns": null,
            "grid_template_rows": null,
            "height": null,
            "justify_content": null,
            "justify_items": null,
            "left": null,
            "margin": null,
            "max_height": null,
            "max_width": null,
            "min_height": null,
            "min_width": null,
            "object_fit": null,
            "object_position": null,
            "order": null,
            "overflow": null,
            "overflow_x": null,
            "overflow_y": null,
            "padding": null,
            "right": null,
            "top": null,
            "visibility": null,
            "width": null
          }
        },
        "f80d7bafb02a437dafa4ad378675d29a": {
          "model_module": "@jupyter-widgets/controls",
          "model_name": "SliderStyleModel",
          "model_module_version": "1.5.0",
          "state": {
            "_model_module": "@jupyter-widgets/controls",
            "_model_module_version": "1.5.0",
            "_model_name": "SliderStyleModel",
            "_view_count": null,
            "_view_module": "@jupyter-widgets/base",
            "_view_module_version": "1.2.0",
            "_view_name": "StyleView",
            "description_width": "",
            "handle_color": null
          }
        },
        "b365cdc23e6f4b8eaa025bc3cc9df6e5": {
          "model_module": "@jupyter-widgets/controls",
          "model_name": "FloatSliderModel",
          "model_module_version": "1.5.0",
          "state": {
            "_dom_classes": [],
            "_model_module": "@jupyter-widgets/controls",
            "_model_module_version": "1.5.0",
            "_model_name": "FloatSliderModel",
            "_view_count": null,
            "_view_module": "@jupyter-widgets/controls",
            "_view_module_version": "1.5.0",
            "_view_name": "FloatSliderView",
            "continuous_update": true,
            "description": "sx_range_local_brigthness",
            "description_tooltip": null,
            "disabled": false,
            "layout": "IPY_MODEL_3eada252fe604dee902dd5eb979f8ab0",
            "max": 0.2,
            "min": 0,
            "orientation": "horizontal",
            "readout": true,
            "readout_format": ".2f",
            "step": 0.005,
            "style": "IPY_MODEL_f465cefe1f3e4cb0aec910464821dba6",
            "value": 0.1
          }
        },
        "3eada252fe604dee902dd5eb979f8ab0": {
          "model_module": "@jupyter-widgets/base",
          "model_name": "LayoutModel",
          "model_module_version": "1.2.0",
          "state": {
            "_model_module": "@jupyter-widgets/base",
            "_model_module_version": "1.2.0",
            "_model_name": "LayoutModel",
            "_view_count": null,
            "_view_module": "@jupyter-widgets/base",
            "_view_module_version": "1.2.0",
            "_view_name": "LayoutView",
            "align_content": null,
            "align_items": null,
            "align_self": null,
            "border": null,
            "bottom": null,
            "display": null,
            "flex": null,
            "flex_flow": null,
            "grid_area": null,
            "grid_auto_columns": null,
            "grid_auto_flow": null,
            "grid_auto_rows": null,
            "grid_column": null,
            "grid_gap": null,
            "grid_row": null,
            "grid_template_areas": null,
            "grid_template_columns": null,
            "grid_template_rows": null,
            "height": null,
            "justify_content": null,
            "justify_items": null,
            "left": null,
            "margin": null,
            "max_height": null,
            "max_width": null,
            "min_height": null,
            "min_width": null,
            "object_fit": null,
            "object_position": null,
            "order": null,
            "overflow": null,
            "overflow_x": null,
            "overflow_y": null,
            "padding": null,
            "right": null,
            "top": null,
            "visibility": null,
            "width": null
          }
        },
        "f465cefe1f3e4cb0aec910464821dba6": {
          "model_module": "@jupyter-widgets/controls",
          "model_name": "SliderStyleModel",
          "model_module_version": "1.5.0",
          "state": {
            "_model_module": "@jupyter-widgets/controls",
            "_model_module_version": "1.5.0",
            "_model_name": "SliderStyleModel",
            "_view_count": null,
            "_view_module": "@jupyter-widgets/base",
            "_view_module_version": "1.2.0",
            "_view_name": "StyleView",
            "description_width": "",
            "handle_color": null
          }
        },
        "ded8bcb7322b48ce8d98f648974796e2": {
          "model_module": "@jupyter-widgets/controls",
          "model_name": "FloatSliderModel",
          "model_module_version": "1.5.0",
          "state": {
            "_dom_classes": [],
            "_model_module": "@jupyter-widgets/controls",
            "_model_module_version": "1.5.0",
            "_model_name": "FloatSliderModel",
            "_view_count": null,
            "_view_module": "@jupyter-widgets/controls",
            "_view_module_version": "1.5.0",
            "_view_name": "FloatSliderView",
            "continuous_update": true,
            "description": "sy_range_local_brigthness",
            "description_tooltip": null,
            "disabled": false,
            "layout": "IPY_MODEL_3765ce508d774e23b74d8f8b9c1ea23e",
            "max": 0.2,
            "min": 0,
            "orientation": "horizontal",
            "readout": true,
            "readout_format": ".2f",
            "step": 0.005,
            "style": "IPY_MODEL_46d6745f3f04472cb9495ea93e050be3",
            "value": 0.1
          }
        },
        "3765ce508d774e23b74d8f8b9c1ea23e": {
          "model_module": "@jupyter-widgets/base",
          "model_name": "LayoutModel",
          "model_module_version": "1.2.0",
          "state": {
            "_model_module": "@jupyter-widgets/base",
            "_model_module_version": "1.2.0",
            "_model_name": "LayoutModel",
            "_view_count": null,
            "_view_module": "@jupyter-widgets/base",
            "_view_module_version": "1.2.0",
            "_view_name": "LayoutView",
            "align_content": null,
            "align_items": null,
            "align_self": null,
            "border": null,
            "bottom": null,
            "display": null,
            "flex": null,
            "flex_flow": null,
            "grid_area": null,
            "grid_auto_columns": null,
            "grid_auto_flow": null,
            "grid_auto_rows": null,
            "grid_column": null,
            "grid_gap": null,
            "grid_row": null,
            "grid_template_areas": null,
            "grid_template_columns": null,
            "grid_template_rows": null,
            "height": null,
            "justify_content": null,
            "justify_items": null,
            "left": null,
            "margin": null,
            "max_height": null,
            "max_width": null,
            "min_height": null,
            "min_width": null,
            "object_fit": null,
            "object_position": null,
            "order": null,
            "overflow": null,
            "overflow_x": null,
            "overflow_y": null,
            "padding": null,
            "right": null,
            "top": null,
            "visibility": null,
            "width": null
          }
        },
        "46d6745f3f04472cb9495ea93e050be3": {
          "model_module": "@jupyter-widgets/controls",
          "model_name": "SliderStyleModel",
          "model_module_version": "1.5.0",
          "state": {
            "_model_module": "@jupyter-widgets/controls",
            "_model_module_version": "1.5.0",
            "_model_name": "SliderStyleModel",
            "_view_count": null,
            "_view_module": "@jupyter-widgets/base",
            "_view_module_version": "1.2.0",
            "_view_name": "StyleView",
            "description_width": "",
            "handle_color": null
          }
        },
        "dd3fbe2be6e5444fbdf11c293be97a8b": {
          "model_module": "@jupyter-widgets/controls",
          "model_name": "ButtonModel",
          "model_module_version": "1.5.0",
          "state": {
            "_dom_classes": [],
            "_model_module": "@jupyter-widgets/controls",
            "_model_module_version": "1.5.0",
            "_model_name": "ButtonModel",
            "_view_count": null,
            "_view_module": "@jupyter-widgets/controls",
            "_view_module_version": "1.5.0",
            "_view_name": "ButtonView",
            "button_style": "",
            "description": "Confirmar distorções",
            "disabled": false,
            "icon": "",
            "layout": "IPY_MODEL_78ff68d6da744791a18bac3848d99bb2",
            "style": "IPY_MODEL_6d0a1ab7b57340aaaaebd9adcd45c572",
            "tooltip": ""
          }
        },
        "78ff68d6da744791a18bac3848d99bb2": {
          "model_module": "@jupyter-widgets/base",
          "model_name": "LayoutModel",
          "model_module_version": "1.2.0",
          "state": {
            "_model_module": "@jupyter-widgets/base",
            "_model_module_version": "1.2.0",
            "_model_name": "LayoutModel",
            "_view_count": null,
            "_view_module": "@jupyter-widgets/base",
            "_view_module_version": "1.2.0",
            "_view_name": "LayoutView",
            "align_content": null,
            "align_items": null,
            "align_self": null,
            "border": null,
            "bottom": null,
            "display": null,
            "flex": null,
            "flex_flow": null,
            "grid_area": null,
            "grid_auto_columns": null,
            "grid_auto_flow": null,
            "grid_auto_rows": null,
            "grid_column": null,
            "grid_gap": null,
            "grid_row": null,
            "grid_template_areas": null,
            "grid_template_columns": null,
            "grid_template_rows": null,
            "height": null,
            "justify_content": null,
            "justify_items": null,
            "left": null,
            "margin": null,
            "max_height": null,
            "max_width": null,
            "min_height": null,
            "min_width": null,
            "object_fit": null,
            "object_position": null,
            "order": null,
            "overflow": null,
            "overflow_x": null,
            "overflow_y": null,
            "padding": null,
            "right": null,
            "top": null,
            "visibility": null,
            "width": null
          }
        },
        "6d0a1ab7b57340aaaaebd9adcd45c572": {
          "model_module": "@jupyter-widgets/controls",
          "model_name": "ButtonStyleModel",
          "model_module_version": "1.5.0",
          "state": {
            "_model_module": "@jupyter-widgets/controls",
            "_model_module_version": "1.5.0",
            "_model_name": "ButtonStyleModel",
            "_view_count": null,
            "_view_module": "@jupyter-widgets/base",
            "_view_module_version": "1.2.0",
            "_view_name": "StyleView",
            "button_color": null,
            "font_weight": ""
          }
        },
        "c2670f9d02314ef79bf9e29a95e817dc": {
          "model_module": "@jupyter-widgets/output",
          "model_name": "OutputModel",
          "model_module_version": "1.0.0",
          "state": {
            "_dom_classes": [],
            "_model_module": "@jupyter-widgets/output",
            "_model_module_version": "1.0.0",
            "_model_name": "OutputModel",
            "_view_count": null,
            "_view_module": "@jupyter-widgets/output",
            "_view_module_version": "1.0.0",
            "_view_name": "OutputView",
            "layout": "IPY_MODEL_888898de0c4d4349bc79effe486d3952",
            "msg_id": "",
            "outputs": []
          }
        },
        "888898de0c4d4349bc79effe486d3952": {
          "model_module": "@jupyter-widgets/base",
          "model_name": "LayoutModel",
          "model_module_version": "1.2.0",
          "state": {
            "_model_module": "@jupyter-widgets/base",
            "_model_module_version": "1.2.0",
            "_model_name": "LayoutModel",
            "_view_count": null,
            "_view_module": "@jupyter-widgets/base",
            "_view_module_version": "1.2.0",
            "_view_name": "LayoutView",
            "align_content": null,
            "align_items": null,
            "align_self": null,
            "border": null,
            "bottom": null,
            "display": null,
            "flex": null,
            "flex_flow": null,
            "grid_area": null,
            "grid_auto_columns": null,
            "grid_auto_flow": null,
            "grid_auto_rows": null,
            "grid_column": null,
            "grid_gap": null,
            "grid_row": null,
            "grid_template_areas": null,
            "grid_template_columns": null,
            "grid_template_rows": null,
            "height": null,
            "justify_content": null,
            "justify_items": null,
            "left": null,
            "margin": null,
            "max_height": null,
            "max_width": null,
            "min_height": null,
            "min_width": null,
            "object_fit": null,
            "object_position": null,
            "order": null,
            "overflow": null,
            "overflow_x": null,
            "overflow_y": null,
            "padding": null,
            "right": null,
            "top": null,
            "visibility": null,
            "width": null
          }
        },
        "18e04f0e080943de8f8b5f342e9f2778": {
          "model_module": "@jupyter-widgets/controls",
          "model_name": "ButtonModel",
          "model_module_version": "1.5.0",
          "state": {
            "_dom_classes": [],
            "_model_module": "@jupyter-widgets/controls",
            "_model_module_version": "1.5.0",
            "_model_name": "ButtonModel",
            "_view_count": null,
            "_view_module": "@jupyter-widgets/controls",
            "_view_module_version": "1.5.0",
            "_view_name": "ButtonView",
            "button_style": "",
            "description": "Deletar memória",
            "disabled": false,
            "icon": "",
            "layout": "IPY_MODEL_5339a69cf0074a18bdc873b51f4269aa",
            "style": "IPY_MODEL_9f23c5f35ec04c7092ad37971ed6f63a",
            "tooltip": ""
          }
        },
        "5339a69cf0074a18bdc873b51f4269aa": {
          "model_module": "@jupyter-widgets/base",
          "model_name": "LayoutModel",
          "model_module_version": "1.2.0",
          "state": {
            "_model_module": "@jupyter-widgets/base",
            "_model_module_version": "1.2.0",
            "_model_name": "LayoutModel",
            "_view_count": null,
            "_view_module": "@jupyter-widgets/base",
            "_view_module_version": "1.2.0",
            "_view_name": "LayoutView",
            "align_content": null,
            "align_items": null,
            "align_self": null,
            "border": null,
            "bottom": null,
            "display": null,
            "flex": null,
            "flex_flow": null,
            "grid_area": null,
            "grid_auto_columns": null,
            "grid_auto_flow": null,
            "grid_auto_rows": null,
            "grid_column": null,
            "grid_gap": null,
            "grid_row": null,
            "grid_template_areas": null,
            "grid_template_columns": null,
            "grid_template_rows": null,
            "height": null,
            "justify_content": null,
            "justify_items": null,
            "left": null,
            "margin": null,
            "max_height": null,
            "max_width": null,
            "min_height": null,
            "min_width": null,
            "object_fit": null,
            "object_position": null,
            "order": null,
            "overflow": null,
            "overflow_x": null,
            "overflow_y": null,
            "padding": null,
            "right": null,
            "top": null,
            "visibility": null,
            "width": null
          }
        },
        "9f23c5f35ec04c7092ad37971ed6f63a": {
          "model_module": "@jupyter-widgets/controls",
          "model_name": "ButtonStyleModel",
          "model_module_version": "1.5.0",
          "state": {
            "_model_module": "@jupyter-widgets/controls",
            "_model_module_version": "1.5.0",
            "_model_name": "ButtonStyleModel",
            "_view_count": null,
            "_view_module": "@jupyter-widgets/base",
            "_view_module_version": "1.2.0",
            "_view_name": "StyleView",
            "button_color": null,
            "font_weight": ""
          }
        },
        "2aa32b8f82214bfd816495ba8be9ffc9": {
          "model_module": "@jupyter-widgets/output",
          "model_name": "OutputModel",
          "model_module_version": "1.0.0",
          "state": {
            "_dom_classes": [],
            "_model_module": "@jupyter-widgets/output",
            "_model_module_version": "1.0.0",
            "_model_name": "OutputModel",
            "_view_count": null,
            "_view_module": "@jupyter-widgets/output",
            "_view_module_version": "1.0.0",
            "_view_name": "OutputView",
            "layout": "IPY_MODEL_7cf54fae9a0a49179a2d278038609dd7",
            "msg_id": "",
            "outputs": []
          }
        },
        "7cf54fae9a0a49179a2d278038609dd7": {
          "model_module": "@jupyter-widgets/base",
          "model_name": "LayoutModel",
          "model_module_version": "1.2.0",
          "state": {
            "_model_module": "@jupyter-widgets/base",
            "_model_module_version": "1.2.0",
            "_model_name": "LayoutModel",
            "_view_count": null,
            "_view_module": "@jupyter-widgets/base",
            "_view_module_version": "1.2.0",
            "_view_name": "LayoutView",
            "align_content": null,
            "align_items": null,
            "align_self": null,
            "border": null,
            "bottom": null,
            "display": null,
            "flex": null,
            "flex_flow": null,
            "grid_area": null,
            "grid_auto_columns": null,
            "grid_auto_flow": null,
            "grid_auto_rows": null,
            "grid_column": null,
            "grid_gap": null,
            "grid_row": null,
            "grid_template_areas": null,
            "grid_template_columns": null,
            "grid_template_rows": null,
            "height": null,
            "justify_content": null,
            "justify_items": null,
            "left": null,
            "margin": null,
            "max_height": null,
            "max_width": null,
            "min_height": null,
            "min_width": null,
            "object_fit": null,
            "object_position": null,
            "order": null,
            "overflow": null,
            "overflow_x": null,
            "overflow_y": null,
            "padding": null,
            "right": null,
            "top": null,
            "visibility": null,
            "width": null
          }
        }
      }
    }
  },
  "nbformat": 4,
  "nbformat_minor": 0
}